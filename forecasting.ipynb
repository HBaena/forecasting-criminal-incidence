{
  "nbformat": 4,
  "nbformat_minor": 0,
  "metadata": {
    "celltoolbar": "Initialization Cell",
    "kernelspec": {
      "display_name": "Python 3",
      "language": "python",
      "name": "python3"
    },
    "language_info": {
      "codemirror_mode": {
        "name": "ipython",
        "version": 3
      },
      "file_extension": ".py",
      "mimetype": "text/x-python",
      "name": "python",
      "nbconvert_exporter": "python",
      "pygments_lexer": "ipython3",
      "version": "3.8.8"
    },
    "colab": {
      "name": "forecasting-Copy1.ipynb",
      "provenance": []
    }
  },
  "cells": [
    {
      "cell_type": "markdown",
      "metadata": {
        "id": "AQk0Um6HnWVJ"
      },
      "source": [
        "## Header"
      ]
    },
    {
      "cell_type": "code",
      "metadata": {
        "colab": {
          "base_uri": "https://localhost:8080/"
        },
        "id": "F9stN-rEnWVb",
        "outputId": "cd0f1f9a-6505-425e-f1f3-8c213fef3477"
      },
      "source": [
        "! pip install pandas\n",
        "! pip install plotly==4.14.3\n",
        "! pip install sklearn"
      ],
      "execution_count": 1,
      "outputs": [
        {
          "output_type": "stream",
          "text": [
            "Requirement already satisfied: pandas in /usr/local/lib/python3.7/dist-packages (1.1.5)\n",
            "Requirement already satisfied: pytz>=2017.2 in /usr/local/lib/python3.7/dist-packages (from pandas) (2018.9)\n",
            "Requirement already satisfied: python-dateutil>=2.7.3 in /usr/local/lib/python3.7/dist-packages (from pandas) (2.8.1)\n",
            "Requirement already satisfied: numpy>=1.15.4 in /usr/local/lib/python3.7/dist-packages (from pandas) (1.19.5)\n",
            "Requirement already satisfied: six>=1.5 in /usr/local/lib/python3.7/dist-packages (from python-dateutil>=2.7.3->pandas) (1.15.0)\n",
            "Requirement already satisfied: plotly==4.14.3 in /usr/local/lib/python3.7/dist-packages (4.14.3)\n",
            "Requirement already satisfied: six in /usr/local/lib/python3.7/dist-packages (from plotly==4.14.3) (1.15.0)\n",
            "Requirement already satisfied: retrying>=1.3.3 in /usr/local/lib/python3.7/dist-packages (from plotly==4.14.3) (1.3.3)\n",
            "Requirement already satisfied: sklearn in /usr/local/lib/python3.7/dist-packages (0.0)\n",
            "Requirement already satisfied: scikit-learn in /usr/local/lib/python3.7/dist-packages (from sklearn) (0.22.2.post1)\n",
            "Requirement already satisfied: scipy>=0.17.0 in /usr/local/lib/python3.7/dist-packages (from scikit-learn->sklearn) (1.4.1)\n",
            "Requirement already satisfied: joblib>=0.11 in /usr/local/lib/python3.7/dist-packages (from scikit-learn->sklearn) (1.0.1)\n",
            "Requirement already satisfied: numpy>=1.11.0 in /usr/local/lib/python3.7/dist-packages (from scikit-learn->sklearn) (1.19.5)\n"
          ],
          "name": "stdout"
        }
      ]
    },
    {
      "cell_type": "code",
      "metadata": {
        "ExecuteTime": {
          "end_time": "2021-05-19T03:09:53.353870Z",
          "start_time": "2021-05-19T03:09:51.540310Z"
        },
        "init_cell": true,
        "jupyter": {
          "source_hidden": true
        },
        "tags": [],
        "id": "DKAaQqVRnWVe"
      },
      "source": [
        "# Data handling\n",
        "import pandas as pd\n",
        "# Data visualization\n",
        "import plotly.express as px\n",
        "import plotly.graph_objects as go\n",
        "import plotly.figure_factory as ff\n",
        "from plotly.subplots import make_subplots\n",
        "# ML models\n",
        "\n",
        "from sklearn import svm\n",
        "from sklearn import linear_model\n",
        "from sklearn import neural_network\n",
        "# ML model accuracy metrics\n",
        "from sklearn.metrics import mean_squared_error, max_error, mean_absolute_error, median_absolute_error, explained_variance_score\n",
        "# model persistence\n",
        "import joblib\n",
        "# Miscellaneous\n",
        "from textwrap import shorten\n",
        "import functools\n",
        "import time\n",
        "from numpy import nan, linspace\n",
        "import numpy as np\n",
        "colors = (\n",
        "    '#d54062', '#ffa36c', '#799351', '#0f4c75',\n",
        "    '#3c2946', '#89c9b8', '#56556e', '#efbbcf',\n",
        "    '#005086', '#84a9ac','#4f8a8b', '#cedebd', \n",
        "    '#00b7c2', '#00bcd4', '#ff5722', '#4f8a8b',\n",
        "    '#848ccf', '#93b5e1', '#be5683', '#006a71',\n",
        "    '#5eaaa8', '#5eaaa8', '#557571', '#056676',\n",
        "    '#0f3460', '#16213e', '#ffaa71', '#fddb3a',\n",
        "    '#322f3d', '#59405c', '#87556f', '#4b5d67',\n",
        "    '#b0cac7', '#c3aed6', '#ed6663', '#ffa36c',\n",
        "    '#158467', '#16213e', '#197163', '#065446',\n",
        "    '#d9adad', '#776d8a', '#d3c09a', '#797a7e',\n",
        ")\n",
        "# xaxis=dict(rangeslider=dict(visible=True))\n",
        "from IPython.core.display import display, HTML\n",
        "title_style = '<span style=\"font-size: 20px;\">{0}</span>'\n",
        "subtitle_style = '<span style=\"font-size: 16px;\">{0}</span>'\n",
        "tick_style = '<span style=\"font-size: 10px;\">{0}</span>'\n",
        "custom_style = '<span style=\"{1}\">{0}</span>'\n",
        "font_size_style = '<span style=\"font-size:{1}px\">{0}</span>'\n",
        "models = (\n",
        "        neural_network.MLPRegressor(random_state=100, max_iter=10000, solver='lbfgs', tol=1e-05), \n",
        "        svm.SVR(max_iter=80000),\n",
        "        linear_model.LinearRegression(),\n",
        "        linear_model.BayesianRidge(),\n",
        "        linear_model.Ridge(max_iter=10000),\n",
        "        linear_model.SGDRegressor(random_state=10000),\n",
        ")\n",
        "\n",
        "names = ('MLPRegressor', 'SVR', 'LinearRegression','BayesianRidge', 'Ridge', 'SGDRegressor')\n",
        "alias = ('MLP', 'SVR', 'LR', 'BR', 'R', 'SGD')\n",
        "alias = dict(zip(names, alias))\n",
        "images_path = 'MCPR-2021/images/'\n",
        "city_func = np.median"
      ],
      "execution_count": 2,
      "outputs": []
    },
    {
      "cell_type": "markdown",
      "metadata": {
        "id": "PGLuVqWmnWVo"
      },
      "source": [
        "## Functions"
      ]
    },
    {
      "cell_type": "code",
      "metadata": {
        "ExecuteTime": {
          "end_time": "2021-05-19T03:09:53.396972Z",
          "start_time": "2021-05-19T03:09:53.371264Z"
        },
        "cell_style": "center",
        "code_folding": [
          0,
          19,
          22,
          28,
          34,
          49,
          53,
          56,
          63,
          76,
          108
        ],
        "init_cell": true,
        "jupyter": {
          "source_hidden": true
        },
        "tags": [],
        "id": "zMWwhlQbnWVq"
      },
      "source": [
        "def boxplot_multiindex_df(df, upper_level_index, lower_level_index):\n",
        "    figure = make_subplots(rows=len(lower_level_index), cols=1, \n",
        "                           subplot_titles=tuple(map(lambda s: s.replace('_', ' ').title(),lower_level_index)), \n",
        "                           shared_xaxes=True)\n",
        "    for j, index in enumerate(upper_level_index):\n",
        "        for i, column in enumerate(lower_level_index):\n",
        "#             print(index, column)\n",
        "            figure.add_trace(\n",
        "                go.Box(\n",
        "                        name=index,\n",
        "                        legendgroup=index,\n",
        "                        marker=dict(color=colors[j]),\n",
        "                        y=df[index][column], \n",
        "                        showlegend=bool(i)\n",
        "                      ),\n",
        "                        row=i+1, col=1\n",
        "            )\n",
        "    return figure\n",
        "\n",
        "def dict_of_df_to_multiindex_df(dictionary, axis=1):\n",
        "    return pd.concat(dictionary.values(), keys=dictionary.keys(), axis=axis)\n",
        "\n",
        "def split_timeserie_train_test(df, begin, train_size, test_size):\n",
        "    return (\n",
        "        (df.iloc[begin + i:train_size + i], \n",
        "         df.iloc[train_size + i:train_size + test_size + i]) for i in range(0, len(df) - train_size, test_size)\n",
        "    )\n",
        "\n",
        "def transform_df_to_timeserie(df:pd.DataFrame, value:str, column:str, index:str, min_value:str=0) -> pd.DataFrame:\n",
        "    tmp = df.groupby(column)[value].sum()\n",
        "    columns = tmp[tmp > min_value].index\n",
        "    pivot = df.pivot_table(index=index, columns=column, values=value ,aggfunc=sum)[columns]\n",
        "    return pivot\n",
        "\n",
        "def plot_multivariate_timeserie(df:pd.DataFrame, normalize:bool=False):\n",
        "    '''\n",
        "        Line plot of a dataframe\n",
        "        Assumes that df has datetime index\n",
        "        df:           Pandas dataframe where each column is a variable\n",
        "        normalize:    Normalize by maximum\n",
        "        \n",
        "        return plotly figure\n",
        "    '''\n",
        "    tmp_df = df/df.max()\n",
        "    figure = go.Figure()\n",
        "    for col in tmp_df:\n",
        "        figure.add_trace(go.Scatter(x=tmp_df.index, y=tmp_df[col], name=col))\n",
        "    return figure.update_layout(xaxis=dict(rangeslider=dict(visible=True)))\n",
        "\n",
        "def get_features(df: pd.DataFrame, target):\n",
        "    target = tuple(target)\n",
        "    return df.columns[functools.reduce( lambda before, item: before & item,(df.columns != t for t in target))]\n",
        "\n",
        "def slinding_window(df: pd.DataFrame, width: int):\n",
        "    return df.shift(width)\n",
        "    \n",
        "def multiple_slinding_window(df:pd.DataFrame, periods:iter=[1,2,3]):\n",
        "#     if not features:\n",
        "#         features = get_features(df, target)\n",
        "    return pd.concat((slinding_window(df, i) for i in periods), axis='columns')\n",
        "\n",
        "def test_model(model, x_train, y_train,x_test, y_test, metrics):\n",
        "    \n",
        "    results = dict()\n",
        "    t1 = time.process_time_ns() # Meassure time before training\n",
        "    model.fit(x_train, y_train) # Train model inline\n",
        "    t2 = time.process_time_ns() # Meassure time after training\n",
        "    predictions = model.predict(x_test) # Predict with the test data\n",
        "    for metric in metrics:\n",
        "        results[metric.__name__] = metric(y_test, predictions) # Verify performance\n",
        "    results['time'] = t2 - t1\n",
        "    return results\n",
        "\n",
        "def test_model_progressive(model, x, y, begin, metrics, function=lambda x: x.mean(), step=2):\n",
        "    '''\n",
        "        Test a model with a window of n observations and test with the n+k one. After the first test,\n",
        "        the window is expanded by k observations and it is tested again. The results of the tests are \n",
        "        reduced by a given function.\n",
        "        \n",
        "        model: (sklear.model) sklearn model that will be trained\n",
        "        x: (pandas.DataFrame) features \n",
        "        y: (pandas.DataFrame o pandas.Series) target\n",
        "        metrics: (sklearn.metric) Metrics to be meassured\n",
        "        funcition: (callable) Function that will reduce the results\n",
        "        begin: (int) The n observation in the x and y\n",
        "        step: (int) the k value\n",
        "        \n",
        "        return: (pd.Series) A serie withe the reduced values of the metrics.\n",
        "    '''\n",
        "    step -= 1\n",
        "    results = {metric.__name__: 0 for metric in metrics}\n",
        "    end = len(x)\n",
        "    t1 = time.process_time_ns() # Meassure time before training\n",
        "    model.fit(x.iloc[:begin], y.iloc[:begin]) # Train model inline\n",
        "    _range = list(range(1, end - begin, step))\n",
        "    for i in _range:\n",
        "        prediction = model.predict(x.iloc[begin + i: begin + i + step])\n",
        "        for metric in metrics:\n",
        "            results[metric.__name__] += metric(y.iloc[begin + i: begin + i + step], prediction)/len(_range) # Verify performance\n",
        "                \n",
        "        model.fit(x.iloc[begin + i: begin + i + step], y.iloc[begin + i: begin + i + step])\n",
        "    t2 = time.process_time_ns() # Meassure time before training\n",
        "    results['time'] = t2 - t1\n",
        "    return results\n",
        "\n",
        "def heatmap(x,y,z, colorscale='reds', \n",
        "             template='X: %{x}<br>Y: %{y}<br>Z: %{z}'):\n",
        "    return go.Figure(go.Heatmap(\n",
        "        z=tmp.abs().T,\n",
        "        x=tmp.index,\n",
        "        colorscale='reds',\n",
        "    #     hoverinfo=tmp.index,\n",
        "    #     text=tmp.index,\n",
        "    #     hovertext=tmp.index,\n",
        "        hovertemplate=template,\n",
        "        name=''\n",
        "    ))"
      ],
      "execution_count": 4,
      "outputs": []
    },
    {
      "cell_type": "markdown",
      "metadata": {
        "id": "DqDLql8lnWVs"
      },
      "source": [
        "## Code"
      ]
    },
    {
      "cell_type": "markdown",
      "metadata": {
        "id": "RfjukKTInWVz"
      },
      "source": [
        "### Dataframe 2"
      ]
    },
    {
      "cell_type": "code",
      "metadata": {
        "ExecuteTime": {
          "end_time": "2021-05-19T03:10:26.139847Z",
          "start_time": "2021-05-19T03:10:25.617233Z"
        },
        "code_folding": [
          0,
          4
        ],
        "init_cell": true,
        "id": "ah76vLbjnWV1"
      },
      "source": [
        "link = 'https://raw.githubusercontent.com/HBaena/forecasting-criminal-incidence/main/incidencia-cdmx.feather'\n",
        "# https://github.com/HBaena/forecasting-criminal-incidence/blob/main/rw-wr.feather\n",
        "df = pd.read_feather(link)\n",
        "df.head(5)  # 15 municipios con más delitos\n",
        "keys = df['Municipio'].unique()\n",
        "df = pd.concat((df.query(f'Municipio==\"{city}\"') for city in df['Municipio'].unique()),\n",
        "         keys=keys, axis=0)"
      ],
      "execution_count": 5,
      "outputs": []
    },
    {
      "cell_type": "code",
      "metadata": {
        "ExecuteTime": {
          "end_time": "2021-05-19T03:10:26.699190Z",
          "start_time": "2021-05-19T03:10:26.141593Z"
        },
        "code_folding": [
          5,
          12
        ],
        "init_cell": true,
        "jupyter": {
          "source_hidden": true
        },
        "tags": [],
        "id": "eEVZmi_AnWV2"
      },
      "source": [
        "value = 'Incidencia'\n",
        "column = 'Subtipo de delito'\n",
        "index = 'Date'\n",
        "min_value = 100\n",
        "\n",
        "tmp = pd.concat(\n",
        "    (transform_df_to_timeserie(\n",
        "        _df, value, column, \n",
        "        index, min_value).loc[:'2020-04-01'] for _, _df in df.groupby(level=[0])),\n",
        "    keys=keys, axis=0\n",
        ")\n",
        "# Setting level 1 as datetime\n",
        "tmp.index = tmp.index.set_levels([\n",
        "    tmp.index.levels[0],\n",
        "    pd.to_datetime(tmp.index.levels[1])\n",
        "]).set_names(['city', 'date'])\n",
        "# # Sample dataframe by weeks\n",
        "# tmp = pivot.resample('M').sum()\n",
        "# # Normalize between 0 and 1\n",
        "# tmp.head(30)"
      ],
      "execution_count": 6,
      "outputs": []
    },
    {
      "cell_type": "code",
      "metadata": {
        "ExecuteTime": {
          "end_time": "2021-01-12T06:49:15.364506Z",
          "start_time": "2021-01-12T06:49:15.359859Z"
        },
        "cell_style": "center",
        "scrolled": true,
        "id": "ZJ97fADonWV3"
      },
      "source": [
        "# plot_multivariate_timeserie(tmp, normalize=True).update_layout(title=title_style.format('Behavior of crimes over time'),\n",
        "#                                                                xaxis=dict(title='Date'),\n",
        "#                                                                yaxis=dict(title='Crimes (Normilized)')\n",
        "#                                                               )"
      ],
      "execution_count": 7,
      "outputs": []
    },
    {
      "cell_type": "code",
      "metadata": {
        "ExecuteTime": {
          "end_time": "2021-05-19T03:10:26.758682Z",
          "start_time": "2021-05-19T03:10:26.702077Z"
        },
        "init_cell": true,
        "id": "A3zp9Jl_nWV3"
      },
      "source": [
        "# Normalize\n",
        "target = 'Homicidio doloso'\n",
        "features = tmp.columns[tmp.columns != target]\n",
        "\n",
        "data_max = tmp.groupby(level=0).max().fillna(1)\n",
        "\n",
        "data = pd.concat((_df/data_max.loc[idx] for idx, _df in tmp.groupby(level=0)), axis=0)\n",
        "\n",
        "target_col = tmp[target].copy().rename('Target')\n",
        "target_col = data[target].copy().rename('Target')"
      ],
      "execution_count": 8,
      "outputs": []
    },
    {
      "cell_type": "markdown",
      "metadata": {
        "pycharm": {
          "name": "#%% md\n"
        },
        "id": "G-hto4OrnWV9"
      },
      "source": [
        "## Sliding window"
      ]
    },
    {
      "cell_type": "code",
      "metadata": {
        "ExecuteTime": {
          "end_time": "2021-01-26T02:08:53.163386Z",
          "start_time": "2021-01-26T02:08:53.138136Z"
        },
        "code_folding": [
          13,
          70,
          96
        ],
        "id": "Vbz06WSznWV9"
      },
      "source": [
        "# ---------------\n",
        "# Slinding window\n",
        "# ---------------\n",
        "def test_method(model, data_train_test, metrics, offset):\n",
        "    cities_dict = dict() \n",
        "    for city, _data in data_train_test.groupby(level=0):\n",
        "        begin = len(data_train_test.loc[city].loc[:'2018'][offset:])\n",
        "        cities_dict[city] = test_model_progressive(model, \n",
        "                            data_train_test.loc[city][features][offset:],\n",
        "                            data_train_test.loc[city]['Target'][offset:],\n",
        "                            begin, metrics, 1)\n",
        "    return cities_dict\n",
        "\n",
        "def sliding_window_test(data, models, offsets, metrics, replacement=True):\n",
        "    '''\n",
        "        Make test over different models using sliding window method\n",
        "        data:           Data in multivariate format and multi index. \n",
        "                        Each index corresponding to a city and each column\n",
        "                        to a crime\n",
        "        models:         Iterable of sklear models\n",
        "        offsets:        Iterable of differet window widths to test\n",
        "        metrics:        Metrics to meassure\n",
        "        replacement:    If each iterations will replace data from past ones or not\n",
        "        \n",
        "        return a Pandas DataFrame multi index with level [model, offset, city] and \n",
        "        columns corresponding of each metric \n",
        "    '''\n",
        "    \n",
        "    models_dict = dict()\n",
        "    for model in models:\n",
        "        offset_dict = dict()\n",
        "        data_train_test = data[target].rename('Target')\n",
        "    #     data_train_test = dict()\n",
        "        for offset in offsets:\n",
        "            data_train_test = pd.concat(\n",
        "                                [\n",
        "                                    data[target].rename('Target') if replacement else \\\n",
        "                                    data_train_test,\n",
        "                                    data.groupby(level=0).shift(offset)\n",
        "                                ], axis=1).fillna(0)\n",
        "#             return data_train_test\n",
        "            cities_dict = test_method(model, data_train_test, metrics, offset)\n",
        "            offset_dict[offset] = pd.DataFrame(map(lambda x: pd.Series(x), cities_dict.values()), cities_dict.keys())\n",
        "        models_dict[model.__class__.__name__] = pd.concat(offset_dict.values(), keys=offset_dict.keys())\n",
        "    df_multi = pd.concat(models_dict.values(), keys=models_dict.keys())\n",
        "    df_multi.index = df_multi.index.set_names(['model', 'offset', 'city'])\n",
        "    return df_multi\n",
        "\n",
        "def boxplot_multiindex_df(df, column, legend, layout=dict()):\n",
        "    '''\n",
        "        Boxplot of a multiindex dataframe (two levels)\n",
        "        df:         Pandas multiindex DataFrame\n",
        "        columns:    Columns to plot\n",
        "        \n",
        "        return a Plotly figure object (go.Figure)\n",
        "    '''\n",
        "    layout = {**dict(showlegend=True,autosize=False), **layout}\n",
        "\n",
        "    figure = go.Figure()\n",
        "    for j, _df in enumerate(tmp.groupby(level=0)):\n",
        "        name, _df = _df\n",
        "        figure.add_trace(\n",
        "            go.Box(\n",
        "                    name=legend[name],\n",
        "                    marker=dict(color=colors[j]),\n",
        "                    y=_df[column], \n",
        "                  ),\n",
        "        )\n",
        "    return figure.update_layout(layout)\n",
        "\n",
        "def scatter_multiindex_df(df, column,legend, layout=dict()):\n",
        "    '''\n",
        "        Scatter of a multiindex dataframe (two levels)\n",
        "        df:         Pandas multiindex DataFrame\n",
        "        columns:    Columns to plot\n",
        "        \n",
        "        return a Plotly figure object (go.Figure)\n",
        "    '''\n",
        "    layout = {**dict(showlegend=True,autosize=False), **layout}\n",
        "    figure = go.Figure()\n",
        "    for j, _df in enumerate(tmp.groupby(level=0)):\n",
        "        name, _df = _df\n",
        "#         print(_df[column])\n",
        "        figure.add_trace(\n",
        "                go.Scatter(\n",
        "                    x=list(map(lambda x: x[1], _df.index)), \n",
        "#                         y=(100*())/() + 1,\n",
        "                    y=_df[column],\n",
        "#                     y=(100*(_df[column] - min_.loc[column]))/((max_.loc[column] - min_.loc[column])) + 1, \n",
        "                    name=legend[name],\n",
        "                    marker=dict(color=colors[j]),\n",
        "                    legendgroup=name,\n",
        "#                     showlegend=bool(i)\n",
        "                ))\n",
        "    return figure.update_layout(layout)\n",
        "\n",
        "def rolling_stats_window_test(data, models, functions, offsets, metrics, test_method, replacement=True):\n",
        "    '''\n",
        "        Make test over different models using sliding window method\n",
        "        data:           Data in multivariate format and multi index. \n",
        "                        Each index corresponding to a city and each column\n",
        "                        to a crime\n",
        "        models:         Iterable of sklear models\n",
        "        offsets:        Iterable of differet window widths to test\n",
        "        metrics:        Metrics to meassure\n",
        "        replacement:    If each iterations will replace data from past ones or not\n",
        "        \n",
        "        return a Pandas DataFrame multi index with level [model, offset, city] and \n",
        "        columns corresponding of each metric \n",
        "    '''\n",
        "    models_dict = dict()\n",
        "    for model in models:\n",
        "        functions_dict = dict()\n",
        "        for name, function in functions.items():\n",
        "            offset_dict = dict()\n",
        "            data_train_test = data[target].rename('Target')\n",
        "            for offset in range(1, 13):\n",
        "                data_train_test = pd.concat(\n",
        "                        [\n",
        "                            data[target].rename('Target') if replacement else \\\n",
        "                            data_train_test,\n",
        "                            function(data.groupby(level='city').rolling(offset + 1)).reset_index(level=0, drop=True)\n",
        "                        ], axis=1).fillna(0)\n",
        "#                 cities_dict = dict()\n",
        "                cities_dict = test_method(model, data_train_test, metrics, offset)\n",
        "                offset_dict[offset] = pd.DataFrame(map(lambda x: pd.Series(x), cities_dict.values()), cities_dict.keys())            \n",
        "            functions_dict[name] = pd.concat(offset_dict.values(), keys=offset_dict.keys())\n",
        "\n",
        "        models_dict[model.__class__.__name__] = pd.concat(functions_dict.values(), keys=functions_dict.keys())\n",
        "    df_multi = pd.concat(models_dict.values(), keys=models_dict.keys())\n",
        "    df_multi.index = df_multi.index.set_names(['model', 'function', 'offset', 'city'])\n",
        "    return df_multi"
      ],
      "execution_count": 9,
      "outputs": []
    },
    {
      "cell_type": "markdown",
      "metadata": {
        "pycharm": {
          "name": "#%% md\n"
        },
        "id": "4JAUshLLnWV9"
      },
      "source": [
        "### Replacement"
      ]
    },
    {
      "cell_type": "code",
      "metadata": {
        "ExecuteTime": {
          "end_time": "2021-01-26T02:09:04.429212Z",
          "start_time": "2021-01-26T02:08:58.085025Z"
        },
        "code_folding": [],
        "id": "e7KQf1ylnWV-",
        "colab": {
          "base_uri": "https://localhost:8080/",
          "height": 717
        },
        "outputId": "e999a1e5-6f7c-48d3-e090-9e838dd34a50"
      },
      "source": [
        "# Test sliding window with replacment\n",
        "tickfont = dict(size = 14,color = 'black',)\n",
        "margin = dict(\n",
        "    l=0,\n",
        "    r=0,\n",
        "    b=0,\n",
        "    t=5,\n",
        "    pad=5\n",
        ")\n",
        "fig_width = 500\n",
        "fig_height = 350 \n",
        "layout = dict(margin=margin, height=fig_height, width=fig_width, xaxis=dict(tickfont=tickfont,),yaxis=dict(tickfont=tickfont))\n",
        "replacement = True\n",
        "metrics = (mean_absolute_error, mean_squared_error)\n",
        "models = (\n",
        "        neural_network.MLPRegressor(random_state=100, max_iter=10000, solver='lbfgs', tol=1e-05), \n",
        "        svm.SVR(max_iter=80000),\n",
        "        linear_model.LinearRegression(),\n",
        "        linear_model.BayesianRidge(),\n",
        "        linear_model.Ridge(max_iter=10000),\n",
        "        linear_model.SGDRegressor(random_state=10000),\n",
        ")\n",
        "offsets = tuple(range(1, 13))\n",
        "# df_multi = sliding_window_test(data, models, offsets, metrics, replacement)\n",
        "link = 'https://raw.githubusercontent.com/HBaena/forecasting-criminal-incidence/main/sw-r.feather'\n",
        "df_multi = pd.read_feather(link)\n",
        "df_multi.set_index(['model', 'offset', 'city'], inplace=True)\n",
        "# Plot boxplot\n",
        "tmp = df_multi.groupby(level=[0, 1]).agg(city_func)\n",
        "figure = boxplot_multiindex_df(tmp, 'mean_absolute_error', alias, layout=dict(**layout, **dict(showlegend=False)))\n",
        "figure.update_xaxes(title=subtitle_style.format('Window width'))\n",
        "figure.update_layout(\n",
        "                    width=400,\n",
        "                    legend=dict(title=subtitle_style.format('Model'))\n",
        ").show(render='svg')\n",
        "# # figure.write_image(f'{images_path}boxplot-sw-error-r.pdf')  # Uncomment locally\n",
        "# Plot scatterplot\n",
        "figure = scatter_multiindex_df(tmp, 'mean_absolute_error', alias, layout=layout)\n",
        "# figure.update_yaxes(type=\"log\")\n",
        "figure.update_xaxes(title='Window width', nticks=12\n",
        "                   ).update_xaxes(title=subtitle_style.format('Window width')).update_layout(\n",
        "                    legend=dict(title=subtitle_style.format('Model')),width=600).show(render='svg')\n",
        "# # figure.write_image(f'{images_path}scatter-sw-error-r.pdf')  # Uncomment locally\n",
        "min_sw_r = tmp.groupby(level='model').min()['mean_absolute_error']"
      ],
      "execution_count": 10,
      "outputs": [
        {
          "output_type": "display_data",
          "data": {
            "text/html": [
              "<html>\n",
              "<head><meta charset=\"utf-8\" /></head>\n",
              "<body>\n",
              "    <div>            <script src=\"https://cdnjs.cloudflare.com/ajax/libs/mathjax/2.7.5/MathJax.js?config=TeX-AMS-MML_SVG\"></script><script type=\"text/javascript\">if (window.MathJax) {MathJax.Hub.Config({SVG: {font: \"STIX-Web\"}});}</script>                <script type=\"text/javascript\">window.PlotlyConfig = {MathJaxConfig: 'local'};</script>\n",
              "        <script src=\"https://cdn.plot.ly/plotly-latest.min.js\"></script>                <div id=\"1f97b6ee-e291-4708-ac50-e4f822be11aa\" class=\"plotly-graph-div\" style=\"height:350px; width:400px;\"></div>            <script type=\"text/javascript\">                                    window.PLOTLYENV=window.PLOTLYENV || {};                                    if (document.getElementById(\"1f97b6ee-e291-4708-ac50-e4f822be11aa\")) {                    Plotly.newPlot(                        \"1f97b6ee-e291-4708-ac50-e4f822be11aa\",                        [{\"marker\": {\"color\": \"#d54062\"}, \"name\": \"BR\", \"type\": \"box\", \"y\": [0.1439987081161092, 0.143623016289967, 0.1420094034444598, 0.1397578357251536, 0.1375548980632466, 0.1394708443717, 0.1386381612138519, 0.1385398766263065, 0.13781844282294, 0.138767600106093, 0.1370519278782332, 0.139402165283256]}, {\"marker\": {\"color\": \"#ffa36c\"}, \"name\": \"LR\", \"type\": \"box\", \"y\": [0.1775383334949043, 0.1557261193614222, 0.1505132735673507, 0.1483366425417888, 0.1772273383388725, 0.1558225984673602, 0.1774197828220799, 0.156133162015152, 0.179812152042889, 0.1680640748457059, 0.1682402900627902, 0.1889444678225687]}, {\"marker\": {\"color\": \"#799351\"}, \"name\": \"MLP\", \"type\": \"box\", \"y\": [0.1600458860198085, 0.147352917263907, 0.1549172984486661, 0.155308169097724, 0.1444129768055292, 0.1394758777231757, 0.1437965360549974, 0.1505231944334044, 0.1439630128388065, 0.1454634964289083, 0.1593802757768237, 0.1398981351973031]}, {\"marker\": {\"color\": \"#0f4c75\"}, \"name\": \"R\", \"type\": \"box\", \"y\": [0.1434180409891098, 0.1435063733194851, 0.1406516937938464, 0.1392497181279754, 0.1379551128507713, 0.1436133783974446, 0.1409438634382694, 0.1371878928681628, 0.1374202178284158, 0.1398341256945677, 0.1366358264053972, 0.1394903952769274]}, {\"marker\": {\"color\": \"#3c2946\"}, \"name\": \"SGD\", \"type\": \"box\", \"y\": [0.170109160605094, 0.169828436284865, 0.1735447288945425, 0.1703246901432229, 0.1753869072475086, 0.1703579329551348, 0.1779735780090014, 0.1793626365230694, 0.1878062828179259, 0.1845571015856748, 0.178159157779199, 0.1736438200630727]}, {\"marker\": {\"color\": \"#89c9b8\"}, \"name\": \"SVR\", \"type\": \"box\", \"y\": [0.1398538705211484, 0.1376464336645833, 0.1425182807207572, 0.141904227292463, 0.1393862894588659, 0.1445424944071954, 0.1412906244812501, 0.1365528193647723, 0.1407212339770238, 0.1398425249274781, 0.1374248106003316, 0.1391915191830501]}],                        {\"autosize\": false, \"height\": 350, \"legend\": {\"title\": {\"text\": \"<span style=\\\"font-size: 16px;\\\">Model</span>\"}}, \"margin\": {\"b\": 0, \"l\": 0, \"pad\": 5, \"r\": 0, \"t\": 5}, \"showlegend\": false, \"template\": {\"data\": {\"bar\": [{\"error_x\": {\"color\": \"#2a3f5f\"}, \"error_y\": {\"color\": \"#2a3f5f\"}, \"marker\": {\"line\": {\"color\": \"#E5ECF6\", \"width\": 0.5}}, \"type\": \"bar\"}], \"barpolar\": [{\"marker\": {\"line\": {\"color\": \"#E5ECF6\", \"width\": 0.5}}, \"type\": \"barpolar\"}], \"carpet\": [{\"aaxis\": {\"endlinecolor\": \"#2a3f5f\", \"gridcolor\": \"white\", \"linecolor\": \"white\", \"minorgridcolor\": \"white\", \"startlinecolor\": \"#2a3f5f\"}, \"baxis\": {\"endlinecolor\": \"#2a3f5f\", \"gridcolor\": \"white\", \"linecolor\": \"white\", \"minorgridcolor\": \"white\", \"startlinecolor\": \"#2a3f5f\"}, \"type\": \"carpet\"}], \"choropleth\": [{\"colorbar\": {\"outlinewidth\": 0, \"ticks\": \"\"}, \"type\": \"choropleth\"}], \"contour\": [{\"colorbar\": {\"outlinewidth\": 0, \"ticks\": \"\"}, \"colorscale\": [[0.0, \"#0d0887\"], [0.1111111111111111, \"#46039f\"], [0.2222222222222222, \"#7201a8\"], [0.3333333333333333, \"#9c179e\"], [0.4444444444444444, \"#bd3786\"], [0.5555555555555556, \"#d8576b\"], [0.6666666666666666, \"#ed7953\"], [0.7777777777777778, \"#fb9f3a\"], [0.8888888888888888, \"#fdca26\"], [1.0, \"#f0f921\"]], \"type\": \"contour\"}], \"contourcarpet\": [{\"colorbar\": {\"outlinewidth\": 0, \"ticks\": \"\"}, \"type\": \"contourcarpet\"}], \"heatmap\": [{\"colorbar\": {\"outlinewidth\": 0, \"ticks\": \"\"}, \"colorscale\": [[0.0, \"#0d0887\"], [0.1111111111111111, \"#46039f\"], [0.2222222222222222, \"#7201a8\"], [0.3333333333333333, \"#9c179e\"], [0.4444444444444444, \"#bd3786\"], [0.5555555555555556, \"#d8576b\"], [0.6666666666666666, \"#ed7953\"], [0.7777777777777778, \"#fb9f3a\"], [0.8888888888888888, \"#fdca26\"], [1.0, \"#f0f921\"]], \"type\": \"heatmap\"}], \"heatmapgl\": [{\"colorbar\": {\"outlinewidth\": 0, \"ticks\": \"\"}, \"colorscale\": [[0.0, \"#0d0887\"], [0.1111111111111111, \"#46039f\"], [0.2222222222222222, \"#7201a8\"], [0.3333333333333333, \"#9c179e\"], [0.4444444444444444, \"#bd3786\"], [0.5555555555555556, \"#d8576b\"], [0.6666666666666666, \"#ed7953\"], [0.7777777777777778, \"#fb9f3a\"], [0.8888888888888888, \"#fdca26\"], [1.0, \"#f0f921\"]], \"type\": \"heatmapgl\"}], \"histogram\": [{\"marker\": {\"colorbar\": {\"outlinewidth\": 0, \"ticks\": \"\"}}, \"type\": \"histogram\"}], \"histogram2d\": [{\"colorbar\": {\"outlinewidth\": 0, \"ticks\": \"\"}, \"colorscale\": [[0.0, \"#0d0887\"], [0.1111111111111111, \"#46039f\"], [0.2222222222222222, \"#7201a8\"], [0.3333333333333333, \"#9c179e\"], [0.4444444444444444, \"#bd3786\"], [0.5555555555555556, \"#d8576b\"], [0.6666666666666666, \"#ed7953\"], [0.7777777777777778, \"#fb9f3a\"], [0.8888888888888888, \"#fdca26\"], [1.0, \"#f0f921\"]], \"type\": \"histogram2d\"}], \"histogram2dcontour\": [{\"colorbar\": {\"outlinewidth\": 0, \"ticks\": \"\"}, \"colorscale\": [[0.0, \"#0d0887\"], [0.1111111111111111, \"#46039f\"], [0.2222222222222222, \"#7201a8\"], [0.3333333333333333, \"#9c179e\"], [0.4444444444444444, \"#bd3786\"], [0.5555555555555556, \"#d8576b\"], [0.6666666666666666, \"#ed7953\"], [0.7777777777777778, \"#fb9f3a\"], [0.8888888888888888, \"#fdca26\"], [1.0, \"#f0f921\"]], \"type\": \"histogram2dcontour\"}], \"mesh3d\": [{\"colorbar\": {\"outlinewidth\": 0, \"ticks\": \"\"}, \"type\": \"mesh3d\"}], \"parcoords\": [{\"line\": {\"colorbar\": {\"outlinewidth\": 0, \"ticks\": \"\"}}, \"type\": \"parcoords\"}], \"pie\": [{\"automargin\": true, \"type\": \"pie\"}], \"scatter\": [{\"marker\": {\"colorbar\": {\"outlinewidth\": 0, \"ticks\": \"\"}}, \"type\": \"scatter\"}], \"scatter3d\": [{\"line\": {\"colorbar\": {\"outlinewidth\": 0, \"ticks\": \"\"}}, \"marker\": {\"colorbar\": {\"outlinewidth\": 0, \"ticks\": \"\"}}, \"type\": \"scatter3d\"}], \"scattercarpet\": [{\"marker\": {\"colorbar\": {\"outlinewidth\": 0, \"ticks\": \"\"}}, \"type\": \"scattercarpet\"}], \"scattergeo\": [{\"marker\": {\"colorbar\": {\"outlinewidth\": 0, \"ticks\": \"\"}}, \"type\": \"scattergeo\"}], \"scattergl\": [{\"marker\": {\"colorbar\": {\"outlinewidth\": 0, \"ticks\": \"\"}}, \"type\": \"scattergl\"}], \"scattermapbox\": [{\"marker\": {\"colorbar\": {\"outlinewidth\": 0, \"ticks\": \"\"}}, \"type\": \"scattermapbox\"}], \"scatterpolar\": [{\"marker\": {\"colorbar\": {\"outlinewidth\": 0, \"ticks\": \"\"}}, \"type\": \"scatterpolar\"}], \"scatterpolargl\": [{\"marker\": {\"colorbar\": {\"outlinewidth\": 0, \"ticks\": \"\"}}, \"type\": \"scatterpolargl\"}], \"scatterternary\": [{\"marker\": {\"colorbar\": {\"outlinewidth\": 0, \"ticks\": \"\"}}, \"type\": \"scatterternary\"}], \"surface\": [{\"colorbar\": {\"outlinewidth\": 0, \"ticks\": \"\"}, \"colorscale\": [[0.0, \"#0d0887\"], [0.1111111111111111, \"#46039f\"], [0.2222222222222222, \"#7201a8\"], [0.3333333333333333, \"#9c179e\"], [0.4444444444444444, \"#bd3786\"], [0.5555555555555556, \"#d8576b\"], [0.6666666666666666, \"#ed7953\"], [0.7777777777777778, \"#fb9f3a\"], [0.8888888888888888, \"#fdca26\"], [1.0, \"#f0f921\"]], \"type\": \"surface\"}], \"table\": [{\"cells\": {\"fill\": {\"color\": \"#EBF0F8\"}, \"line\": {\"color\": \"white\"}}, \"header\": {\"fill\": {\"color\": \"#C8D4E3\"}, \"line\": {\"color\": \"white\"}}, \"type\": \"table\"}]}, \"layout\": {\"annotationdefaults\": {\"arrowcolor\": \"#2a3f5f\", \"arrowhead\": 0, \"arrowwidth\": 1}, \"autotypenumbers\": \"strict\", \"coloraxis\": {\"colorbar\": {\"outlinewidth\": 0, \"ticks\": \"\"}}, \"colorscale\": {\"diverging\": [[0, \"#8e0152\"], [0.1, \"#c51b7d\"], [0.2, \"#de77ae\"], [0.3, \"#f1b6da\"], [0.4, \"#fde0ef\"], [0.5, \"#f7f7f7\"], [0.6, \"#e6f5d0\"], [0.7, \"#b8e186\"], [0.8, \"#7fbc41\"], [0.9, \"#4d9221\"], [1, \"#276419\"]], \"sequential\": [[0.0, \"#0d0887\"], [0.1111111111111111, \"#46039f\"], [0.2222222222222222, \"#7201a8\"], [0.3333333333333333, \"#9c179e\"], [0.4444444444444444, \"#bd3786\"], [0.5555555555555556, \"#d8576b\"], [0.6666666666666666, \"#ed7953\"], [0.7777777777777778, \"#fb9f3a\"], [0.8888888888888888, \"#fdca26\"], [1.0, \"#f0f921\"]], \"sequentialminus\": [[0.0, \"#0d0887\"], [0.1111111111111111, \"#46039f\"], [0.2222222222222222, \"#7201a8\"], [0.3333333333333333, \"#9c179e\"], [0.4444444444444444, \"#bd3786\"], [0.5555555555555556, \"#d8576b\"], [0.6666666666666666, \"#ed7953\"], [0.7777777777777778, \"#fb9f3a\"], [0.8888888888888888, \"#fdca26\"], [1.0, \"#f0f921\"]]}, \"colorway\": [\"#636efa\", \"#EF553B\", \"#00cc96\", \"#ab63fa\", \"#FFA15A\", \"#19d3f3\", \"#FF6692\", \"#B6E880\", \"#FF97FF\", \"#FECB52\"], \"font\": {\"color\": \"#2a3f5f\"}, \"geo\": {\"bgcolor\": \"white\", \"lakecolor\": \"white\", \"landcolor\": \"#E5ECF6\", \"showlakes\": true, \"showland\": true, \"subunitcolor\": \"white\"}, \"hoverlabel\": {\"align\": \"left\"}, \"hovermode\": \"closest\", \"mapbox\": {\"style\": \"light\"}, \"paper_bgcolor\": \"white\", \"plot_bgcolor\": \"#E5ECF6\", \"polar\": {\"angularaxis\": {\"gridcolor\": \"white\", \"linecolor\": \"white\", \"ticks\": \"\"}, \"bgcolor\": \"#E5ECF6\", \"radialaxis\": {\"gridcolor\": \"white\", \"linecolor\": \"white\", \"ticks\": \"\"}}, \"scene\": {\"xaxis\": {\"backgroundcolor\": \"#E5ECF6\", \"gridcolor\": \"white\", \"gridwidth\": 2, \"linecolor\": \"white\", \"showbackground\": true, \"ticks\": \"\", \"zerolinecolor\": \"white\"}, \"yaxis\": {\"backgroundcolor\": \"#E5ECF6\", \"gridcolor\": \"white\", \"gridwidth\": 2, \"linecolor\": \"white\", \"showbackground\": true, \"ticks\": \"\", \"zerolinecolor\": \"white\"}, \"zaxis\": {\"backgroundcolor\": \"#E5ECF6\", \"gridcolor\": \"white\", \"gridwidth\": 2, \"linecolor\": \"white\", \"showbackground\": true, \"ticks\": \"\", \"zerolinecolor\": \"white\"}}, \"shapedefaults\": {\"line\": {\"color\": \"#2a3f5f\"}}, \"ternary\": {\"aaxis\": {\"gridcolor\": \"white\", \"linecolor\": \"white\", \"ticks\": \"\"}, \"baxis\": {\"gridcolor\": \"white\", \"linecolor\": \"white\", \"ticks\": \"\"}, \"bgcolor\": \"#E5ECF6\", \"caxis\": {\"gridcolor\": \"white\", \"linecolor\": \"white\", \"ticks\": \"\"}}, \"title\": {\"x\": 0.05}, \"xaxis\": {\"automargin\": true, \"gridcolor\": \"white\", \"linecolor\": \"white\", \"ticks\": \"\", \"title\": {\"standoff\": 15}, \"zerolinecolor\": \"white\", \"zerolinewidth\": 2}, \"yaxis\": {\"automargin\": true, \"gridcolor\": \"white\", \"linecolor\": \"white\", \"ticks\": \"\", \"title\": {\"standoff\": 15}, \"zerolinecolor\": \"white\", \"zerolinewidth\": 2}}}, \"width\": 400, \"xaxis\": {\"tickfont\": {\"color\": \"black\", \"size\": 14}, \"title\": {\"text\": \"<span style=\\\"font-size: 16px;\\\">Window width</span>\"}}, \"yaxis\": {\"tickfont\": {\"color\": \"black\", \"size\": 14}}},                        {\"responsive\": true}                    ).then(function(){\n",
              "                            \n",
              "var gd = document.getElementById('1f97b6ee-e291-4708-ac50-e4f822be11aa');\n",
              "var x = new MutationObserver(function (mutations, observer) {{\n",
              "        var display = window.getComputedStyle(gd).display;\n",
              "        if (!display || display === 'none') {{\n",
              "            console.log([gd, 'removed!']);\n",
              "            Plotly.purge(gd);\n",
              "            observer.disconnect();\n",
              "        }}\n",
              "}});\n",
              "\n",
              "// Listen for the removal of the full notebook cells\n",
              "var notebookContainer = gd.closest('#notebook-container');\n",
              "if (notebookContainer) {{\n",
              "    x.observe(notebookContainer, {childList: true});\n",
              "}}\n",
              "\n",
              "// Listen for the clearing of the current output cell\n",
              "var outputEl = gd.closest('.output');\n",
              "if (outputEl) {{\n",
              "    x.observe(outputEl, {childList: true});\n",
              "}}\n",
              "\n",
              "                        })                };                            </script>        </div>\n",
              "</body>\n",
              "</html>"
            ]
          },
          "metadata": {
            "tags": []
          }
        },
        {
          "output_type": "display_data",
          "data": {
            "text/html": [
              "<html>\n",
              "<head><meta charset=\"utf-8\" /></head>\n",
              "<body>\n",
              "    <div>            <script src=\"https://cdnjs.cloudflare.com/ajax/libs/mathjax/2.7.5/MathJax.js?config=TeX-AMS-MML_SVG\"></script><script type=\"text/javascript\">if (window.MathJax) {MathJax.Hub.Config({SVG: {font: \"STIX-Web\"}});}</script>                <script type=\"text/javascript\">window.PlotlyConfig = {MathJaxConfig: 'local'};</script>\n",
              "        <script src=\"https://cdn.plot.ly/plotly-latest.min.js\"></script>                <div id=\"2e372834-008e-4d21-8a9e-7a07c15064da\" class=\"plotly-graph-div\" style=\"height:350px; width:600px;\"></div>            <script type=\"text/javascript\">                                    window.PLOTLYENV=window.PLOTLYENV || {};                                    if (document.getElementById(\"2e372834-008e-4d21-8a9e-7a07c15064da\")) {                    Plotly.newPlot(                        \"2e372834-008e-4d21-8a9e-7a07c15064da\",                        [{\"legendgroup\": \"BayesianRidge\", \"marker\": {\"color\": \"#d54062\"}, \"name\": \"BR\", \"type\": \"scatter\", \"x\": [1, 2, 3, 4, 5, 6, 7, 8, 9, 10, 11, 12], \"y\": [0.1439987081161092, 0.143623016289967, 0.1420094034444598, 0.1397578357251536, 0.1375548980632466, 0.1394708443717, 0.1386381612138519, 0.1385398766263065, 0.13781844282294, 0.138767600106093, 0.1370519278782332, 0.139402165283256]}, {\"legendgroup\": \"LinearRegression\", \"marker\": {\"color\": \"#ffa36c\"}, \"name\": \"LR\", \"type\": \"scatter\", \"x\": [1, 2, 3, 4, 5, 6, 7, 8, 9, 10, 11, 12], \"y\": [0.1775383334949043, 0.1557261193614222, 0.1505132735673507, 0.1483366425417888, 0.1772273383388725, 0.1558225984673602, 0.1774197828220799, 0.156133162015152, 0.179812152042889, 0.1680640748457059, 0.1682402900627902, 0.1889444678225687]}, {\"legendgroup\": \"MLPRegressor\", \"marker\": {\"color\": \"#799351\"}, \"name\": \"MLP\", \"type\": \"scatter\", \"x\": [1, 2, 3, 4, 5, 6, 7, 8, 9, 10, 11, 12], \"y\": [0.1600458860198085, 0.147352917263907, 0.1549172984486661, 0.155308169097724, 0.1444129768055292, 0.1394758777231757, 0.1437965360549974, 0.1505231944334044, 0.1439630128388065, 0.1454634964289083, 0.1593802757768237, 0.1398981351973031]}, {\"legendgroup\": \"Ridge\", \"marker\": {\"color\": \"#0f4c75\"}, \"name\": \"R\", \"type\": \"scatter\", \"x\": [1, 2, 3, 4, 5, 6, 7, 8, 9, 10, 11, 12], \"y\": [0.1434180409891098, 0.1435063733194851, 0.1406516937938464, 0.1392497181279754, 0.1379551128507713, 0.1436133783974446, 0.1409438634382694, 0.1371878928681628, 0.1374202178284158, 0.1398341256945677, 0.1366358264053972, 0.1394903952769274]}, {\"legendgroup\": \"SGDRegressor\", \"marker\": {\"color\": \"#3c2946\"}, \"name\": \"SGD\", \"type\": \"scatter\", \"x\": [1, 2, 3, 4, 5, 6, 7, 8, 9, 10, 11, 12], \"y\": [0.170109160605094, 0.169828436284865, 0.1735447288945425, 0.1703246901432229, 0.1753869072475086, 0.1703579329551348, 0.1779735780090014, 0.1793626365230694, 0.1878062828179259, 0.1845571015856748, 0.178159157779199, 0.1736438200630727]}, {\"legendgroup\": \"SVR\", \"marker\": {\"color\": \"#89c9b8\"}, \"name\": \"SVR\", \"type\": \"scatter\", \"x\": [1, 2, 3, 4, 5, 6, 7, 8, 9, 10, 11, 12], \"y\": [0.1398538705211484, 0.1376464336645833, 0.1425182807207572, 0.141904227292463, 0.1393862894588659, 0.1445424944071954, 0.1412906244812501, 0.1365528193647723, 0.1407212339770238, 0.1398425249274781, 0.1374248106003316, 0.1391915191830501]}],                        {\"autosize\": false, \"height\": 350, \"legend\": {\"title\": {\"text\": \"<span style=\\\"font-size: 16px;\\\">Model</span>\"}}, \"margin\": {\"b\": 0, \"l\": 0, \"pad\": 5, \"r\": 0, \"t\": 5}, \"showlegend\": true, \"template\": {\"data\": {\"bar\": [{\"error_x\": {\"color\": \"#2a3f5f\"}, \"error_y\": {\"color\": \"#2a3f5f\"}, \"marker\": {\"line\": {\"color\": \"#E5ECF6\", \"width\": 0.5}}, \"type\": \"bar\"}], \"barpolar\": [{\"marker\": {\"line\": {\"color\": \"#E5ECF6\", \"width\": 0.5}}, \"type\": \"barpolar\"}], \"carpet\": [{\"aaxis\": {\"endlinecolor\": \"#2a3f5f\", \"gridcolor\": \"white\", \"linecolor\": \"white\", \"minorgridcolor\": \"white\", \"startlinecolor\": \"#2a3f5f\"}, \"baxis\": {\"endlinecolor\": \"#2a3f5f\", \"gridcolor\": \"white\", \"linecolor\": \"white\", \"minorgridcolor\": \"white\", \"startlinecolor\": \"#2a3f5f\"}, \"type\": \"carpet\"}], \"choropleth\": [{\"colorbar\": {\"outlinewidth\": 0, \"ticks\": \"\"}, \"type\": \"choropleth\"}], \"contour\": [{\"colorbar\": {\"outlinewidth\": 0, \"ticks\": \"\"}, \"colorscale\": [[0.0, \"#0d0887\"], [0.1111111111111111, \"#46039f\"], [0.2222222222222222, \"#7201a8\"], [0.3333333333333333, \"#9c179e\"], [0.4444444444444444, \"#bd3786\"], [0.5555555555555556, \"#d8576b\"], [0.6666666666666666, \"#ed7953\"], [0.7777777777777778, \"#fb9f3a\"], [0.8888888888888888, \"#fdca26\"], [1.0, \"#f0f921\"]], \"type\": \"contour\"}], \"contourcarpet\": [{\"colorbar\": {\"outlinewidth\": 0, \"ticks\": \"\"}, \"type\": \"contourcarpet\"}], \"heatmap\": [{\"colorbar\": {\"outlinewidth\": 0, \"ticks\": \"\"}, \"colorscale\": [[0.0, \"#0d0887\"], [0.1111111111111111, \"#46039f\"], [0.2222222222222222, \"#7201a8\"], [0.3333333333333333, \"#9c179e\"], [0.4444444444444444, \"#bd3786\"], [0.5555555555555556, \"#d8576b\"], [0.6666666666666666, \"#ed7953\"], [0.7777777777777778, \"#fb9f3a\"], [0.8888888888888888, \"#fdca26\"], [1.0, \"#f0f921\"]], \"type\": \"heatmap\"}], \"heatmapgl\": [{\"colorbar\": {\"outlinewidth\": 0, \"ticks\": \"\"}, \"colorscale\": [[0.0, \"#0d0887\"], [0.1111111111111111, \"#46039f\"], [0.2222222222222222, \"#7201a8\"], [0.3333333333333333, \"#9c179e\"], [0.4444444444444444, \"#bd3786\"], [0.5555555555555556, \"#d8576b\"], [0.6666666666666666, \"#ed7953\"], [0.7777777777777778, \"#fb9f3a\"], [0.8888888888888888, \"#fdca26\"], [1.0, \"#f0f921\"]], \"type\": \"heatmapgl\"}], \"histogram\": [{\"marker\": {\"colorbar\": {\"outlinewidth\": 0, \"ticks\": \"\"}}, \"type\": \"histogram\"}], \"histogram2d\": [{\"colorbar\": {\"outlinewidth\": 0, \"ticks\": \"\"}, \"colorscale\": [[0.0, \"#0d0887\"], [0.1111111111111111, \"#46039f\"], [0.2222222222222222, \"#7201a8\"], [0.3333333333333333, \"#9c179e\"], [0.4444444444444444, \"#bd3786\"], [0.5555555555555556, \"#d8576b\"], [0.6666666666666666, \"#ed7953\"], [0.7777777777777778, \"#fb9f3a\"], [0.8888888888888888, \"#fdca26\"], [1.0, \"#f0f921\"]], \"type\": \"histogram2d\"}], \"histogram2dcontour\": [{\"colorbar\": {\"outlinewidth\": 0, \"ticks\": \"\"}, \"colorscale\": [[0.0, \"#0d0887\"], [0.1111111111111111, \"#46039f\"], [0.2222222222222222, \"#7201a8\"], [0.3333333333333333, \"#9c179e\"], [0.4444444444444444, \"#bd3786\"], [0.5555555555555556, \"#d8576b\"], [0.6666666666666666, \"#ed7953\"], [0.7777777777777778, \"#fb9f3a\"], [0.8888888888888888, \"#fdca26\"], [1.0, \"#f0f921\"]], \"type\": \"histogram2dcontour\"}], \"mesh3d\": [{\"colorbar\": {\"outlinewidth\": 0, \"ticks\": \"\"}, \"type\": \"mesh3d\"}], \"parcoords\": [{\"line\": {\"colorbar\": {\"outlinewidth\": 0, \"ticks\": \"\"}}, \"type\": \"parcoords\"}], \"pie\": [{\"automargin\": true, \"type\": \"pie\"}], \"scatter\": [{\"marker\": {\"colorbar\": {\"outlinewidth\": 0, \"ticks\": \"\"}}, \"type\": \"scatter\"}], \"scatter3d\": [{\"line\": {\"colorbar\": {\"outlinewidth\": 0, \"ticks\": \"\"}}, \"marker\": {\"colorbar\": {\"outlinewidth\": 0, \"ticks\": \"\"}}, \"type\": \"scatter3d\"}], \"scattercarpet\": [{\"marker\": {\"colorbar\": {\"outlinewidth\": 0, \"ticks\": \"\"}}, \"type\": \"scattercarpet\"}], \"scattergeo\": [{\"marker\": {\"colorbar\": {\"outlinewidth\": 0, \"ticks\": \"\"}}, \"type\": \"scattergeo\"}], \"scattergl\": [{\"marker\": {\"colorbar\": {\"outlinewidth\": 0, \"ticks\": \"\"}}, \"type\": \"scattergl\"}], \"scattermapbox\": [{\"marker\": {\"colorbar\": {\"outlinewidth\": 0, \"ticks\": \"\"}}, \"type\": \"scattermapbox\"}], \"scatterpolar\": [{\"marker\": {\"colorbar\": {\"outlinewidth\": 0, \"ticks\": \"\"}}, \"type\": \"scatterpolar\"}], \"scatterpolargl\": [{\"marker\": {\"colorbar\": {\"outlinewidth\": 0, \"ticks\": \"\"}}, \"type\": \"scatterpolargl\"}], \"scatterternary\": [{\"marker\": {\"colorbar\": {\"outlinewidth\": 0, \"ticks\": \"\"}}, \"type\": \"scatterternary\"}], \"surface\": [{\"colorbar\": {\"outlinewidth\": 0, \"ticks\": \"\"}, \"colorscale\": [[0.0, \"#0d0887\"], [0.1111111111111111, \"#46039f\"], [0.2222222222222222, \"#7201a8\"], [0.3333333333333333, \"#9c179e\"], [0.4444444444444444, \"#bd3786\"], [0.5555555555555556, \"#d8576b\"], [0.6666666666666666, \"#ed7953\"], [0.7777777777777778, \"#fb9f3a\"], [0.8888888888888888, \"#fdca26\"], [1.0, \"#f0f921\"]], \"type\": \"surface\"}], \"table\": [{\"cells\": {\"fill\": {\"color\": \"#EBF0F8\"}, \"line\": {\"color\": \"white\"}}, \"header\": {\"fill\": {\"color\": \"#C8D4E3\"}, \"line\": {\"color\": \"white\"}}, \"type\": \"table\"}]}, \"layout\": {\"annotationdefaults\": {\"arrowcolor\": \"#2a3f5f\", \"arrowhead\": 0, \"arrowwidth\": 1}, \"autotypenumbers\": \"strict\", \"coloraxis\": {\"colorbar\": {\"outlinewidth\": 0, \"ticks\": \"\"}}, \"colorscale\": {\"diverging\": [[0, \"#8e0152\"], [0.1, \"#c51b7d\"], [0.2, \"#de77ae\"], [0.3, \"#f1b6da\"], [0.4, \"#fde0ef\"], [0.5, \"#f7f7f7\"], [0.6, \"#e6f5d0\"], [0.7, \"#b8e186\"], [0.8, \"#7fbc41\"], [0.9, \"#4d9221\"], [1, \"#276419\"]], \"sequential\": [[0.0, \"#0d0887\"], [0.1111111111111111, \"#46039f\"], [0.2222222222222222, \"#7201a8\"], [0.3333333333333333, \"#9c179e\"], [0.4444444444444444, \"#bd3786\"], [0.5555555555555556, \"#d8576b\"], [0.6666666666666666, \"#ed7953\"], [0.7777777777777778, \"#fb9f3a\"], [0.8888888888888888, \"#fdca26\"], [1.0, \"#f0f921\"]], \"sequentialminus\": [[0.0, \"#0d0887\"], [0.1111111111111111, \"#46039f\"], [0.2222222222222222, \"#7201a8\"], [0.3333333333333333, \"#9c179e\"], [0.4444444444444444, \"#bd3786\"], [0.5555555555555556, \"#d8576b\"], [0.6666666666666666, \"#ed7953\"], [0.7777777777777778, \"#fb9f3a\"], [0.8888888888888888, \"#fdca26\"], [1.0, \"#f0f921\"]]}, \"colorway\": [\"#636efa\", \"#EF553B\", \"#00cc96\", \"#ab63fa\", \"#FFA15A\", \"#19d3f3\", \"#FF6692\", \"#B6E880\", \"#FF97FF\", \"#FECB52\"], \"font\": {\"color\": \"#2a3f5f\"}, \"geo\": {\"bgcolor\": \"white\", \"lakecolor\": \"white\", \"landcolor\": \"#E5ECF6\", \"showlakes\": true, \"showland\": true, \"subunitcolor\": \"white\"}, \"hoverlabel\": {\"align\": \"left\"}, \"hovermode\": \"closest\", \"mapbox\": {\"style\": \"light\"}, \"paper_bgcolor\": \"white\", \"plot_bgcolor\": \"#E5ECF6\", \"polar\": {\"angularaxis\": {\"gridcolor\": \"white\", \"linecolor\": \"white\", \"ticks\": \"\"}, \"bgcolor\": \"#E5ECF6\", \"radialaxis\": {\"gridcolor\": \"white\", \"linecolor\": \"white\", \"ticks\": \"\"}}, \"scene\": {\"xaxis\": {\"backgroundcolor\": \"#E5ECF6\", \"gridcolor\": \"white\", \"gridwidth\": 2, \"linecolor\": \"white\", \"showbackground\": true, \"ticks\": \"\", \"zerolinecolor\": \"white\"}, \"yaxis\": {\"backgroundcolor\": \"#E5ECF6\", \"gridcolor\": \"white\", \"gridwidth\": 2, \"linecolor\": \"white\", \"showbackground\": true, \"ticks\": \"\", \"zerolinecolor\": \"white\"}, \"zaxis\": {\"backgroundcolor\": \"#E5ECF6\", \"gridcolor\": \"white\", \"gridwidth\": 2, \"linecolor\": \"white\", \"showbackground\": true, \"ticks\": \"\", \"zerolinecolor\": \"white\"}}, \"shapedefaults\": {\"line\": {\"color\": \"#2a3f5f\"}}, \"ternary\": {\"aaxis\": {\"gridcolor\": \"white\", \"linecolor\": \"white\", \"ticks\": \"\"}, \"baxis\": {\"gridcolor\": \"white\", \"linecolor\": \"white\", \"ticks\": \"\"}, \"bgcolor\": \"#E5ECF6\", \"caxis\": {\"gridcolor\": \"white\", \"linecolor\": \"white\", \"ticks\": \"\"}}, \"title\": {\"x\": 0.05}, \"xaxis\": {\"automargin\": true, \"gridcolor\": \"white\", \"linecolor\": \"white\", \"ticks\": \"\", \"title\": {\"standoff\": 15}, \"zerolinecolor\": \"white\", \"zerolinewidth\": 2}, \"yaxis\": {\"automargin\": true, \"gridcolor\": \"white\", \"linecolor\": \"white\", \"ticks\": \"\", \"title\": {\"standoff\": 15}, \"zerolinecolor\": \"white\", \"zerolinewidth\": 2}}}, \"width\": 600, \"xaxis\": {\"nticks\": 12, \"tickfont\": {\"color\": \"black\", \"size\": 14}, \"title\": {\"text\": \"<span style=\\\"font-size: 16px;\\\">Window width</span>\"}}, \"yaxis\": {\"tickfont\": {\"color\": \"black\", \"size\": 14}}},                        {\"responsive\": true}                    ).then(function(){\n",
              "                            \n",
              "var gd = document.getElementById('2e372834-008e-4d21-8a9e-7a07c15064da');\n",
              "var x = new MutationObserver(function (mutations, observer) {{\n",
              "        var display = window.getComputedStyle(gd).display;\n",
              "        if (!display || display === 'none') {{\n",
              "            console.log([gd, 'removed!']);\n",
              "            Plotly.purge(gd);\n",
              "            observer.disconnect();\n",
              "        }}\n",
              "}});\n",
              "\n",
              "// Listen for the removal of the full notebook cells\n",
              "var notebookContainer = gd.closest('#notebook-container');\n",
              "if (notebookContainer) {{\n",
              "    x.observe(notebookContainer, {childList: true});\n",
              "}}\n",
              "\n",
              "// Listen for the clearing of the current output cell\n",
              "var outputEl = gd.closest('.output');\n",
              "if (outputEl) {{\n",
              "    x.observe(outputEl, {childList: true});\n",
              "}}\n",
              "\n",
              "                        })                };                            </script>        </div>\n",
              "</body>\n",
              "</html>"
            ]
          },
          "metadata": {
            "tags": []
          }
        }
      ]
    },
    {
      "cell_type": "code",
      "metadata": {
        "colab": {
          "base_uri": "https://localhost:8080/",
          "height": 35
        },
        "id": "YpKb13AZ4roM",
        "outputId": "4f136f8d-8e86-41f2-874e-fa60bfc8a669"
      },
      "source": [
        "import plotly\n",
        "plotly.__version__"
      ],
      "execution_count": 3,
      "outputs": [
        {
          "output_type": "execute_result",
          "data": {
            "application/vnd.google.colaboratory.intrinsic+json": {
              "type": "string"
            },
            "text/plain": [
              "'4.14.3'"
            ]
          },
          "metadata": {
            "tags": []
          },
          "execution_count": 3
        }
      ]
    },
    {
      "cell_type": "code",
      "metadata": {
        "ExecuteTime": {
          "end_time": "2020-12-28T18:16:27.239347Z",
          "start_time": "2020-12-28T18:16:27.202999Z"
        },
        "id": "JjGKffqdnWV_"
      },
      "source": [
        "tmp = df_multi.reorder_levels([\n",
        "    'offset',\n",
        "    'model',\n",
        "    'city',\n",
        "])\n",
        "tmp = tmp.groupby(level=['offset', 'model']).median()\n",
        "tmp = tmp[tmp.index.get_level_values('model').isin(['Ridge', 'SVR', 'BayesianRidge'])]\n",
        "# tmp.loc[1]['mean_absolute_error']\n",
        "figure = go.Figure()\n",
        "for i in range(1, 13):\n",
        "    figure.add_trace(\n",
        "        go.Box(\n",
        "            y=tmp.loc[i]['mean_absolute_error'],\n",
        "            name=f'{i}',\n",
        "        )\n",
        "    )\n",
        "figure.show(render='svg')"
      ],
      "execution_count": null,
      "outputs": []
    },
    {
      "cell_type": "markdown",
      "metadata": {
        "ExecuteTime": {
          "end_time": "2021-01-26T02:49:41.466555Z",
          "start_time": "2021-01-26T02:49:40.599704Z"
        },
        "code_folding": [],
        "pycharm": {
          "name": "#%% md\n"
        },
        "id": "t_SO5E4GnWV_"
      },
      "source": [
        "### Without replacement"
      ]
    },
    {
      "cell_type": "code",
      "metadata": {
        "pycharm": {
          "name": "#%%\n"
        },
        "id": "l1HXl2u7nWWA",
        "colab": {
          "base_uri": "https://localhost:8080/",
          "height": 717
        },
        "outputId": "6d225d3d-69bc-4c07-fd20-34cd6dc383f5"
      },
      "source": [
        "# Test sliding window without replacment\n",
        "replacement = False\n",
        "models = (\n",
        "        neural_network.MLPRegressor(random_state=100, max_iter=10000, solver='lbfgs', tol=1e-05), \n",
        "        svm.SVR(max_iter=80000),\n",
        "        linear_model.LinearRegression(),\n",
        "        linear_model.BayesianRidge(),\n",
        "        linear_model.Ridge(max_iter=10000),\n",
        "        linear_model.SGDRegressor(random_state=10000),\n",
        ")\n",
        "# df_multi = sliding_window_test(data, models, offsets, metrics, replacement)\n",
        "# df_multi = pd.read_csv('sw-wr.csv', index_col=['model', 'offset', 'city'])\n",
        "link = 'https://raw.githubusercontent.com/HBaena/forecasting-criminal-incidence/main/sw-wr.feather'\n",
        "df_multi = pd.read_feather(link)\n",
        "df_multi.set_index(['model', 'offset', 'city'], inplace=True)\n",
        "# Plot boxplot\n",
        "tmp = df_multi.groupby(level=[0, 1]).agg(city_func)\n",
        "figure = boxplot_multiindex_df(tmp, 'mean_absolute_error', alias, layout=dict(**layout, **dict(showlegend=False)))\n",
        "figure.update_xaxes(title=subtitle_style.format('Window width'))\n",
        "figure.update_layout(\n",
        "                    width=400,\n",
        "                    legend=dict(title=subtitle_style.format('Model')),\n",
        ").show(render='svg')\n",
        "# figure.write_image(f'{images_path}boxplot-sw-error-wr.pdf')\n",
        "# Plot scatterplot\n",
        "figure = scatter_multiindex_df(tmp, 'mean_absolute_error', alias, layout=layout)\n",
        "figure.update_xaxes(title='Window width', nticks=12\n",
        "                   ).update_xaxes(title=subtitle_style.format('Window width')).update_layout(\n",
        "                    legend=dict(title=subtitle_style.format('Model')),width=600).show(render='svg')\n",
        "# figure.write_image(f'{images_path}scatter-sw-error-wr.pdf')\n",
        "min_sw_wr = tmp.groupby(level='model').min()['mean_absolute_error']"
      ],
      "execution_count": 11,
      "outputs": [
        {
          "output_type": "display_data",
          "data": {
            "text/html": [
              "<html>\n",
              "<head><meta charset=\"utf-8\" /></head>\n",
              "<body>\n",
              "    <div>            <script src=\"https://cdnjs.cloudflare.com/ajax/libs/mathjax/2.7.5/MathJax.js?config=TeX-AMS-MML_SVG\"></script><script type=\"text/javascript\">if (window.MathJax) {MathJax.Hub.Config({SVG: {font: \"STIX-Web\"}});}</script>                <script type=\"text/javascript\">window.PlotlyConfig = {MathJaxConfig: 'local'};</script>\n",
              "        <script src=\"https://cdn.plot.ly/plotly-latest.min.js\"></script>                <div id=\"44a0c543-e9f0-424d-b453-0cac84e61c4b\" class=\"plotly-graph-div\" style=\"height:350px; width:400px;\"></div>            <script type=\"text/javascript\">                                    window.PLOTLYENV=window.PLOTLYENV || {};                                    if (document.getElementById(\"44a0c543-e9f0-424d-b453-0cac84e61c4b\")) {                    Plotly.newPlot(                        \"44a0c543-e9f0-424d-b453-0cac84e61c4b\",                        [{\"marker\": {\"color\": \"#d54062\"}, \"name\": \"BR\", \"type\": \"box\", \"y\": [0.1439987081161092, 0.1439186125173966, 0.1434912050127258, 0.1442423023703796, 0.1446617384443892, 0.1441251732900143, 0.1459422427598681, 0.1445998862383659, 0.1441617120316241, 0.1431893404651023, 0.1419214668894903, 0.1401787897824804]}, {\"marker\": {\"color\": \"#ffa36c\"}, \"name\": \"LR\", \"type\": \"box\", \"y\": [0.1775383334949043, 0.1455161725136653, 0.1489316901410475, 0.1442313498739282, 0.1445796159214792, 0.1442424554457507, 0.145973496266895, 0.1446288486254434, 0.1442113608277709, 0.1431895325143076, 0.1419363420759647, 0.1401665439081376]}, {\"marker\": {\"color\": \"#799351\"}, \"name\": \"MLP\", \"type\": \"box\", \"y\": [0.1600458860198085, 0.1490833954828273, 0.1560473840309315, 0.1436653964597462, 0.1379870632686354, 0.1497349467417232, 0.1546143742494015, 0.1534938520151632, 0.1425425875851983, 0.1572341911626802, 0.1456297284285292, 0.148968778891866]}, {\"marker\": {\"color\": \"#0f4c75\"}, \"name\": \"R\", \"type\": \"box\", \"y\": [0.1434180409891098, 0.1451679936310184, 0.1487586616678874, 0.1468696444142229, 0.1448239998494273, 0.1453872526180362, 0.1452896538368027, 0.1434650048365127, 0.1438909504989353, 0.1433396359647185, 0.1422354612037931, 0.1406165083663677]}, {\"marker\": {\"color\": \"#3c2946\"}, \"name\": \"SGD\", \"type\": \"box\", \"y\": [0.170109160605094, 0.1512969050291834, 0.1423298718725852, 0.143665532703273, 0.1409293295584019, 0.1391863755342114, 0.141939915732634, 0.140382270718756, 0.1399502357021463, 0.1410637566151801, 0.1463972295094683, 0.143884078633359]}, {\"marker\": {\"color\": \"#89c9b8\"}, \"name\": \"SVR\", \"type\": \"box\", \"y\": [0.1398538705211484, 0.1382635331408006, 0.1384452430293191, 0.138836606128953, 0.1380521683248219, 0.1390027331194711, 0.1393241840300909, 0.139447473474417, 0.1399511970546431, 0.1402690648730405, 0.1396762815462147, 0.1397815837637988]}],                        {\"autosize\": false, \"height\": 350, \"legend\": {\"title\": {\"text\": \"<span style=\\\"font-size: 16px;\\\">Model</span>\"}}, \"margin\": {\"b\": 0, \"l\": 0, \"pad\": 5, \"r\": 0, \"t\": 5}, \"showlegend\": false, \"template\": {\"data\": {\"bar\": [{\"error_x\": {\"color\": \"#2a3f5f\"}, \"error_y\": {\"color\": \"#2a3f5f\"}, \"marker\": {\"line\": {\"color\": \"#E5ECF6\", \"width\": 0.5}}, \"type\": \"bar\"}], \"barpolar\": [{\"marker\": {\"line\": {\"color\": \"#E5ECF6\", \"width\": 0.5}}, \"type\": \"barpolar\"}], \"carpet\": [{\"aaxis\": {\"endlinecolor\": \"#2a3f5f\", \"gridcolor\": \"white\", \"linecolor\": \"white\", \"minorgridcolor\": \"white\", \"startlinecolor\": \"#2a3f5f\"}, \"baxis\": {\"endlinecolor\": \"#2a3f5f\", \"gridcolor\": \"white\", \"linecolor\": \"white\", \"minorgridcolor\": \"white\", \"startlinecolor\": \"#2a3f5f\"}, \"type\": \"carpet\"}], \"choropleth\": [{\"colorbar\": {\"outlinewidth\": 0, \"ticks\": \"\"}, \"type\": \"choropleth\"}], \"contour\": [{\"colorbar\": {\"outlinewidth\": 0, \"ticks\": \"\"}, \"colorscale\": [[0.0, \"#0d0887\"], [0.1111111111111111, \"#46039f\"], [0.2222222222222222, \"#7201a8\"], [0.3333333333333333, \"#9c179e\"], [0.4444444444444444, \"#bd3786\"], [0.5555555555555556, \"#d8576b\"], [0.6666666666666666, \"#ed7953\"], [0.7777777777777778, \"#fb9f3a\"], [0.8888888888888888, \"#fdca26\"], [1.0, \"#f0f921\"]], \"type\": \"contour\"}], \"contourcarpet\": [{\"colorbar\": {\"outlinewidth\": 0, \"ticks\": \"\"}, \"type\": \"contourcarpet\"}], \"heatmap\": [{\"colorbar\": {\"outlinewidth\": 0, \"ticks\": \"\"}, \"colorscale\": [[0.0, \"#0d0887\"], [0.1111111111111111, \"#46039f\"], [0.2222222222222222, \"#7201a8\"], [0.3333333333333333, \"#9c179e\"], [0.4444444444444444, \"#bd3786\"], [0.5555555555555556, \"#d8576b\"], [0.6666666666666666, \"#ed7953\"], [0.7777777777777778, \"#fb9f3a\"], [0.8888888888888888, \"#fdca26\"], [1.0, \"#f0f921\"]], \"type\": \"heatmap\"}], \"heatmapgl\": [{\"colorbar\": {\"outlinewidth\": 0, \"ticks\": \"\"}, \"colorscale\": [[0.0, \"#0d0887\"], [0.1111111111111111, \"#46039f\"], [0.2222222222222222, \"#7201a8\"], [0.3333333333333333, \"#9c179e\"], [0.4444444444444444, \"#bd3786\"], [0.5555555555555556, \"#d8576b\"], [0.6666666666666666, \"#ed7953\"], [0.7777777777777778, \"#fb9f3a\"], [0.8888888888888888, \"#fdca26\"], [1.0, \"#f0f921\"]], \"type\": \"heatmapgl\"}], \"histogram\": [{\"marker\": {\"colorbar\": {\"outlinewidth\": 0, \"ticks\": \"\"}}, \"type\": \"histogram\"}], \"histogram2d\": [{\"colorbar\": {\"outlinewidth\": 0, \"ticks\": \"\"}, \"colorscale\": [[0.0, \"#0d0887\"], [0.1111111111111111, \"#46039f\"], [0.2222222222222222, \"#7201a8\"], [0.3333333333333333, \"#9c179e\"], [0.4444444444444444, \"#bd3786\"], [0.5555555555555556, \"#d8576b\"], [0.6666666666666666, \"#ed7953\"], [0.7777777777777778, \"#fb9f3a\"], [0.8888888888888888, \"#fdca26\"], [1.0, \"#f0f921\"]], \"type\": \"histogram2d\"}], \"histogram2dcontour\": [{\"colorbar\": {\"outlinewidth\": 0, \"ticks\": \"\"}, \"colorscale\": [[0.0, \"#0d0887\"], [0.1111111111111111, \"#46039f\"], [0.2222222222222222, \"#7201a8\"], [0.3333333333333333, \"#9c179e\"], [0.4444444444444444, \"#bd3786\"], [0.5555555555555556, \"#d8576b\"], [0.6666666666666666, \"#ed7953\"], [0.7777777777777778, \"#fb9f3a\"], [0.8888888888888888, \"#fdca26\"], [1.0, \"#f0f921\"]], \"type\": \"histogram2dcontour\"}], \"mesh3d\": [{\"colorbar\": {\"outlinewidth\": 0, \"ticks\": \"\"}, \"type\": \"mesh3d\"}], \"parcoords\": [{\"line\": {\"colorbar\": {\"outlinewidth\": 0, \"ticks\": \"\"}}, \"type\": \"parcoords\"}], \"pie\": [{\"automargin\": true, \"type\": \"pie\"}], \"scatter\": [{\"marker\": {\"colorbar\": {\"outlinewidth\": 0, \"ticks\": \"\"}}, \"type\": \"scatter\"}], \"scatter3d\": [{\"line\": {\"colorbar\": {\"outlinewidth\": 0, \"ticks\": \"\"}}, \"marker\": {\"colorbar\": {\"outlinewidth\": 0, \"ticks\": \"\"}}, \"type\": \"scatter3d\"}], \"scattercarpet\": [{\"marker\": {\"colorbar\": {\"outlinewidth\": 0, \"ticks\": \"\"}}, \"type\": \"scattercarpet\"}], \"scattergeo\": [{\"marker\": {\"colorbar\": {\"outlinewidth\": 0, \"ticks\": \"\"}}, \"type\": \"scattergeo\"}], \"scattergl\": [{\"marker\": {\"colorbar\": {\"outlinewidth\": 0, \"ticks\": \"\"}}, \"type\": \"scattergl\"}], \"scattermapbox\": [{\"marker\": {\"colorbar\": {\"outlinewidth\": 0, \"ticks\": \"\"}}, \"type\": \"scattermapbox\"}], \"scatterpolar\": [{\"marker\": {\"colorbar\": {\"outlinewidth\": 0, \"ticks\": \"\"}}, \"type\": \"scatterpolar\"}], \"scatterpolargl\": [{\"marker\": {\"colorbar\": {\"outlinewidth\": 0, \"ticks\": \"\"}}, \"type\": \"scatterpolargl\"}], \"scatterternary\": [{\"marker\": {\"colorbar\": {\"outlinewidth\": 0, \"ticks\": \"\"}}, \"type\": \"scatterternary\"}], \"surface\": [{\"colorbar\": {\"outlinewidth\": 0, \"ticks\": \"\"}, \"colorscale\": [[0.0, \"#0d0887\"], [0.1111111111111111, \"#46039f\"], [0.2222222222222222, \"#7201a8\"], [0.3333333333333333, \"#9c179e\"], [0.4444444444444444, \"#bd3786\"], [0.5555555555555556, \"#d8576b\"], [0.6666666666666666, \"#ed7953\"], [0.7777777777777778, \"#fb9f3a\"], [0.8888888888888888, \"#fdca26\"], [1.0, \"#f0f921\"]], \"type\": \"surface\"}], \"table\": [{\"cells\": {\"fill\": {\"color\": \"#EBF0F8\"}, \"line\": {\"color\": \"white\"}}, \"header\": {\"fill\": {\"color\": \"#C8D4E3\"}, \"line\": {\"color\": \"white\"}}, \"type\": \"table\"}]}, \"layout\": {\"annotationdefaults\": {\"arrowcolor\": \"#2a3f5f\", \"arrowhead\": 0, \"arrowwidth\": 1}, \"autotypenumbers\": \"strict\", \"coloraxis\": {\"colorbar\": {\"outlinewidth\": 0, \"ticks\": \"\"}}, \"colorscale\": {\"diverging\": [[0, \"#8e0152\"], [0.1, \"#c51b7d\"], [0.2, \"#de77ae\"], [0.3, \"#f1b6da\"], [0.4, \"#fde0ef\"], [0.5, \"#f7f7f7\"], [0.6, \"#e6f5d0\"], [0.7, \"#b8e186\"], [0.8, \"#7fbc41\"], [0.9, \"#4d9221\"], [1, \"#276419\"]], \"sequential\": [[0.0, \"#0d0887\"], [0.1111111111111111, \"#46039f\"], [0.2222222222222222, \"#7201a8\"], [0.3333333333333333, \"#9c179e\"], [0.4444444444444444, \"#bd3786\"], [0.5555555555555556, \"#d8576b\"], [0.6666666666666666, \"#ed7953\"], [0.7777777777777778, \"#fb9f3a\"], [0.8888888888888888, \"#fdca26\"], [1.0, \"#f0f921\"]], \"sequentialminus\": [[0.0, \"#0d0887\"], [0.1111111111111111, \"#46039f\"], [0.2222222222222222, \"#7201a8\"], [0.3333333333333333, \"#9c179e\"], [0.4444444444444444, \"#bd3786\"], [0.5555555555555556, \"#d8576b\"], [0.6666666666666666, \"#ed7953\"], [0.7777777777777778, \"#fb9f3a\"], [0.8888888888888888, \"#fdca26\"], [1.0, \"#f0f921\"]]}, \"colorway\": [\"#636efa\", \"#EF553B\", \"#00cc96\", \"#ab63fa\", \"#FFA15A\", \"#19d3f3\", \"#FF6692\", \"#B6E880\", \"#FF97FF\", \"#FECB52\"], \"font\": {\"color\": \"#2a3f5f\"}, \"geo\": {\"bgcolor\": \"white\", \"lakecolor\": \"white\", \"landcolor\": \"#E5ECF6\", \"showlakes\": true, \"showland\": true, \"subunitcolor\": \"white\"}, \"hoverlabel\": {\"align\": \"left\"}, \"hovermode\": \"closest\", \"mapbox\": {\"style\": \"light\"}, \"paper_bgcolor\": \"white\", \"plot_bgcolor\": \"#E5ECF6\", \"polar\": {\"angularaxis\": {\"gridcolor\": \"white\", \"linecolor\": \"white\", \"ticks\": \"\"}, \"bgcolor\": \"#E5ECF6\", \"radialaxis\": {\"gridcolor\": \"white\", \"linecolor\": \"white\", \"ticks\": \"\"}}, \"scene\": {\"xaxis\": {\"backgroundcolor\": \"#E5ECF6\", \"gridcolor\": \"white\", \"gridwidth\": 2, \"linecolor\": \"white\", \"showbackground\": true, \"ticks\": \"\", \"zerolinecolor\": \"white\"}, \"yaxis\": {\"backgroundcolor\": \"#E5ECF6\", \"gridcolor\": \"white\", \"gridwidth\": 2, \"linecolor\": \"white\", \"showbackground\": true, \"ticks\": \"\", \"zerolinecolor\": \"white\"}, \"zaxis\": {\"backgroundcolor\": \"#E5ECF6\", \"gridcolor\": \"white\", \"gridwidth\": 2, \"linecolor\": \"white\", \"showbackground\": true, \"ticks\": \"\", \"zerolinecolor\": \"white\"}}, \"shapedefaults\": {\"line\": {\"color\": \"#2a3f5f\"}}, \"ternary\": {\"aaxis\": {\"gridcolor\": \"white\", \"linecolor\": \"white\", \"ticks\": \"\"}, \"baxis\": {\"gridcolor\": \"white\", \"linecolor\": \"white\", \"ticks\": \"\"}, \"bgcolor\": \"#E5ECF6\", \"caxis\": {\"gridcolor\": \"white\", \"linecolor\": \"white\", \"ticks\": \"\"}}, \"title\": {\"x\": 0.05}, \"xaxis\": {\"automargin\": true, \"gridcolor\": \"white\", \"linecolor\": \"white\", \"ticks\": \"\", \"title\": {\"standoff\": 15}, \"zerolinecolor\": \"white\", \"zerolinewidth\": 2}, \"yaxis\": {\"automargin\": true, \"gridcolor\": \"white\", \"linecolor\": \"white\", \"ticks\": \"\", \"title\": {\"standoff\": 15}, \"zerolinecolor\": \"white\", \"zerolinewidth\": 2}}}, \"width\": 400, \"xaxis\": {\"tickfont\": {\"color\": \"black\", \"size\": 14}, \"title\": {\"text\": \"<span style=\\\"font-size: 16px;\\\">Window width</span>\"}}, \"yaxis\": {\"tickfont\": {\"color\": \"black\", \"size\": 14}}},                        {\"responsive\": true}                    ).then(function(){\n",
              "                            \n",
              "var gd = document.getElementById('44a0c543-e9f0-424d-b453-0cac84e61c4b');\n",
              "var x = new MutationObserver(function (mutations, observer) {{\n",
              "        var display = window.getComputedStyle(gd).display;\n",
              "        if (!display || display === 'none') {{\n",
              "            console.log([gd, 'removed!']);\n",
              "            Plotly.purge(gd);\n",
              "            observer.disconnect();\n",
              "        }}\n",
              "}});\n",
              "\n",
              "// Listen for the removal of the full notebook cells\n",
              "var notebookContainer = gd.closest('#notebook-container');\n",
              "if (notebookContainer) {{\n",
              "    x.observe(notebookContainer, {childList: true});\n",
              "}}\n",
              "\n",
              "// Listen for the clearing of the current output cell\n",
              "var outputEl = gd.closest('.output');\n",
              "if (outputEl) {{\n",
              "    x.observe(outputEl, {childList: true});\n",
              "}}\n",
              "\n",
              "                        })                };                            </script>        </div>\n",
              "</body>\n",
              "</html>"
            ]
          },
          "metadata": {
            "tags": []
          }
        },
        {
          "output_type": "display_data",
          "data": {
            "text/html": [
              "<html>\n",
              "<head><meta charset=\"utf-8\" /></head>\n",
              "<body>\n",
              "    <div>            <script src=\"https://cdnjs.cloudflare.com/ajax/libs/mathjax/2.7.5/MathJax.js?config=TeX-AMS-MML_SVG\"></script><script type=\"text/javascript\">if (window.MathJax) {MathJax.Hub.Config({SVG: {font: \"STIX-Web\"}});}</script>                <script type=\"text/javascript\">window.PlotlyConfig = {MathJaxConfig: 'local'};</script>\n",
              "        <script src=\"https://cdn.plot.ly/plotly-latest.min.js\"></script>                <div id=\"0771cbe0-f756-4f7a-ac51-6bcced525894\" class=\"plotly-graph-div\" style=\"height:350px; width:600px;\"></div>            <script type=\"text/javascript\">                                    window.PLOTLYENV=window.PLOTLYENV || {};                                    if (document.getElementById(\"0771cbe0-f756-4f7a-ac51-6bcced525894\")) {                    Plotly.newPlot(                        \"0771cbe0-f756-4f7a-ac51-6bcced525894\",                        [{\"legendgroup\": \"BayesianRidge\", \"marker\": {\"color\": \"#d54062\"}, \"name\": \"BR\", \"type\": \"scatter\", \"x\": [1, 2, 3, 4, 5, 6, 7, 8, 9, 10, 11, 12], \"y\": [0.1439987081161092, 0.1439186125173966, 0.1434912050127258, 0.1442423023703796, 0.1446617384443892, 0.1441251732900143, 0.1459422427598681, 0.1445998862383659, 0.1441617120316241, 0.1431893404651023, 0.1419214668894903, 0.1401787897824804]}, {\"legendgroup\": \"LinearRegression\", \"marker\": {\"color\": \"#ffa36c\"}, \"name\": \"LR\", \"type\": \"scatter\", \"x\": [1, 2, 3, 4, 5, 6, 7, 8, 9, 10, 11, 12], \"y\": [0.1775383334949043, 0.1455161725136653, 0.1489316901410475, 0.1442313498739282, 0.1445796159214792, 0.1442424554457507, 0.145973496266895, 0.1446288486254434, 0.1442113608277709, 0.1431895325143076, 0.1419363420759647, 0.1401665439081376]}, {\"legendgroup\": \"MLPRegressor\", \"marker\": {\"color\": \"#799351\"}, \"name\": \"MLP\", \"type\": \"scatter\", \"x\": [1, 2, 3, 4, 5, 6, 7, 8, 9, 10, 11, 12], \"y\": [0.1600458860198085, 0.1490833954828273, 0.1560473840309315, 0.1436653964597462, 0.1379870632686354, 0.1497349467417232, 0.1546143742494015, 0.1534938520151632, 0.1425425875851983, 0.1572341911626802, 0.1456297284285292, 0.148968778891866]}, {\"legendgroup\": \"Ridge\", \"marker\": {\"color\": \"#0f4c75\"}, \"name\": \"R\", \"type\": \"scatter\", \"x\": [1, 2, 3, 4, 5, 6, 7, 8, 9, 10, 11, 12], \"y\": [0.1434180409891098, 0.1451679936310184, 0.1487586616678874, 0.1468696444142229, 0.1448239998494273, 0.1453872526180362, 0.1452896538368027, 0.1434650048365127, 0.1438909504989353, 0.1433396359647185, 0.1422354612037931, 0.1406165083663677]}, {\"legendgroup\": \"SGDRegressor\", \"marker\": {\"color\": \"#3c2946\"}, \"name\": \"SGD\", \"type\": \"scatter\", \"x\": [1, 2, 3, 4, 5, 6, 7, 8, 9, 10, 11, 12], \"y\": [0.170109160605094, 0.1512969050291834, 0.1423298718725852, 0.143665532703273, 0.1409293295584019, 0.1391863755342114, 0.141939915732634, 0.140382270718756, 0.1399502357021463, 0.1410637566151801, 0.1463972295094683, 0.143884078633359]}, {\"legendgroup\": \"SVR\", \"marker\": {\"color\": \"#89c9b8\"}, \"name\": \"SVR\", \"type\": \"scatter\", \"x\": [1, 2, 3, 4, 5, 6, 7, 8, 9, 10, 11, 12], \"y\": [0.1398538705211484, 0.1382635331408006, 0.1384452430293191, 0.138836606128953, 0.1380521683248219, 0.1390027331194711, 0.1393241840300909, 0.139447473474417, 0.1399511970546431, 0.1402690648730405, 0.1396762815462147, 0.1397815837637988]}],                        {\"autosize\": false, \"height\": 350, \"legend\": {\"title\": {\"text\": \"<span style=\\\"font-size: 16px;\\\">Model</span>\"}}, \"margin\": {\"b\": 0, \"l\": 0, \"pad\": 5, \"r\": 0, \"t\": 5}, \"showlegend\": true, \"template\": {\"data\": {\"bar\": [{\"error_x\": {\"color\": \"#2a3f5f\"}, \"error_y\": {\"color\": \"#2a3f5f\"}, \"marker\": {\"line\": {\"color\": \"#E5ECF6\", \"width\": 0.5}}, \"type\": \"bar\"}], \"barpolar\": [{\"marker\": {\"line\": {\"color\": \"#E5ECF6\", \"width\": 0.5}}, \"type\": \"barpolar\"}], \"carpet\": [{\"aaxis\": {\"endlinecolor\": \"#2a3f5f\", \"gridcolor\": \"white\", \"linecolor\": \"white\", \"minorgridcolor\": \"white\", \"startlinecolor\": \"#2a3f5f\"}, \"baxis\": {\"endlinecolor\": \"#2a3f5f\", \"gridcolor\": \"white\", \"linecolor\": \"white\", \"minorgridcolor\": \"white\", \"startlinecolor\": \"#2a3f5f\"}, \"type\": \"carpet\"}], \"choropleth\": [{\"colorbar\": {\"outlinewidth\": 0, \"ticks\": \"\"}, \"type\": \"choropleth\"}], \"contour\": [{\"colorbar\": {\"outlinewidth\": 0, \"ticks\": \"\"}, \"colorscale\": [[0.0, \"#0d0887\"], [0.1111111111111111, \"#46039f\"], [0.2222222222222222, \"#7201a8\"], [0.3333333333333333, \"#9c179e\"], [0.4444444444444444, \"#bd3786\"], [0.5555555555555556, \"#d8576b\"], [0.6666666666666666, \"#ed7953\"], [0.7777777777777778, \"#fb9f3a\"], [0.8888888888888888, \"#fdca26\"], [1.0, \"#f0f921\"]], \"type\": \"contour\"}], \"contourcarpet\": [{\"colorbar\": {\"outlinewidth\": 0, \"ticks\": \"\"}, \"type\": \"contourcarpet\"}], \"heatmap\": [{\"colorbar\": {\"outlinewidth\": 0, \"ticks\": \"\"}, \"colorscale\": [[0.0, \"#0d0887\"], [0.1111111111111111, \"#46039f\"], [0.2222222222222222, \"#7201a8\"], [0.3333333333333333, \"#9c179e\"], [0.4444444444444444, \"#bd3786\"], [0.5555555555555556, \"#d8576b\"], [0.6666666666666666, \"#ed7953\"], [0.7777777777777778, \"#fb9f3a\"], [0.8888888888888888, \"#fdca26\"], [1.0, \"#f0f921\"]], \"type\": \"heatmap\"}], \"heatmapgl\": [{\"colorbar\": {\"outlinewidth\": 0, \"ticks\": \"\"}, \"colorscale\": [[0.0, \"#0d0887\"], [0.1111111111111111, \"#46039f\"], [0.2222222222222222, \"#7201a8\"], [0.3333333333333333, \"#9c179e\"], [0.4444444444444444, \"#bd3786\"], [0.5555555555555556, \"#d8576b\"], [0.6666666666666666, \"#ed7953\"], [0.7777777777777778, \"#fb9f3a\"], [0.8888888888888888, \"#fdca26\"], [1.0, \"#f0f921\"]], \"type\": \"heatmapgl\"}], \"histogram\": [{\"marker\": {\"colorbar\": {\"outlinewidth\": 0, \"ticks\": \"\"}}, \"type\": \"histogram\"}], \"histogram2d\": [{\"colorbar\": {\"outlinewidth\": 0, \"ticks\": \"\"}, \"colorscale\": [[0.0, \"#0d0887\"], [0.1111111111111111, \"#46039f\"], [0.2222222222222222, \"#7201a8\"], [0.3333333333333333, \"#9c179e\"], [0.4444444444444444, \"#bd3786\"], [0.5555555555555556, \"#d8576b\"], [0.6666666666666666, \"#ed7953\"], [0.7777777777777778, \"#fb9f3a\"], [0.8888888888888888, \"#fdca26\"], [1.0, \"#f0f921\"]], \"type\": \"histogram2d\"}], \"histogram2dcontour\": [{\"colorbar\": {\"outlinewidth\": 0, \"ticks\": \"\"}, \"colorscale\": [[0.0, \"#0d0887\"], [0.1111111111111111, \"#46039f\"], [0.2222222222222222, \"#7201a8\"], [0.3333333333333333, \"#9c179e\"], [0.4444444444444444, \"#bd3786\"], [0.5555555555555556, \"#d8576b\"], [0.6666666666666666, \"#ed7953\"], [0.7777777777777778, \"#fb9f3a\"], [0.8888888888888888, \"#fdca26\"], [1.0, \"#f0f921\"]], \"type\": \"histogram2dcontour\"}], \"mesh3d\": [{\"colorbar\": {\"outlinewidth\": 0, \"ticks\": \"\"}, \"type\": \"mesh3d\"}], \"parcoords\": [{\"line\": {\"colorbar\": {\"outlinewidth\": 0, \"ticks\": \"\"}}, \"type\": \"parcoords\"}], \"pie\": [{\"automargin\": true, \"type\": \"pie\"}], \"scatter\": [{\"marker\": {\"colorbar\": {\"outlinewidth\": 0, \"ticks\": \"\"}}, \"type\": \"scatter\"}], \"scatter3d\": [{\"line\": {\"colorbar\": {\"outlinewidth\": 0, \"ticks\": \"\"}}, \"marker\": {\"colorbar\": {\"outlinewidth\": 0, \"ticks\": \"\"}}, \"type\": \"scatter3d\"}], \"scattercarpet\": [{\"marker\": {\"colorbar\": {\"outlinewidth\": 0, \"ticks\": \"\"}}, \"type\": \"scattercarpet\"}], \"scattergeo\": [{\"marker\": {\"colorbar\": {\"outlinewidth\": 0, \"ticks\": \"\"}}, \"type\": \"scattergeo\"}], \"scattergl\": [{\"marker\": {\"colorbar\": {\"outlinewidth\": 0, \"ticks\": \"\"}}, \"type\": \"scattergl\"}], \"scattermapbox\": [{\"marker\": {\"colorbar\": {\"outlinewidth\": 0, \"ticks\": \"\"}}, \"type\": \"scattermapbox\"}], \"scatterpolar\": [{\"marker\": {\"colorbar\": {\"outlinewidth\": 0, \"ticks\": \"\"}}, \"type\": \"scatterpolar\"}], \"scatterpolargl\": [{\"marker\": {\"colorbar\": {\"outlinewidth\": 0, \"ticks\": \"\"}}, \"type\": \"scatterpolargl\"}], \"scatterternary\": [{\"marker\": {\"colorbar\": {\"outlinewidth\": 0, \"ticks\": \"\"}}, \"type\": \"scatterternary\"}], \"surface\": [{\"colorbar\": {\"outlinewidth\": 0, \"ticks\": \"\"}, \"colorscale\": [[0.0, \"#0d0887\"], [0.1111111111111111, \"#46039f\"], [0.2222222222222222, \"#7201a8\"], [0.3333333333333333, \"#9c179e\"], [0.4444444444444444, \"#bd3786\"], [0.5555555555555556, \"#d8576b\"], [0.6666666666666666, \"#ed7953\"], [0.7777777777777778, \"#fb9f3a\"], [0.8888888888888888, \"#fdca26\"], [1.0, \"#f0f921\"]], \"type\": \"surface\"}], \"table\": [{\"cells\": {\"fill\": {\"color\": \"#EBF0F8\"}, \"line\": {\"color\": \"white\"}}, \"header\": {\"fill\": {\"color\": \"#C8D4E3\"}, \"line\": {\"color\": \"white\"}}, \"type\": \"table\"}]}, \"layout\": {\"annotationdefaults\": {\"arrowcolor\": \"#2a3f5f\", \"arrowhead\": 0, \"arrowwidth\": 1}, \"autotypenumbers\": \"strict\", \"coloraxis\": {\"colorbar\": {\"outlinewidth\": 0, \"ticks\": \"\"}}, \"colorscale\": {\"diverging\": [[0, \"#8e0152\"], [0.1, \"#c51b7d\"], [0.2, \"#de77ae\"], [0.3, \"#f1b6da\"], [0.4, \"#fde0ef\"], [0.5, \"#f7f7f7\"], [0.6, \"#e6f5d0\"], [0.7, \"#b8e186\"], [0.8, \"#7fbc41\"], [0.9, \"#4d9221\"], [1, \"#276419\"]], \"sequential\": [[0.0, \"#0d0887\"], [0.1111111111111111, \"#46039f\"], [0.2222222222222222, \"#7201a8\"], [0.3333333333333333, \"#9c179e\"], [0.4444444444444444, \"#bd3786\"], [0.5555555555555556, \"#d8576b\"], [0.6666666666666666, \"#ed7953\"], [0.7777777777777778, \"#fb9f3a\"], [0.8888888888888888, \"#fdca26\"], [1.0, \"#f0f921\"]], \"sequentialminus\": [[0.0, \"#0d0887\"], [0.1111111111111111, \"#46039f\"], [0.2222222222222222, \"#7201a8\"], [0.3333333333333333, \"#9c179e\"], [0.4444444444444444, \"#bd3786\"], [0.5555555555555556, \"#d8576b\"], [0.6666666666666666, \"#ed7953\"], [0.7777777777777778, \"#fb9f3a\"], [0.8888888888888888, \"#fdca26\"], [1.0, \"#f0f921\"]]}, \"colorway\": [\"#636efa\", \"#EF553B\", \"#00cc96\", \"#ab63fa\", \"#FFA15A\", \"#19d3f3\", \"#FF6692\", \"#B6E880\", \"#FF97FF\", \"#FECB52\"], \"font\": {\"color\": \"#2a3f5f\"}, \"geo\": {\"bgcolor\": \"white\", \"lakecolor\": \"white\", \"landcolor\": \"#E5ECF6\", \"showlakes\": true, \"showland\": true, \"subunitcolor\": \"white\"}, \"hoverlabel\": {\"align\": \"left\"}, \"hovermode\": \"closest\", \"mapbox\": {\"style\": \"light\"}, \"paper_bgcolor\": \"white\", \"plot_bgcolor\": \"#E5ECF6\", \"polar\": {\"angularaxis\": {\"gridcolor\": \"white\", \"linecolor\": \"white\", \"ticks\": \"\"}, \"bgcolor\": \"#E5ECF6\", \"radialaxis\": {\"gridcolor\": \"white\", \"linecolor\": \"white\", \"ticks\": \"\"}}, \"scene\": {\"xaxis\": {\"backgroundcolor\": \"#E5ECF6\", \"gridcolor\": \"white\", \"gridwidth\": 2, \"linecolor\": \"white\", \"showbackground\": true, \"ticks\": \"\", \"zerolinecolor\": \"white\"}, \"yaxis\": {\"backgroundcolor\": \"#E5ECF6\", \"gridcolor\": \"white\", \"gridwidth\": 2, \"linecolor\": \"white\", \"showbackground\": true, \"ticks\": \"\", \"zerolinecolor\": \"white\"}, \"zaxis\": {\"backgroundcolor\": \"#E5ECF6\", \"gridcolor\": \"white\", \"gridwidth\": 2, \"linecolor\": \"white\", \"showbackground\": true, \"ticks\": \"\", \"zerolinecolor\": \"white\"}}, \"shapedefaults\": {\"line\": {\"color\": \"#2a3f5f\"}}, \"ternary\": {\"aaxis\": {\"gridcolor\": \"white\", \"linecolor\": \"white\", \"ticks\": \"\"}, \"baxis\": {\"gridcolor\": \"white\", \"linecolor\": \"white\", \"ticks\": \"\"}, \"bgcolor\": \"#E5ECF6\", \"caxis\": {\"gridcolor\": \"white\", \"linecolor\": \"white\", \"ticks\": \"\"}}, \"title\": {\"x\": 0.05}, \"xaxis\": {\"automargin\": true, \"gridcolor\": \"white\", \"linecolor\": \"white\", \"ticks\": \"\", \"title\": {\"standoff\": 15}, \"zerolinecolor\": \"white\", \"zerolinewidth\": 2}, \"yaxis\": {\"automargin\": true, \"gridcolor\": \"white\", \"linecolor\": \"white\", \"ticks\": \"\", \"title\": {\"standoff\": 15}, \"zerolinecolor\": \"white\", \"zerolinewidth\": 2}}}, \"width\": 600, \"xaxis\": {\"nticks\": 12, \"tickfont\": {\"color\": \"black\", \"size\": 14}, \"title\": {\"text\": \"<span style=\\\"font-size: 16px;\\\">Window width</span>\"}}, \"yaxis\": {\"tickfont\": {\"color\": \"black\", \"size\": 14}}},                        {\"responsive\": true}                    ).then(function(){\n",
              "                            \n",
              "var gd = document.getElementById('0771cbe0-f756-4f7a-ac51-6bcced525894');\n",
              "var x = new MutationObserver(function (mutations, observer) {{\n",
              "        var display = window.getComputedStyle(gd).display;\n",
              "        if (!display || display === 'none') {{\n",
              "            console.log([gd, 'removed!']);\n",
              "            Plotly.purge(gd);\n",
              "            observer.disconnect();\n",
              "        }}\n",
              "}});\n",
              "\n",
              "// Listen for the removal of the full notebook cells\n",
              "var notebookContainer = gd.closest('#notebook-container');\n",
              "if (notebookContainer) {{\n",
              "    x.observe(notebookContainer, {childList: true});\n",
              "}}\n",
              "\n",
              "// Listen for the clearing of the current output cell\n",
              "var outputEl = gd.closest('.output');\n",
              "if (outputEl) {{\n",
              "    x.observe(outputEl, {childList: true});\n",
              "}}\n",
              "\n",
              "                        })                };                            </script>        </div>\n",
              "</body>\n",
              "</html>"
            ]
          },
          "metadata": {
            "tags": []
          }
        }
      ]
    },
    {
      "cell_type": "code",
      "metadata": {
        "ExecuteTime": {
          "end_time": "2020-12-28T18:16:49.301093Z",
          "start_time": "2020-12-28T18:16:49.260539Z"
        },
        "id": "XrsE4Ub2nWWA"
      },
      "source": [
        "tmp = df_multi_1.reorder_levels([\n",
        "    'offset',\n",
        "    'model',\n",
        "    'city',\n",
        "])\n",
        "tmp = tmp.groupby(level=['offset', 'model']).median() \n",
        "# tmp.loc[1]['mean_absolute_error']\n",
        "figure = go.Figure()\n",
        "for i in range(1, 13):\n",
        "    figure.add_trace(\n",
        "        go.Box(\n",
        "            y=tmp.loc[i]['mean_absolute_error'],\n",
        "            name=f'{i}',\n",
        "        )\n",
        "    )\n",
        "figure.show(render='svg')"
      ],
      "execution_count": null,
      "outputs": []
    },
    {
      "cell_type": "markdown",
      "metadata": {
        "pycharm": {
          "name": "#%% md\n"
        },
        "id": "DiY1yyTgnWWB"
      },
      "source": [
        "## Rolling window"
      ]
    },
    {
      "cell_type": "markdown",
      "metadata": {
        "pycharm": {
          "name": "#%% md\n"
        },
        "id": "9sbTFGm5nWWC"
      },
      "source": [
        "### Replacement"
      ]
    },
    {
      "cell_type": "code",
      "metadata": {
        "ExecuteTime": {
          "end_time": "2021-01-26T02:58:06.173063Z",
          "start_time": "2021-01-26T02:58:03.670343Z"
        },
        "code_folding": [],
        "id": "s-VLPMOnnWWC",
        "colab": {
          "base_uri": "https://localhost:8080/",
          "height": 1000
        },
        "outputId": "2a9a1c3a-3c7b-4340-f397-99d1f439f99f"
      },
      "source": [
        "# Test rolling window with replacment\n",
        "replacement = True\n",
        "metrics = (mean_absolute_error, mean_squared_error)\n",
        "models = (\n",
        "        neural_network.MLPRegressor(random_state=100, max_iter=10000), \n",
        "        svm.SVR(max_iter=80000),\n",
        "        linear_model.LinearRegression(),\n",
        "        linear_model.BayesianRidge(),\n",
        "        linear_model.Ridge(max_iter=10000),\n",
        "        linear_model.SGDRegressor(random_state=10000, max_iter=10000),\n",
        ")\n",
        "offsets = tuple(range(1, 13))\n",
        "functions = {\n",
        "        'mean' : lambda rolling: rolling.mean(),\n",
        "        'max' : lambda rolling: rolling.max(),\n",
        "        'min' : lambda rolling: rolling.min(),\n",
        "        'median' : lambda rolling: rolling.median(),\n",
        "        'std' : lambda rolling: rolling.std()\n",
        "}\n",
        "legend = dict(\n",
        "        orientation=\"h\",\n",
        "        yanchor=\"bottom\",\n",
        "        y=1.06,\n",
        "        xanchor=\"right\",\n",
        "        x=0.75\n",
        ")\n",
        "# df_multi_1 = rolling_stats_window_test(data, models, functions, offsets, metrics, test_method,replacement)\n",
        "link = 'https://raw.githubusercontent.com/HBaena/forecasting-criminal-incidence/main/rw-r.feather'\n",
        "df_multi_1 = pd.read_feather(link)\n",
        "df_multi_1.set_index(['model', 'function', 'offset', 'city'], inplace=True)\n",
        "# df_multi_1 = pd.read_csv('rw-r.csv', index_col=)\n",
        "\n",
        "# Model vs window width\n",
        "# df_multi_1[df_multi_1 > 1] = nan\n",
        "tmp = df_multi_1.groupby(level=['model', 'offset']).agg(city_func)\n",
        "figure = boxplot_multiindex_df(tmp, 'mean_absolute_error', alias, layout=dict(**layout, **dict(showlegend=False)))\n",
        "figure.update_xaxes(title=subtitle_style.format('Window width'))\n",
        "figure.update_layout(\n",
        "                    width=400,\n",
        "                    legend=dict(title=subtitle_style.format('Model')),\n",
        ").show(render='svg')\n",
        "# figure.write_image(f'{images_path}boxplot-rw-model-r.pdf')\n",
        "# Plot scatterplot\n",
        "figure = scatter_multiindex_df(tmp, 'mean_absolute_error', alias, layout=layout)\n",
        "\n",
        "figure.update_xaxes(title='Window width', nticks=12\n",
        "                   ).update_xaxes(title=subtitle_style.format('Window width')).update_layout(\n",
        "                    legend=dict(title=subtitle_style.format('Model')),width=600,height=fig_height).show(render='svg')\n",
        "# figure.write_image(f'{images_path}scatter-rw-model-r.pdf')\n",
        "figure.data[1]['visible'] = 'legendonly'\n",
        "figure.data[2]['visible'] = 'legendonly'\n",
        "figure.data[4]['visible'] = 'legendonly'\n",
        "figure.update_layout(height=150, showlegend=False,\n",
        "                      xaxis=dict(visible=True,title='', tickfont=dict(size=8)),\n",
        "                      yaxis=dict(tickfont=dict(size=8)),\n",
        "                      )\n",
        "# figure.write_image(f'{images_path}scatter-rw-best-r.pdf')\n",
        "\n",
        "# Functions vs window width\n",
        "alias_f = dict(zip(functions.keys(), map(lambda s:s.capitalize(),functions.keys())))\n",
        "tmp = df_multi_1.groupby(level=['function', 'offset']).agg(city_func)\n",
        "figure = boxplot_multiindex_df(tmp, 'mean_absolute_error', alias_f, layout=dict(**layout, **dict(showlegend=False)))\n",
        "figure.update_xaxes(title=subtitle_style.format('Window width'))\n",
        "figure.update_layout(\n",
        "                    width=400,\n",
        "                    legend=dict(title=subtitle_style.format('Function')),\n",
        ").show(render='svg')\n",
        "# figure.write_image(f'{images_path}boxplot-rw-function-r.pdf')\n",
        "# Plot scatterplot\n",
        "figure = scatter_multiindex_df(tmp, 'mean_absolute_error', alias_f, layout=layout)\n",
        "\n",
        "figure.update_xaxes(title='Window width', nticks=12\n",
        "                   ).update_xaxes(title=subtitle_style.format('Window width')).update_layout(\n",
        "                    legend=dict(title=subtitle_style.format('Function')),width=600,height=fig_height).show(render='svg')\n",
        "# figure.write_image(f'{images_path}scatter-rw-function-r.pdf')\n",
        "\n",
        "tmp = df_multi_1.groupby(level=[0,1, 2]).agg(city_func)\n",
        "\n",
        "j=0\n",
        "figure = make_subplots(rows=3, cols=2, shared_xaxes=True, subplot_titles=df_multi_1.index.levels[0],\n",
        "                      horizontal_spacing=0.07,\n",
        "                      vertical_spacing=0.06,\n",
        "                      )\n",
        "for model, _df in tmp.groupby(level=0):\n",
        "    i = 0\n",
        "#     print(model)\n",
        "    for function, __df in _df.groupby(level=1):\n",
        "        figure.add_trace(\n",
        "                go.Scatter(\n",
        "                    x=list(map(lambda x:x[2], __df.index)),\n",
        "                    y=__df['mean_absolute_error'],\n",
        "                    marker=dict(color=colors[i]),\n",
        "                    name=function,\n",
        "                    legendgroup=function,\n",
        "                    showlegend=bool(j == 0)\n",
        "                ), row=j%3 + 1, col=j%2 + 1\n",
        "        )\n",
        "        i+=1\n",
        "    j+=1\n",
        "    figure.update_xaxes(nticks=12, row=j%3 + 1, col=j%2 + 1)\n",
        "    figure.update_xaxes(nticks=12, row=j%3 + 1, col=j%2 + 1)\n",
        "# figure.update_xaxes(visible=False, row=1, col=1)\n",
        "\n",
        "figure.update_xaxes(title='Window width', row=3, col=2)\n",
        "figure.update_xaxes(title='Window width', row=3, col=1)\n",
        "figure.update_layout(margin=margin, legend=legend).show(render='svg')\n",
        "\n",
        "# figure.write_image(f'{images_path}scatter-rw-fig-r.pdf')\n",
        "#         print(f'{images_path}scatter-rw-fig-{j}-r.pdf')\n",
        "#     'MCPR-2021/images/sca'\n",
        "tmp = df_multi_1.groupby(level=['model', 'offset']).agg(city_func)\n",
        "min_rw_r = tmp.groupby(level='model').min()['mean_absolute_error']"
      ],
      "execution_count": 12,
      "outputs": [
        {
          "output_type": "display_data",
          "data": {
            "text/html": [
              "<html>\n",
              "<head><meta charset=\"utf-8\" /></head>\n",
              "<body>\n",
              "    <div>            <script src=\"https://cdnjs.cloudflare.com/ajax/libs/mathjax/2.7.5/MathJax.js?config=TeX-AMS-MML_SVG\"></script><script type=\"text/javascript\">if (window.MathJax) {MathJax.Hub.Config({SVG: {font: \"STIX-Web\"}});}</script>                <script type=\"text/javascript\">window.PlotlyConfig = {MathJaxConfig: 'local'};</script>\n",
              "        <script src=\"https://cdn.plot.ly/plotly-latest.min.js\"></script>                <div id=\"f3225d7e-d56a-479d-bf0a-aea486301f79\" class=\"plotly-graph-div\" style=\"height:350px; width:400px;\"></div>            <script type=\"text/javascript\">                                    window.PLOTLYENV=window.PLOTLYENV || {};                                    if (document.getElementById(\"f3225d7e-d56a-479d-bf0a-aea486301f79\")) {                    Plotly.newPlot(                        \"f3225d7e-d56a-479d-bf0a-aea486301f79\",                        [{\"marker\": {\"color\": \"#d54062\"}, \"name\": \"BR\", \"type\": \"box\", \"y\": [0.1416426064501443, 0.1432809129748185, 0.1412071333972181, 0.1377485527517255, 0.1399428121358581, 0.141065889076658, 0.1403709699933571, 0.1402274950642807, 0.140502871279591, 0.140988440335794, 0.1399673605671941, 0.1394501601308069]}, {\"marker\": {\"color\": \"#ffa36c\"}, \"name\": \"LR\", \"type\": \"box\", \"y\": [0.1611058371848185, 0.1773589820154149, 0.1816267083388763, 0.1802518517910329, 0.1738277065893716, 0.187164217280234, 0.1684886109190441, 0.1773675722320573, 0.1860327989314507, 0.1856172394179598, 0.1878733469261686, 0.19411926446696146]}, {\"marker\": {\"color\": \"#799351\"}, \"name\": \"MLP\", \"type\": \"box\", \"y\": [0.161044396859437, 0.1515555893380757, 0.1540076069623277, 0.1447237229412412, 0.1483986422397702, 0.1442435059302711, 0.1489954356454836, 0.1496220742939415, 0.1454191253610128, 0.1480373023158543, 0.1484105947097086, 0.1461464842523996]}, {\"marker\": {\"color\": \"#0f4c75\"}, \"name\": \"R\", \"type\": \"box\", \"y\": [0.1427857720831377, 0.1432994289986137, 0.1424692838381291, 0.142186294149484, 0.1416311887219457, 0.1421388543132413, 0.1416302734453806, 0.1413940813000715, 0.1404262420714544, 0.1407865444329941, 0.1400145821338731, 0.1389657901989436]}, {\"marker\": {\"color\": \"#3c2946\"}, \"name\": \"SGD\", \"type\": \"box\", \"y\": [0.1875181566103356, 0.1856433688922372, 0.1890226801920771, 0.1908900128125842, 0.1923519992250676, 0.1941118406039925, 0.1943686961922204, 0.1964103891921271, 0.1969661293678291, 0.1987812837640816, 0.2008837359741615, 0.2020599297728514]}, {\"marker\": {\"color\": \"#89c9b8\"}, \"name\": \"SVR\", \"type\": \"box\", \"y\": [0.138964593549906, 0.1369588912965665, 0.14060325195791, 0.1404868774862931, 0.1408367346080938, 0.1413136065110016, 0.1422250485398247, 0.142189986351385, 0.1408122483964609, 0.1412527068953851, 0.1405348228552763, 0.1403009869708591]}],                        {\"autosize\": false, \"height\": 350, \"legend\": {\"title\": {\"text\": \"<span style=\\\"font-size: 16px;\\\">Model</span>\"}}, \"margin\": {\"b\": 0, \"l\": 0, \"pad\": 5, \"r\": 0, \"t\": 5}, \"showlegend\": false, \"template\": {\"data\": {\"bar\": [{\"error_x\": {\"color\": \"#2a3f5f\"}, \"error_y\": {\"color\": \"#2a3f5f\"}, \"marker\": {\"line\": {\"color\": \"#E5ECF6\", \"width\": 0.5}}, \"type\": \"bar\"}], \"barpolar\": [{\"marker\": {\"line\": {\"color\": \"#E5ECF6\", \"width\": 0.5}}, \"type\": \"barpolar\"}], \"carpet\": [{\"aaxis\": {\"endlinecolor\": \"#2a3f5f\", \"gridcolor\": \"white\", \"linecolor\": \"white\", \"minorgridcolor\": \"white\", \"startlinecolor\": \"#2a3f5f\"}, \"baxis\": {\"endlinecolor\": \"#2a3f5f\", \"gridcolor\": \"white\", \"linecolor\": \"white\", \"minorgridcolor\": \"white\", \"startlinecolor\": \"#2a3f5f\"}, \"type\": \"carpet\"}], \"choropleth\": [{\"colorbar\": {\"outlinewidth\": 0, \"ticks\": \"\"}, \"type\": \"choropleth\"}], \"contour\": [{\"colorbar\": {\"outlinewidth\": 0, \"ticks\": \"\"}, \"colorscale\": [[0.0, \"#0d0887\"], [0.1111111111111111, \"#46039f\"], [0.2222222222222222, \"#7201a8\"], [0.3333333333333333, \"#9c179e\"], [0.4444444444444444, \"#bd3786\"], [0.5555555555555556, \"#d8576b\"], [0.6666666666666666, \"#ed7953\"], [0.7777777777777778, \"#fb9f3a\"], [0.8888888888888888, \"#fdca26\"], [1.0, \"#f0f921\"]], \"type\": \"contour\"}], \"contourcarpet\": [{\"colorbar\": {\"outlinewidth\": 0, \"ticks\": \"\"}, \"type\": \"contourcarpet\"}], \"heatmap\": [{\"colorbar\": {\"outlinewidth\": 0, \"ticks\": \"\"}, \"colorscale\": [[0.0, \"#0d0887\"], [0.1111111111111111, \"#46039f\"], [0.2222222222222222, \"#7201a8\"], [0.3333333333333333, \"#9c179e\"], [0.4444444444444444, \"#bd3786\"], [0.5555555555555556, \"#d8576b\"], [0.6666666666666666, \"#ed7953\"], [0.7777777777777778, \"#fb9f3a\"], [0.8888888888888888, \"#fdca26\"], [1.0, \"#f0f921\"]], \"type\": \"heatmap\"}], \"heatmapgl\": [{\"colorbar\": {\"outlinewidth\": 0, \"ticks\": \"\"}, \"colorscale\": [[0.0, \"#0d0887\"], [0.1111111111111111, \"#46039f\"], [0.2222222222222222, \"#7201a8\"], [0.3333333333333333, \"#9c179e\"], [0.4444444444444444, \"#bd3786\"], [0.5555555555555556, \"#d8576b\"], [0.6666666666666666, \"#ed7953\"], [0.7777777777777778, \"#fb9f3a\"], [0.8888888888888888, \"#fdca26\"], [1.0, \"#f0f921\"]], \"type\": \"heatmapgl\"}], \"histogram\": [{\"marker\": {\"colorbar\": {\"outlinewidth\": 0, \"ticks\": \"\"}}, \"type\": \"histogram\"}], \"histogram2d\": [{\"colorbar\": {\"outlinewidth\": 0, \"ticks\": \"\"}, \"colorscale\": [[0.0, \"#0d0887\"], [0.1111111111111111, \"#46039f\"], [0.2222222222222222, \"#7201a8\"], [0.3333333333333333, \"#9c179e\"], [0.4444444444444444, \"#bd3786\"], [0.5555555555555556, \"#d8576b\"], [0.6666666666666666, \"#ed7953\"], [0.7777777777777778, \"#fb9f3a\"], [0.8888888888888888, \"#fdca26\"], [1.0, \"#f0f921\"]], \"type\": \"histogram2d\"}], \"histogram2dcontour\": [{\"colorbar\": {\"outlinewidth\": 0, \"ticks\": \"\"}, \"colorscale\": [[0.0, \"#0d0887\"], [0.1111111111111111, \"#46039f\"], [0.2222222222222222, \"#7201a8\"], [0.3333333333333333, \"#9c179e\"], [0.4444444444444444, \"#bd3786\"], [0.5555555555555556, \"#d8576b\"], [0.6666666666666666, \"#ed7953\"], [0.7777777777777778, \"#fb9f3a\"], [0.8888888888888888, \"#fdca26\"], [1.0, \"#f0f921\"]], \"type\": \"histogram2dcontour\"}], \"mesh3d\": [{\"colorbar\": {\"outlinewidth\": 0, \"ticks\": \"\"}, \"type\": \"mesh3d\"}], \"parcoords\": [{\"line\": {\"colorbar\": {\"outlinewidth\": 0, \"ticks\": \"\"}}, \"type\": \"parcoords\"}], \"pie\": [{\"automargin\": true, \"type\": \"pie\"}], \"scatter\": [{\"marker\": {\"colorbar\": {\"outlinewidth\": 0, \"ticks\": \"\"}}, \"type\": \"scatter\"}], \"scatter3d\": [{\"line\": {\"colorbar\": {\"outlinewidth\": 0, \"ticks\": \"\"}}, \"marker\": {\"colorbar\": {\"outlinewidth\": 0, \"ticks\": \"\"}}, \"type\": \"scatter3d\"}], \"scattercarpet\": [{\"marker\": {\"colorbar\": {\"outlinewidth\": 0, \"ticks\": \"\"}}, \"type\": \"scattercarpet\"}], \"scattergeo\": [{\"marker\": {\"colorbar\": {\"outlinewidth\": 0, \"ticks\": \"\"}}, \"type\": \"scattergeo\"}], \"scattergl\": [{\"marker\": {\"colorbar\": {\"outlinewidth\": 0, \"ticks\": \"\"}}, \"type\": \"scattergl\"}], \"scattermapbox\": [{\"marker\": {\"colorbar\": {\"outlinewidth\": 0, \"ticks\": \"\"}}, \"type\": \"scattermapbox\"}], \"scatterpolar\": [{\"marker\": {\"colorbar\": {\"outlinewidth\": 0, \"ticks\": \"\"}}, \"type\": \"scatterpolar\"}], \"scatterpolargl\": [{\"marker\": {\"colorbar\": {\"outlinewidth\": 0, \"ticks\": \"\"}}, \"type\": \"scatterpolargl\"}], \"scatterternary\": [{\"marker\": {\"colorbar\": {\"outlinewidth\": 0, \"ticks\": \"\"}}, \"type\": \"scatterternary\"}], \"surface\": [{\"colorbar\": {\"outlinewidth\": 0, \"ticks\": \"\"}, \"colorscale\": [[0.0, \"#0d0887\"], [0.1111111111111111, \"#46039f\"], [0.2222222222222222, \"#7201a8\"], [0.3333333333333333, \"#9c179e\"], [0.4444444444444444, \"#bd3786\"], [0.5555555555555556, \"#d8576b\"], [0.6666666666666666, \"#ed7953\"], [0.7777777777777778, \"#fb9f3a\"], [0.8888888888888888, \"#fdca26\"], [1.0, \"#f0f921\"]], \"type\": \"surface\"}], \"table\": [{\"cells\": {\"fill\": {\"color\": \"#EBF0F8\"}, \"line\": {\"color\": \"white\"}}, \"header\": {\"fill\": {\"color\": \"#C8D4E3\"}, \"line\": {\"color\": \"white\"}}, \"type\": \"table\"}]}, \"layout\": {\"annotationdefaults\": {\"arrowcolor\": \"#2a3f5f\", \"arrowhead\": 0, \"arrowwidth\": 1}, \"autotypenumbers\": \"strict\", \"coloraxis\": {\"colorbar\": {\"outlinewidth\": 0, \"ticks\": \"\"}}, \"colorscale\": {\"diverging\": [[0, \"#8e0152\"], [0.1, \"#c51b7d\"], [0.2, \"#de77ae\"], [0.3, \"#f1b6da\"], [0.4, \"#fde0ef\"], [0.5, \"#f7f7f7\"], [0.6, \"#e6f5d0\"], [0.7, \"#b8e186\"], [0.8, \"#7fbc41\"], [0.9, \"#4d9221\"], [1, \"#276419\"]], \"sequential\": [[0.0, \"#0d0887\"], [0.1111111111111111, \"#46039f\"], [0.2222222222222222, \"#7201a8\"], [0.3333333333333333, \"#9c179e\"], [0.4444444444444444, \"#bd3786\"], [0.5555555555555556, \"#d8576b\"], [0.6666666666666666, \"#ed7953\"], [0.7777777777777778, \"#fb9f3a\"], [0.8888888888888888, \"#fdca26\"], [1.0, \"#f0f921\"]], \"sequentialminus\": [[0.0, \"#0d0887\"], [0.1111111111111111, \"#46039f\"], [0.2222222222222222, \"#7201a8\"], [0.3333333333333333, \"#9c179e\"], [0.4444444444444444, \"#bd3786\"], [0.5555555555555556, \"#d8576b\"], [0.6666666666666666, \"#ed7953\"], [0.7777777777777778, \"#fb9f3a\"], [0.8888888888888888, \"#fdca26\"], [1.0, \"#f0f921\"]]}, \"colorway\": [\"#636efa\", \"#EF553B\", \"#00cc96\", \"#ab63fa\", \"#FFA15A\", \"#19d3f3\", \"#FF6692\", \"#B6E880\", \"#FF97FF\", \"#FECB52\"], \"font\": {\"color\": \"#2a3f5f\"}, \"geo\": {\"bgcolor\": \"white\", \"lakecolor\": \"white\", \"landcolor\": \"#E5ECF6\", \"showlakes\": true, \"showland\": true, \"subunitcolor\": \"white\"}, \"hoverlabel\": {\"align\": \"left\"}, \"hovermode\": \"closest\", \"mapbox\": {\"style\": \"light\"}, \"paper_bgcolor\": \"white\", \"plot_bgcolor\": \"#E5ECF6\", \"polar\": {\"angularaxis\": {\"gridcolor\": \"white\", \"linecolor\": \"white\", \"ticks\": \"\"}, \"bgcolor\": \"#E5ECF6\", \"radialaxis\": {\"gridcolor\": \"white\", \"linecolor\": \"white\", \"ticks\": \"\"}}, \"scene\": {\"xaxis\": {\"backgroundcolor\": \"#E5ECF6\", \"gridcolor\": \"white\", \"gridwidth\": 2, \"linecolor\": \"white\", \"showbackground\": true, \"ticks\": \"\", \"zerolinecolor\": \"white\"}, \"yaxis\": {\"backgroundcolor\": \"#E5ECF6\", \"gridcolor\": \"white\", \"gridwidth\": 2, \"linecolor\": \"white\", \"showbackground\": true, \"ticks\": \"\", \"zerolinecolor\": \"white\"}, \"zaxis\": {\"backgroundcolor\": \"#E5ECF6\", \"gridcolor\": \"white\", \"gridwidth\": 2, \"linecolor\": \"white\", \"showbackground\": true, \"ticks\": \"\", \"zerolinecolor\": \"white\"}}, \"shapedefaults\": {\"line\": {\"color\": \"#2a3f5f\"}}, \"ternary\": {\"aaxis\": {\"gridcolor\": \"white\", \"linecolor\": \"white\", \"ticks\": \"\"}, \"baxis\": {\"gridcolor\": \"white\", \"linecolor\": \"white\", \"ticks\": \"\"}, \"bgcolor\": \"#E5ECF6\", \"caxis\": {\"gridcolor\": \"white\", \"linecolor\": \"white\", \"ticks\": \"\"}}, \"title\": {\"x\": 0.05}, \"xaxis\": {\"automargin\": true, \"gridcolor\": \"white\", \"linecolor\": \"white\", \"ticks\": \"\", \"title\": {\"standoff\": 15}, \"zerolinecolor\": \"white\", \"zerolinewidth\": 2}, \"yaxis\": {\"automargin\": true, \"gridcolor\": \"white\", \"linecolor\": \"white\", \"ticks\": \"\", \"title\": {\"standoff\": 15}, \"zerolinecolor\": \"white\", \"zerolinewidth\": 2}}}, \"width\": 400, \"xaxis\": {\"tickfont\": {\"color\": \"black\", \"size\": 14}, \"title\": {\"text\": \"<span style=\\\"font-size: 16px;\\\">Window width</span>\"}}, \"yaxis\": {\"tickfont\": {\"color\": \"black\", \"size\": 14}}},                        {\"responsive\": true}                    ).then(function(){\n",
              "                            \n",
              "var gd = document.getElementById('f3225d7e-d56a-479d-bf0a-aea486301f79');\n",
              "var x = new MutationObserver(function (mutations, observer) {{\n",
              "        var display = window.getComputedStyle(gd).display;\n",
              "        if (!display || display === 'none') {{\n",
              "            console.log([gd, 'removed!']);\n",
              "            Plotly.purge(gd);\n",
              "            observer.disconnect();\n",
              "        }}\n",
              "}});\n",
              "\n",
              "// Listen for the removal of the full notebook cells\n",
              "var notebookContainer = gd.closest('#notebook-container');\n",
              "if (notebookContainer) {{\n",
              "    x.observe(notebookContainer, {childList: true});\n",
              "}}\n",
              "\n",
              "// Listen for the clearing of the current output cell\n",
              "var outputEl = gd.closest('.output');\n",
              "if (outputEl) {{\n",
              "    x.observe(outputEl, {childList: true});\n",
              "}}\n",
              "\n",
              "                        })                };                            </script>        </div>\n",
              "</body>\n",
              "</html>"
            ]
          },
          "metadata": {
            "tags": []
          }
        },
        {
          "output_type": "display_data",
          "data": {
            "text/html": [
              "<html>\n",
              "<head><meta charset=\"utf-8\" /></head>\n",
              "<body>\n",
              "    <div>            <script src=\"https://cdnjs.cloudflare.com/ajax/libs/mathjax/2.7.5/MathJax.js?config=TeX-AMS-MML_SVG\"></script><script type=\"text/javascript\">if (window.MathJax) {MathJax.Hub.Config({SVG: {font: \"STIX-Web\"}});}</script>                <script type=\"text/javascript\">window.PlotlyConfig = {MathJaxConfig: 'local'};</script>\n",
              "        <script src=\"https://cdn.plot.ly/plotly-latest.min.js\"></script>                <div id=\"632c68f5-43ac-494d-87e7-716a359c5341\" class=\"plotly-graph-div\" style=\"height:350px; width:600px;\"></div>            <script type=\"text/javascript\">                                    window.PLOTLYENV=window.PLOTLYENV || {};                                    if (document.getElementById(\"632c68f5-43ac-494d-87e7-716a359c5341\")) {                    Plotly.newPlot(                        \"632c68f5-43ac-494d-87e7-716a359c5341\",                        [{\"legendgroup\": \"BayesianRidge\", \"marker\": {\"color\": \"#d54062\"}, \"name\": \"BR\", \"type\": \"scatter\", \"x\": [1, 2, 3, 4, 5, 6, 7, 8, 9, 10, 11, 12], \"y\": [0.1416426064501443, 0.1432809129748185, 0.1412071333972181, 0.1377485527517255, 0.1399428121358581, 0.141065889076658, 0.1403709699933571, 0.1402274950642807, 0.140502871279591, 0.140988440335794, 0.1399673605671941, 0.1394501601308069]}, {\"legendgroup\": \"LinearRegression\", \"marker\": {\"color\": \"#ffa36c\"}, \"name\": \"LR\", \"type\": \"scatter\", \"x\": [1, 2, 3, 4, 5, 6, 7, 8, 9, 10, 11, 12], \"y\": [0.1611058371848185, 0.1773589820154149, 0.1816267083388763, 0.1802518517910329, 0.1738277065893716, 0.187164217280234, 0.1684886109190441, 0.1773675722320573, 0.1860327989314507, 0.1856172394179598, 0.1878733469261686, 0.19411926446696146]}, {\"legendgroup\": \"MLPRegressor\", \"marker\": {\"color\": \"#799351\"}, \"name\": \"MLP\", \"type\": \"scatter\", \"x\": [1, 2, 3, 4, 5, 6, 7, 8, 9, 10, 11, 12], \"y\": [0.161044396859437, 0.1515555893380757, 0.1540076069623277, 0.1447237229412412, 0.1483986422397702, 0.1442435059302711, 0.1489954356454836, 0.1496220742939415, 0.1454191253610128, 0.1480373023158543, 0.1484105947097086, 0.1461464842523996]}, {\"legendgroup\": \"Ridge\", \"marker\": {\"color\": \"#0f4c75\"}, \"name\": \"R\", \"type\": \"scatter\", \"x\": [1, 2, 3, 4, 5, 6, 7, 8, 9, 10, 11, 12], \"y\": [0.1427857720831377, 0.1432994289986137, 0.1424692838381291, 0.142186294149484, 0.1416311887219457, 0.1421388543132413, 0.1416302734453806, 0.1413940813000715, 0.1404262420714544, 0.1407865444329941, 0.1400145821338731, 0.1389657901989436]}, {\"legendgroup\": \"SGDRegressor\", \"marker\": {\"color\": \"#3c2946\"}, \"name\": \"SGD\", \"type\": \"scatter\", \"x\": [1, 2, 3, 4, 5, 6, 7, 8, 9, 10, 11, 12], \"y\": [0.1875181566103356, 0.1856433688922372, 0.1890226801920771, 0.1908900128125842, 0.1923519992250676, 0.1941118406039925, 0.1943686961922204, 0.1964103891921271, 0.1969661293678291, 0.1987812837640816, 0.2008837359741615, 0.2020599297728514]}, {\"legendgroup\": \"SVR\", \"marker\": {\"color\": \"#89c9b8\"}, \"name\": \"SVR\", \"type\": \"scatter\", \"x\": [1, 2, 3, 4, 5, 6, 7, 8, 9, 10, 11, 12], \"y\": [0.138964593549906, 0.1369588912965665, 0.14060325195791, 0.1404868774862931, 0.1408367346080938, 0.1413136065110016, 0.1422250485398247, 0.142189986351385, 0.1408122483964609, 0.1412527068953851, 0.1405348228552763, 0.1403009869708591]}],                        {\"autosize\": false, \"height\": 350, \"legend\": {\"title\": {\"text\": \"<span style=\\\"font-size: 16px;\\\">Model</span>\"}}, \"margin\": {\"b\": 0, \"l\": 0, \"pad\": 5, \"r\": 0, \"t\": 5}, \"showlegend\": true, \"template\": {\"data\": {\"bar\": [{\"error_x\": {\"color\": \"#2a3f5f\"}, \"error_y\": {\"color\": \"#2a3f5f\"}, \"marker\": {\"line\": {\"color\": \"#E5ECF6\", \"width\": 0.5}}, \"type\": \"bar\"}], \"barpolar\": [{\"marker\": {\"line\": {\"color\": \"#E5ECF6\", \"width\": 0.5}}, \"type\": \"barpolar\"}], \"carpet\": [{\"aaxis\": {\"endlinecolor\": \"#2a3f5f\", \"gridcolor\": \"white\", \"linecolor\": \"white\", \"minorgridcolor\": \"white\", \"startlinecolor\": \"#2a3f5f\"}, \"baxis\": {\"endlinecolor\": \"#2a3f5f\", \"gridcolor\": \"white\", \"linecolor\": \"white\", \"minorgridcolor\": \"white\", \"startlinecolor\": \"#2a3f5f\"}, \"type\": \"carpet\"}], \"choropleth\": [{\"colorbar\": {\"outlinewidth\": 0, \"ticks\": \"\"}, \"type\": \"choropleth\"}], \"contour\": [{\"colorbar\": {\"outlinewidth\": 0, \"ticks\": \"\"}, \"colorscale\": [[0.0, \"#0d0887\"], [0.1111111111111111, \"#46039f\"], [0.2222222222222222, \"#7201a8\"], [0.3333333333333333, \"#9c179e\"], [0.4444444444444444, \"#bd3786\"], [0.5555555555555556, \"#d8576b\"], [0.6666666666666666, \"#ed7953\"], [0.7777777777777778, \"#fb9f3a\"], [0.8888888888888888, \"#fdca26\"], [1.0, \"#f0f921\"]], \"type\": \"contour\"}], \"contourcarpet\": [{\"colorbar\": {\"outlinewidth\": 0, \"ticks\": \"\"}, \"type\": \"contourcarpet\"}], \"heatmap\": [{\"colorbar\": {\"outlinewidth\": 0, \"ticks\": \"\"}, \"colorscale\": [[0.0, \"#0d0887\"], [0.1111111111111111, \"#46039f\"], [0.2222222222222222, \"#7201a8\"], [0.3333333333333333, \"#9c179e\"], [0.4444444444444444, \"#bd3786\"], [0.5555555555555556, \"#d8576b\"], [0.6666666666666666, \"#ed7953\"], [0.7777777777777778, \"#fb9f3a\"], [0.8888888888888888, \"#fdca26\"], [1.0, \"#f0f921\"]], \"type\": \"heatmap\"}], \"heatmapgl\": [{\"colorbar\": {\"outlinewidth\": 0, \"ticks\": \"\"}, \"colorscale\": [[0.0, \"#0d0887\"], [0.1111111111111111, \"#46039f\"], [0.2222222222222222, \"#7201a8\"], [0.3333333333333333, \"#9c179e\"], [0.4444444444444444, \"#bd3786\"], [0.5555555555555556, \"#d8576b\"], [0.6666666666666666, \"#ed7953\"], [0.7777777777777778, \"#fb9f3a\"], [0.8888888888888888, \"#fdca26\"], [1.0, \"#f0f921\"]], \"type\": \"heatmapgl\"}], \"histogram\": [{\"marker\": {\"colorbar\": {\"outlinewidth\": 0, \"ticks\": \"\"}}, \"type\": \"histogram\"}], \"histogram2d\": [{\"colorbar\": {\"outlinewidth\": 0, \"ticks\": \"\"}, \"colorscale\": [[0.0, \"#0d0887\"], [0.1111111111111111, \"#46039f\"], [0.2222222222222222, \"#7201a8\"], [0.3333333333333333, \"#9c179e\"], [0.4444444444444444, \"#bd3786\"], [0.5555555555555556, \"#d8576b\"], [0.6666666666666666, \"#ed7953\"], [0.7777777777777778, \"#fb9f3a\"], [0.8888888888888888, \"#fdca26\"], [1.0, \"#f0f921\"]], \"type\": \"histogram2d\"}], \"histogram2dcontour\": [{\"colorbar\": {\"outlinewidth\": 0, \"ticks\": \"\"}, \"colorscale\": [[0.0, \"#0d0887\"], [0.1111111111111111, \"#46039f\"], [0.2222222222222222, \"#7201a8\"], [0.3333333333333333, \"#9c179e\"], [0.4444444444444444, \"#bd3786\"], [0.5555555555555556, \"#d8576b\"], [0.6666666666666666, \"#ed7953\"], [0.7777777777777778, \"#fb9f3a\"], [0.8888888888888888, \"#fdca26\"], [1.0, \"#f0f921\"]], \"type\": \"histogram2dcontour\"}], \"mesh3d\": [{\"colorbar\": {\"outlinewidth\": 0, \"ticks\": \"\"}, \"type\": \"mesh3d\"}], \"parcoords\": [{\"line\": {\"colorbar\": {\"outlinewidth\": 0, \"ticks\": \"\"}}, \"type\": \"parcoords\"}], \"pie\": [{\"automargin\": true, \"type\": \"pie\"}], \"scatter\": [{\"marker\": {\"colorbar\": {\"outlinewidth\": 0, \"ticks\": \"\"}}, \"type\": \"scatter\"}], \"scatter3d\": [{\"line\": {\"colorbar\": {\"outlinewidth\": 0, \"ticks\": \"\"}}, \"marker\": {\"colorbar\": {\"outlinewidth\": 0, \"ticks\": \"\"}}, \"type\": \"scatter3d\"}], \"scattercarpet\": [{\"marker\": {\"colorbar\": {\"outlinewidth\": 0, \"ticks\": \"\"}}, \"type\": \"scattercarpet\"}], \"scattergeo\": [{\"marker\": {\"colorbar\": {\"outlinewidth\": 0, \"ticks\": \"\"}}, \"type\": \"scattergeo\"}], \"scattergl\": [{\"marker\": {\"colorbar\": {\"outlinewidth\": 0, \"ticks\": \"\"}}, \"type\": \"scattergl\"}], \"scattermapbox\": [{\"marker\": {\"colorbar\": {\"outlinewidth\": 0, \"ticks\": \"\"}}, \"type\": \"scattermapbox\"}], \"scatterpolar\": [{\"marker\": {\"colorbar\": {\"outlinewidth\": 0, \"ticks\": \"\"}}, \"type\": \"scatterpolar\"}], \"scatterpolargl\": [{\"marker\": {\"colorbar\": {\"outlinewidth\": 0, \"ticks\": \"\"}}, \"type\": \"scatterpolargl\"}], \"scatterternary\": [{\"marker\": {\"colorbar\": {\"outlinewidth\": 0, \"ticks\": \"\"}}, \"type\": \"scatterternary\"}], \"surface\": [{\"colorbar\": {\"outlinewidth\": 0, \"ticks\": \"\"}, \"colorscale\": [[0.0, \"#0d0887\"], [0.1111111111111111, \"#46039f\"], [0.2222222222222222, \"#7201a8\"], [0.3333333333333333, \"#9c179e\"], [0.4444444444444444, \"#bd3786\"], [0.5555555555555556, \"#d8576b\"], [0.6666666666666666, \"#ed7953\"], [0.7777777777777778, \"#fb9f3a\"], [0.8888888888888888, \"#fdca26\"], [1.0, \"#f0f921\"]], \"type\": \"surface\"}], \"table\": [{\"cells\": {\"fill\": {\"color\": \"#EBF0F8\"}, \"line\": {\"color\": \"white\"}}, \"header\": {\"fill\": {\"color\": \"#C8D4E3\"}, \"line\": {\"color\": \"white\"}}, \"type\": \"table\"}]}, \"layout\": {\"annotationdefaults\": {\"arrowcolor\": \"#2a3f5f\", \"arrowhead\": 0, \"arrowwidth\": 1}, \"autotypenumbers\": \"strict\", \"coloraxis\": {\"colorbar\": {\"outlinewidth\": 0, \"ticks\": \"\"}}, \"colorscale\": {\"diverging\": [[0, \"#8e0152\"], [0.1, \"#c51b7d\"], [0.2, \"#de77ae\"], [0.3, \"#f1b6da\"], [0.4, \"#fde0ef\"], [0.5, \"#f7f7f7\"], [0.6, \"#e6f5d0\"], [0.7, \"#b8e186\"], [0.8, \"#7fbc41\"], [0.9, \"#4d9221\"], [1, \"#276419\"]], \"sequential\": [[0.0, \"#0d0887\"], [0.1111111111111111, \"#46039f\"], [0.2222222222222222, \"#7201a8\"], [0.3333333333333333, \"#9c179e\"], [0.4444444444444444, \"#bd3786\"], [0.5555555555555556, \"#d8576b\"], [0.6666666666666666, \"#ed7953\"], [0.7777777777777778, \"#fb9f3a\"], [0.8888888888888888, \"#fdca26\"], [1.0, \"#f0f921\"]], \"sequentialminus\": [[0.0, \"#0d0887\"], [0.1111111111111111, \"#46039f\"], [0.2222222222222222, \"#7201a8\"], [0.3333333333333333, \"#9c179e\"], [0.4444444444444444, \"#bd3786\"], [0.5555555555555556, \"#d8576b\"], [0.6666666666666666, \"#ed7953\"], [0.7777777777777778, \"#fb9f3a\"], [0.8888888888888888, \"#fdca26\"], [1.0, \"#f0f921\"]]}, \"colorway\": [\"#636efa\", \"#EF553B\", \"#00cc96\", \"#ab63fa\", \"#FFA15A\", \"#19d3f3\", \"#FF6692\", \"#B6E880\", \"#FF97FF\", \"#FECB52\"], \"font\": {\"color\": \"#2a3f5f\"}, \"geo\": {\"bgcolor\": \"white\", \"lakecolor\": \"white\", \"landcolor\": \"#E5ECF6\", \"showlakes\": true, \"showland\": true, \"subunitcolor\": \"white\"}, \"hoverlabel\": {\"align\": \"left\"}, \"hovermode\": \"closest\", \"mapbox\": {\"style\": \"light\"}, \"paper_bgcolor\": \"white\", \"plot_bgcolor\": \"#E5ECF6\", \"polar\": {\"angularaxis\": {\"gridcolor\": \"white\", \"linecolor\": \"white\", \"ticks\": \"\"}, \"bgcolor\": \"#E5ECF6\", \"radialaxis\": {\"gridcolor\": \"white\", \"linecolor\": \"white\", \"ticks\": \"\"}}, \"scene\": {\"xaxis\": {\"backgroundcolor\": \"#E5ECF6\", \"gridcolor\": \"white\", \"gridwidth\": 2, \"linecolor\": \"white\", \"showbackground\": true, \"ticks\": \"\", \"zerolinecolor\": \"white\"}, \"yaxis\": {\"backgroundcolor\": \"#E5ECF6\", \"gridcolor\": \"white\", \"gridwidth\": 2, \"linecolor\": \"white\", \"showbackground\": true, \"ticks\": \"\", \"zerolinecolor\": \"white\"}, \"zaxis\": {\"backgroundcolor\": \"#E5ECF6\", \"gridcolor\": \"white\", \"gridwidth\": 2, \"linecolor\": \"white\", \"showbackground\": true, \"ticks\": \"\", \"zerolinecolor\": \"white\"}}, \"shapedefaults\": {\"line\": {\"color\": \"#2a3f5f\"}}, \"ternary\": {\"aaxis\": {\"gridcolor\": \"white\", \"linecolor\": \"white\", \"ticks\": \"\"}, \"baxis\": {\"gridcolor\": \"white\", \"linecolor\": \"white\", \"ticks\": \"\"}, \"bgcolor\": \"#E5ECF6\", \"caxis\": {\"gridcolor\": \"white\", \"linecolor\": \"white\", \"ticks\": \"\"}}, \"title\": {\"x\": 0.05}, \"xaxis\": {\"automargin\": true, \"gridcolor\": \"white\", \"linecolor\": \"white\", \"ticks\": \"\", \"title\": {\"standoff\": 15}, \"zerolinecolor\": \"white\", \"zerolinewidth\": 2}, \"yaxis\": {\"automargin\": true, \"gridcolor\": \"white\", \"linecolor\": \"white\", \"ticks\": \"\", \"title\": {\"standoff\": 15}, \"zerolinecolor\": \"white\", \"zerolinewidth\": 2}}}, \"width\": 600, \"xaxis\": {\"nticks\": 12, \"tickfont\": {\"color\": \"black\", \"size\": 14}, \"title\": {\"text\": \"<span style=\\\"font-size: 16px;\\\">Window width</span>\"}}, \"yaxis\": {\"tickfont\": {\"color\": \"black\", \"size\": 14}}},                        {\"responsive\": true}                    ).then(function(){\n",
              "                            \n",
              "var gd = document.getElementById('632c68f5-43ac-494d-87e7-716a359c5341');\n",
              "var x = new MutationObserver(function (mutations, observer) {{\n",
              "        var display = window.getComputedStyle(gd).display;\n",
              "        if (!display || display === 'none') {{\n",
              "            console.log([gd, 'removed!']);\n",
              "            Plotly.purge(gd);\n",
              "            observer.disconnect();\n",
              "        }}\n",
              "}});\n",
              "\n",
              "// Listen for the removal of the full notebook cells\n",
              "var notebookContainer = gd.closest('#notebook-container');\n",
              "if (notebookContainer) {{\n",
              "    x.observe(notebookContainer, {childList: true});\n",
              "}}\n",
              "\n",
              "// Listen for the clearing of the current output cell\n",
              "var outputEl = gd.closest('.output');\n",
              "if (outputEl) {{\n",
              "    x.observe(outputEl, {childList: true});\n",
              "}}\n",
              "\n",
              "                        })                };                            </script>        </div>\n",
              "</body>\n",
              "</html>"
            ]
          },
          "metadata": {
            "tags": []
          }
        },
        {
          "output_type": "display_data",
          "data": {
            "text/html": [
              "<html>\n",
              "<head><meta charset=\"utf-8\" /></head>\n",
              "<body>\n",
              "    <div>            <script src=\"https://cdnjs.cloudflare.com/ajax/libs/mathjax/2.7.5/MathJax.js?config=TeX-AMS-MML_SVG\"></script><script type=\"text/javascript\">if (window.MathJax) {MathJax.Hub.Config({SVG: {font: \"STIX-Web\"}});}</script>                <script type=\"text/javascript\">window.PlotlyConfig = {MathJaxConfig: 'local'};</script>\n",
              "        <script src=\"https://cdn.plot.ly/plotly-latest.min.js\"></script>                <div id=\"31368821-dd34-4839-be5f-6ed861d34481\" class=\"plotly-graph-div\" style=\"height:350px; width:400px;\"></div>            <script type=\"text/javascript\">                                    window.PLOTLYENV=window.PLOTLYENV || {};                                    if (document.getElementById(\"31368821-dd34-4839-be5f-6ed861d34481\")) {                    Plotly.newPlot(                        \"31368821-dd34-4839-be5f-6ed861d34481\",                        [{\"marker\": {\"color\": \"#d54062\"}, \"name\": \"Max\", \"type\": \"box\", \"y\": [0.14576454995322313, 0.14665337647693044, 0.14479331458875916, 0.14276705732630418, 0.1423699192783287, 0.14216272179555015, 0.14598991977002895, 0.1445779820158784, 0.1440664117210582, 0.1432947716313221, 0.1426684923977254, 0.14658994209962475]}, {\"marker\": {\"color\": \"#ffa36c\"}, \"name\": \"Mean\", \"type\": \"box\", \"y\": [0.1547824841870291, 0.14945572712081584, 0.14678527566609476, 0.1448439308098805, 0.14552422288513456, 0.1487295751864972, 0.1487571942884819, 0.15246930063562691, 0.14669646287054294, 0.15011617295326385, 0.14948664551610205, 0.1544310781756148]}, {\"marker\": {\"color\": \"#799351\"}, \"name\": \"Median\", \"type\": \"box\", \"y\": [0.1547824841870294, 0.15061061651482166, 0.14902829102288956, 0.150379995344474, 0.1459551849783278, 0.14712609354825415, 0.14747476051048136, 0.14569530643748768, 0.14622432777283761, 0.15062754490884384, 0.14744582923598953, 0.14715645393360605]}, {\"marker\": {\"color\": \"#0f4c75\"}, \"name\": \"Min\", \"type\": \"box\", \"y\": [0.16019613668362254, 0.16802008668159457, 0.16374873164143144, 0.16726707294311685, 0.16041976798060226, 0.16827672017438333, 0.164812039365152, 0.1595829302994075, 0.16919303727244817, 0.1748584978639065, 0.1770221905090955, 0.1785901641599339]}, {\"marker\": {\"color\": \"#3c2946\"}, \"name\": \"Std\", \"type\": \"box\", \"y\": [0.17869619339527146, 0.1779709346703191, 0.17851594157755807, 0.17852271467298145, 0.1791081756476131, 0.18129547646208943, 0.17484561376195815, 0.17556225953312435, 0.1704926047771504, 0.1776755928719908, 0.17583932568792546, 0.16623148627842294]}],                        {\"autosize\": false, \"height\": 350, \"legend\": {\"title\": {\"text\": \"<span style=\\\"font-size: 16px;\\\">Function</span>\"}}, \"margin\": {\"b\": 0, \"l\": 0, \"pad\": 5, \"r\": 0, \"t\": 5}, \"showlegend\": false, \"template\": {\"data\": {\"bar\": [{\"error_x\": {\"color\": \"#2a3f5f\"}, \"error_y\": {\"color\": \"#2a3f5f\"}, \"marker\": {\"line\": {\"color\": \"#E5ECF6\", \"width\": 0.5}}, \"type\": \"bar\"}], \"barpolar\": [{\"marker\": {\"line\": {\"color\": \"#E5ECF6\", \"width\": 0.5}}, \"type\": \"barpolar\"}], \"carpet\": [{\"aaxis\": {\"endlinecolor\": \"#2a3f5f\", \"gridcolor\": \"white\", \"linecolor\": \"white\", \"minorgridcolor\": \"white\", \"startlinecolor\": \"#2a3f5f\"}, \"baxis\": {\"endlinecolor\": \"#2a3f5f\", \"gridcolor\": \"white\", \"linecolor\": \"white\", \"minorgridcolor\": \"white\", \"startlinecolor\": \"#2a3f5f\"}, \"type\": \"carpet\"}], \"choropleth\": [{\"colorbar\": {\"outlinewidth\": 0, \"ticks\": \"\"}, \"type\": \"choropleth\"}], \"contour\": [{\"colorbar\": {\"outlinewidth\": 0, \"ticks\": \"\"}, \"colorscale\": [[0.0, \"#0d0887\"], [0.1111111111111111, \"#46039f\"], [0.2222222222222222, \"#7201a8\"], [0.3333333333333333, \"#9c179e\"], [0.4444444444444444, \"#bd3786\"], [0.5555555555555556, \"#d8576b\"], [0.6666666666666666, \"#ed7953\"], [0.7777777777777778, \"#fb9f3a\"], [0.8888888888888888, \"#fdca26\"], [1.0, \"#f0f921\"]], \"type\": \"contour\"}], \"contourcarpet\": [{\"colorbar\": {\"outlinewidth\": 0, \"ticks\": \"\"}, \"type\": \"contourcarpet\"}], \"heatmap\": [{\"colorbar\": {\"outlinewidth\": 0, \"ticks\": \"\"}, \"colorscale\": [[0.0, \"#0d0887\"], [0.1111111111111111, \"#46039f\"], [0.2222222222222222, \"#7201a8\"], [0.3333333333333333, \"#9c179e\"], [0.4444444444444444, \"#bd3786\"], [0.5555555555555556, \"#d8576b\"], [0.6666666666666666, \"#ed7953\"], [0.7777777777777778, \"#fb9f3a\"], [0.8888888888888888, \"#fdca26\"], [1.0, \"#f0f921\"]], \"type\": \"heatmap\"}], \"heatmapgl\": [{\"colorbar\": {\"outlinewidth\": 0, \"ticks\": \"\"}, \"colorscale\": [[0.0, \"#0d0887\"], [0.1111111111111111, \"#46039f\"], [0.2222222222222222, \"#7201a8\"], [0.3333333333333333, \"#9c179e\"], [0.4444444444444444, \"#bd3786\"], [0.5555555555555556, \"#d8576b\"], [0.6666666666666666, \"#ed7953\"], [0.7777777777777778, \"#fb9f3a\"], [0.8888888888888888, \"#fdca26\"], [1.0, \"#f0f921\"]], \"type\": \"heatmapgl\"}], \"histogram\": [{\"marker\": {\"colorbar\": {\"outlinewidth\": 0, \"ticks\": \"\"}}, \"type\": \"histogram\"}], \"histogram2d\": [{\"colorbar\": {\"outlinewidth\": 0, \"ticks\": \"\"}, \"colorscale\": [[0.0, \"#0d0887\"], [0.1111111111111111, \"#46039f\"], [0.2222222222222222, \"#7201a8\"], [0.3333333333333333, \"#9c179e\"], [0.4444444444444444, \"#bd3786\"], [0.5555555555555556, \"#d8576b\"], [0.6666666666666666, \"#ed7953\"], [0.7777777777777778, \"#fb9f3a\"], [0.8888888888888888, \"#fdca26\"], [1.0, \"#f0f921\"]], \"type\": \"histogram2d\"}], \"histogram2dcontour\": [{\"colorbar\": {\"outlinewidth\": 0, \"ticks\": \"\"}, \"colorscale\": [[0.0, \"#0d0887\"], [0.1111111111111111, \"#46039f\"], [0.2222222222222222, \"#7201a8\"], [0.3333333333333333, \"#9c179e\"], [0.4444444444444444, \"#bd3786\"], [0.5555555555555556, \"#d8576b\"], [0.6666666666666666, \"#ed7953\"], [0.7777777777777778, \"#fb9f3a\"], [0.8888888888888888, \"#fdca26\"], [1.0, \"#f0f921\"]], \"type\": \"histogram2dcontour\"}], \"mesh3d\": [{\"colorbar\": {\"outlinewidth\": 0, \"ticks\": \"\"}, \"type\": \"mesh3d\"}], \"parcoords\": [{\"line\": {\"colorbar\": {\"outlinewidth\": 0, \"ticks\": \"\"}}, \"type\": \"parcoords\"}], \"pie\": [{\"automargin\": true, \"type\": \"pie\"}], \"scatter\": [{\"marker\": {\"colorbar\": {\"outlinewidth\": 0, \"ticks\": \"\"}}, \"type\": \"scatter\"}], \"scatter3d\": [{\"line\": {\"colorbar\": {\"outlinewidth\": 0, \"ticks\": \"\"}}, \"marker\": {\"colorbar\": {\"outlinewidth\": 0, \"ticks\": \"\"}}, \"type\": \"scatter3d\"}], \"scattercarpet\": [{\"marker\": {\"colorbar\": {\"outlinewidth\": 0, \"ticks\": \"\"}}, \"type\": \"scattercarpet\"}], \"scattergeo\": [{\"marker\": {\"colorbar\": {\"outlinewidth\": 0, \"ticks\": \"\"}}, \"type\": \"scattergeo\"}], \"scattergl\": [{\"marker\": {\"colorbar\": {\"outlinewidth\": 0, \"ticks\": \"\"}}, \"type\": \"scattergl\"}], \"scattermapbox\": [{\"marker\": {\"colorbar\": {\"outlinewidth\": 0, \"ticks\": \"\"}}, \"type\": \"scattermapbox\"}], \"scatterpolar\": [{\"marker\": {\"colorbar\": {\"outlinewidth\": 0, \"ticks\": \"\"}}, \"type\": \"scatterpolar\"}], \"scatterpolargl\": [{\"marker\": {\"colorbar\": {\"outlinewidth\": 0, \"ticks\": \"\"}}, \"type\": \"scatterpolargl\"}], \"scatterternary\": [{\"marker\": {\"colorbar\": {\"outlinewidth\": 0, \"ticks\": \"\"}}, \"type\": \"scatterternary\"}], \"surface\": [{\"colorbar\": {\"outlinewidth\": 0, \"ticks\": \"\"}, \"colorscale\": [[0.0, \"#0d0887\"], [0.1111111111111111, \"#46039f\"], [0.2222222222222222, \"#7201a8\"], [0.3333333333333333, \"#9c179e\"], [0.4444444444444444, \"#bd3786\"], [0.5555555555555556, \"#d8576b\"], [0.6666666666666666, \"#ed7953\"], [0.7777777777777778, \"#fb9f3a\"], [0.8888888888888888, \"#fdca26\"], [1.0, \"#f0f921\"]], \"type\": \"surface\"}], \"table\": [{\"cells\": {\"fill\": {\"color\": \"#EBF0F8\"}, \"line\": {\"color\": \"white\"}}, \"header\": {\"fill\": {\"color\": \"#C8D4E3\"}, \"line\": {\"color\": \"white\"}}, \"type\": \"table\"}]}, \"layout\": {\"annotationdefaults\": {\"arrowcolor\": \"#2a3f5f\", \"arrowhead\": 0, \"arrowwidth\": 1}, \"autotypenumbers\": \"strict\", \"coloraxis\": {\"colorbar\": {\"outlinewidth\": 0, \"ticks\": \"\"}}, \"colorscale\": {\"diverging\": [[0, \"#8e0152\"], [0.1, \"#c51b7d\"], [0.2, \"#de77ae\"], [0.3, \"#f1b6da\"], [0.4, \"#fde0ef\"], [0.5, \"#f7f7f7\"], [0.6, \"#e6f5d0\"], [0.7, \"#b8e186\"], [0.8, \"#7fbc41\"], [0.9, \"#4d9221\"], [1, \"#276419\"]], \"sequential\": [[0.0, \"#0d0887\"], [0.1111111111111111, \"#46039f\"], [0.2222222222222222, \"#7201a8\"], [0.3333333333333333, \"#9c179e\"], [0.4444444444444444, \"#bd3786\"], [0.5555555555555556, \"#d8576b\"], [0.6666666666666666, \"#ed7953\"], [0.7777777777777778, \"#fb9f3a\"], [0.8888888888888888, \"#fdca26\"], [1.0, \"#f0f921\"]], \"sequentialminus\": [[0.0, \"#0d0887\"], [0.1111111111111111, \"#46039f\"], [0.2222222222222222, \"#7201a8\"], [0.3333333333333333, \"#9c179e\"], [0.4444444444444444, \"#bd3786\"], [0.5555555555555556, \"#d8576b\"], [0.6666666666666666, \"#ed7953\"], [0.7777777777777778, \"#fb9f3a\"], [0.8888888888888888, \"#fdca26\"], [1.0, \"#f0f921\"]]}, \"colorway\": [\"#636efa\", \"#EF553B\", \"#00cc96\", \"#ab63fa\", \"#FFA15A\", \"#19d3f3\", \"#FF6692\", \"#B6E880\", \"#FF97FF\", \"#FECB52\"], \"font\": {\"color\": \"#2a3f5f\"}, \"geo\": {\"bgcolor\": \"white\", \"lakecolor\": \"white\", \"landcolor\": \"#E5ECF6\", \"showlakes\": true, \"showland\": true, \"subunitcolor\": \"white\"}, \"hoverlabel\": {\"align\": \"left\"}, \"hovermode\": \"closest\", \"mapbox\": {\"style\": \"light\"}, \"paper_bgcolor\": \"white\", \"plot_bgcolor\": \"#E5ECF6\", \"polar\": {\"angularaxis\": {\"gridcolor\": \"white\", \"linecolor\": \"white\", \"ticks\": \"\"}, \"bgcolor\": \"#E5ECF6\", \"radialaxis\": {\"gridcolor\": \"white\", \"linecolor\": \"white\", \"ticks\": \"\"}}, \"scene\": {\"xaxis\": {\"backgroundcolor\": \"#E5ECF6\", \"gridcolor\": \"white\", \"gridwidth\": 2, \"linecolor\": \"white\", \"showbackground\": true, \"ticks\": \"\", \"zerolinecolor\": \"white\"}, \"yaxis\": {\"backgroundcolor\": \"#E5ECF6\", \"gridcolor\": \"white\", \"gridwidth\": 2, \"linecolor\": \"white\", \"showbackground\": true, \"ticks\": \"\", \"zerolinecolor\": \"white\"}, \"zaxis\": {\"backgroundcolor\": \"#E5ECF6\", \"gridcolor\": \"white\", \"gridwidth\": 2, \"linecolor\": \"white\", \"showbackground\": true, \"ticks\": \"\", \"zerolinecolor\": \"white\"}}, \"shapedefaults\": {\"line\": {\"color\": \"#2a3f5f\"}}, \"ternary\": {\"aaxis\": {\"gridcolor\": \"white\", \"linecolor\": \"white\", \"ticks\": \"\"}, \"baxis\": {\"gridcolor\": \"white\", \"linecolor\": \"white\", \"ticks\": \"\"}, \"bgcolor\": \"#E5ECF6\", \"caxis\": {\"gridcolor\": \"white\", \"linecolor\": \"white\", \"ticks\": \"\"}}, \"title\": {\"x\": 0.05}, \"xaxis\": {\"automargin\": true, \"gridcolor\": \"white\", \"linecolor\": \"white\", \"ticks\": \"\", \"title\": {\"standoff\": 15}, \"zerolinecolor\": \"white\", \"zerolinewidth\": 2}, \"yaxis\": {\"automargin\": true, \"gridcolor\": \"white\", \"linecolor\": \"white\", \"ticks\": \"\", \"title\": {\"standoff\": 15}, \"zerolinecolor\": \"white\", \"zerolinewidth\": 2}}}, \"width\": 400, \"xaxis\": {\"tickfont\": {\"color\": \"black\", \"size\": 14}, \"title\": {\"text\": \"<span style=\\\"font-size: 16px;\\\">Window width</span>\"}}, \"yaxis\": {\"tickfont\": {\"color\": \"black\", \"size\": 14}}},                        {\"responsive\": true}                    ).then(function(){\n",
              "                            \n",
              "var gd = document.getElementById('31368821-dd34-4839-be5f-6ed861d34481');\n",
              "var x = new MutationObserver(function (mutations, observer) {{\n",
              "        var display = window.getComputedStyle(gd).display;\n",
              "        if (!display || display === 'none') {{\n",
              "            console.log([gd, 'removed!']);\n",
              "            Plotly.purge(gd);\n",
              "            observer.disconnect();\n",
              "        }}\n",
              "}});\n",
              "\n",
              "// Listen for the removal of the full notebook cells\n",
              "var notebookContainer = gd.closest('#notebook-container');\n",
              "if (notebookContainer) {{\n",
              "    x.observe(notebookContainer, {childList: true});\n",
              "}}\n",
              "\n",
              "// Listen for the clearing of the current output cell\n",
              "var outputEl = gd.closest('.output');\n",
              "if (outputEl) {{\n",
              "    x.observe(outputEl, {childList: true});\n",
              "}}\n",
              "\n",
              "                        })                };                            </script>        </div>\n",
              "</body>\n",
              "</html>"
            ]
          },
          "metadata": {
            "tags": []
          }
        },
        {
          "output_type": "display_data",
          "data": {
            "text/html": [
              "<html>\n",
              "<head><meta charset=\"utf-8\" /></head>\n",
              "<body>\n",
              "    <div>            <script src=\"https://cdnjs.cloudflare.com/ajax/libs/mathjax/2.7.5/MathJax.js?config=TeX-AMS-MML_SVG\"></script><script type=\"text/javascript\">if (window.MathJax) {MathJax.Hub.Config({SVG: {font: \"STIX-Web\"}});}</script>                <script type=\"text/javascript\">window.PlotlyConfig = {MathJaxConfig: 'local'};</script>\n",
              "        <script src=\"https://cdn.plot.ly/plotly-latest.min.js\"></script>                <div id=\"b67f3ec5-6942-449b-b0a7-74dfc744b341\" class=\"plotly-graph-div\" style=\"height:350px; width:600px;\"></div>            <script type=\"text/javascript\">                                    window.PLOTLYENV=window.PLOTLYENV || {};                                    if (document.getElementById(\"b67f3ec5-6942-449b-b0a7-74dfc744b341\")) {                    Plotly.newPlot(                        \"b67f3ec5-6942-449b-b0a7-74dfc744b341\",                        [{\"legendgroup\": \"max\", \"marker\": {\"color\": \"#d54062\"}, \"name\": \"Max\", \"type\": \"scatter\", \"x\": [1, 2, 3, 4, 5, 6, 7, 8, 9, 10, 11, 12], \"y\": [0.14576454995322313, 0.14665337647693044, 0.14479331458875916, 0.14276705732630418, 0.1423699192783287, 0.14216272179555015, 0.14598991977002895, 0.1445779820158784, 0.1440664117210582, 0.1432947716313221, 0.1426684923977254, 0.14658994209962475]}, {\"legendgroup\": \"mean\", \"marker\": {\"color\": \"#ffa36c\"}, \"name\": \"Mean\", \"type\": \"scatter\", \"x\": [1, 2, 3, 4, 5, 6, 7, 8, 9, 10, 11, 12], \"y\": [0.1547824841870291, 0.14945572712081584, 0.14678527566609476, 0.1448439308098805, 0.14552422288513456, 0.1487295751864972, 0.1487571942884819, 0.15246930063562691, 0.14669646287054294, 0.15011617295326385, 0.14948664551610205, 0.1544310781756148]}, {\"legendgroup\": \"median\", \"marker\": {\"color\": \"#799351\"}, \"name\": \"Median\", \"type\": \"scatter\", \"x\": [1, 2, 3, 4, 5, 6, 7, 8, 9, 10, 11, 12], \"y\": [0.1547824841870294, 0.15061061651482166, 0.14902829102288956, 0.150379995344474, 0.1459551849783278, 0.14712609354825415, 0.14747476051048136, 0.14569530643748768, 0.14622432777283761, 0.15062754490884384, 0.14744582923598953, 0.14715645393360605]}, {\"legendgroup\": \"min\", \"marker\": {\"color\": \"#0f4c75\"}, \"name\": \"Min\", \"type\": \"scatter\", \"x\": [1, 2, 3, 4, 5, 6, 7, 8, 9, 10, 11, 12], \"y\": [0.16019613668362254, 0.16802008668159457, 0.16374873164143144, 0.16726707294311685, 0.16041976798060226, 0.16827672017438333, 0.164812039365152, 0.1595829302994075, 0.16919303727244817, 0.1748584978639065, 0.1770221905090955, 0.1785901641599339]}, {\"legendgroup\": \"std\", \"marker\": {\"color\": \"#3c2946\"}, \"name\": \"Std\", \"type\": \"scatter\", \"x\": [1, 2, 3, 4, 5, 6, 7, 8, 9, 10, 11, 12], \"y\": [0.17869619339527146, 0.1779709346703191, 0.17851594157755807, 0.17852271467298145, 0.1791081756476131, 0.18129547646208943, 0.17484561376195815, 0.17556225953312435, 0.1704926047771504, 0.1776755928719908, 0.17583932568792546, 0.16623148627842294]}],                        {\"autosize\": false, \"height\": 350, \"legend\": {\"title\": {\"text\": \"<span style=\\\"font-size: 16px;\\\">Function</span>\"}}, \"margin\": {\"b\": 0, \"l\": 0, \"pad\": 5, \"r\": 0, \"t\": 5}, \"showlegend\": true, \"template\": {\"data\": {\"bar\": [{\"error_x\": {\"color\": \"#2a3f5f\"}, \"error_y\": {\"color\": \"#2a3f5f\"}, \"marker\": {\"line\": {\"color\": \"#E5ECF6\", \"width\": 0.5}}, \"type\": \"bar\"}], \"barpolar\": [{\"marker\": {\"line\": {\"color\": \"#E5ECF6\", \"width\": 0.5}}, \"type\": \"barpolar\"}], \"carpet\": [{\"aaxis\": {\"endlinecolor\": \"#2a3f5f\", \"gridcolor\": \"white\", \"linecolor\": \"white\", \"minorgridcolor\": \"white\", \"startlinecolor\": \"#2a3f5f\"}, \"baxis\": {\"endlinecolor\": \"#2a3f5f\", \"gridcolor\": \"white\", \"linecolor\": \"white\", \"minorgridcolor\": \"white\", \"startlinecolor\": \"#2a3f5f\"}, \"type\": \"carpet\"}], \"choropleth\": [{\"colorbar\": {\"outlinewidth\": 0, \"ticks\": \"\"}, \"type\": \"choropleth\"}], \"contour\": [{\"colorbar\": {\"outlinewidth\": 0, \"ticks\": \"\"}, \"colorscale\": [[0.0, \"#0d0887\"], [0.1111111111111111, \"#46039f\"], [0.2222222222222222, \"#7201a8\"], [0.3333333333333333, \"#9c179e\"], [0.4444444444444444, \"#bd3786\"], [0.5555555555555556, \"#d8576b\"], [0.6666666666666666, \"#ed7953\"], [0.7777777777777778, \"#fb9f3a\"], [0.8888888888888888, \"#fdca26\"], [1.0, \"#f0f921\"]], \"type\": \"contour\"}], \"contourcarpet\": [{\"colorbar\": {\"outlinewidth\": 0, \"ticks\": \"\"}, \"type\": \"contourcarpet\"}], \"heatmap\": [{\"colorbar\": {\"outlinewidth\": 0, \"ticks\": \"\"}, \"colorscale\": [[0.0, \"#0d0887\"], [0.1111111111111111, \"#46039f\"], [0.2222222222222222, \"#7201a8\"], [0.3333333333333333, \"#9c179e\"], [0.4444444444444444, \"#bd3786\"], [0.5555555555555556, \"#d8576b\"], [0.6666666666666666, \"#ed7953\"], [0.7777777777777778, \"#fb9f3a\"], [0.8888888888888888, \"#fdca26\"], [1.0, \"#f0f921\"]], \"type\": \"heatmap\"}], \"heatmapgl\": [{\"colorbar\": {\"outlinewidth\": 0, \"ticks\": \"\"}, \"colorscale\": [[0.0, \"#0d0887\"], [0.1111111111111111, \"#46039f\"], [0.2222222222222222, \"#7201a8\"], [0.3333333333333333, \"#9c179e\"], [0.4444444444444444, \"#bd3786\"], [0.5555555555555556, \"#d8576b\"], [0.6666666666666666, \"#ed7953\"], [0.7777777777777778, \"#fb9f3a\"], [0.8888888888888888, \"#fdca26\"], [1.0, \"#f0f921\"]], \"type\": \"heatmapgl\"}], \"histogram\": [{\"marker\": {\"colorbar\": {\"outlinewidth\": 0, \"ticks\": \"\"}}, \"type\": \"histogram\"}], \"histogram2d\": [{\"colorbar\": {\"outlinewidth\": 0, \"ticks\": \"\"}, \"colorscale\": [[0.0, \"#0d0887\"], [0.1111111111111111, \"#46039f\"], [0.2222222222222222, \"#7201a8\"], [0.3333333333333333, \"#9c179e\"], [0.4444444444444444, \"#bd3786\"], [0.5555555555555556, \"#d8576b\"], [0.6666666666666666, \"#ed7953\"], [0.7777777777777778, \"#fb9f3a\"], [0.8888888888888888, \"#fdca26\"], [1.0, \"#f0f921\"]], \"type\": \"histogram2d\"}], \"histogram2dcontour\": [{\"colorbar\": {\"outlinewidth\": 0, \"ticks\": \"\"}, \"colorscale\": [[0.0, \"#0d0887\"], [0.1111111111111111, \"#46039f\"], [0.2222222222222222, \"#7201a8\"], [0.3333333333333333, \"#9c179e\"], [0.4444444444444444, \"#bd3786\"], [0.5555555555555556, \"#d8576b\"], [0.6666666666666666, \"#ed7953\"], [0.7777777777777778, \"#fb9f3a\"], [0.8888888888888888, \"#fdca26\"], [1.0, \"#f0f921\"]], \"type\": \"histogram2dcontour\"}], \"mesh3d\": [{\"colorbar\": {\"outlinewidth\": 0, \"ticks\": \"\"}, \"type\": \"mesh3d\"}], \"parcoords\": [{\"line\": {\"colorbar\": {\"outlinewidth\": 0, \"ticks\": \"\"}}, \"type\": \"parcoords\"}], \"pie\": [{\"automargin\": true, \"type\": \"pie\"}], \"scatter\": [{\"marker\": {\"colorbar\": {\"outlinewidth\": 0, \"ticks\": \"\"}}, \"type\": \"scatter\"}], \"scatter3d\": [{\"line\": {\"colorbar\": {\"outlinewidth\": 0, \"ticks\": \"\"}}, \"marker\": {\"colorbar\": {\"outlinewidth\": 0, \"ticks\": \"\"}}, \"type\": \"scatter3d\"}], \"scattercarpet\": [{\"marker\": {\"colorbar\": {\"outlinewidth\": 0, \"ticks\": \"\"}}, \"type\": \"scattercarpet\"}], \"scattergeo\": [{\"marker\": {\"colorbar\": {\"outlinewidth\": 0, \"ticks\": \"\"}}, \"type\": \"scattergeo\"}], \"scattergl\": [{\"marker\": {\"colorbar\": {\"outlinewidth\": 0, \"ticks\": \"\"}}, \"type\": \"scattergl\"}], \"scattermapbox\": [{\"marker\": {\"colorbar\": {\"outlinewidth\": 0, \"ticks\": \"\"}}, \"type\": \"scattermapbox\"}], \"scatterpolar\": [{\"marker\": {\"colorbar\": {\"outlinewidth\": 0, \"ticks\": \"\"}}, \"type\": \"scatterpolar\"}], \"scatterpolargl\": [{\"marker\": {\"colorbar\": {\"outlinewidth\": 0, \"ticks\": \"\"}}, \"type\": \"scatterpolargl\"}], \"scatterternary\": [{\"marker\": {\"colorbar\": {\"outlinewidth\": 0, \"ticks\": \"\"}}, \"type\": \"scatterternary\"}], \"surface\": [{\"colorbar\": {\"outlinewidth\": 0, \"ticks\": \"\"}, \"colorscale\": [[0.0, \"#0d0887\"], [0.1111111111111111, \"#46039f\"], [0.2222222222222222, \"#7201a8\"], [0.3333333333333333, \"#9c179e\"], [0.4444444444444444, \"#bd3786\"], [0.5555555555555556, \"#d8576b\"], [0.6666666666666666, \"#ed7953\"], [0.7777777777777778, \"#fb9f3a\"], [0.8888888888888888, \"#fdca26\"], [1.0, \"#f0f921\"]], \"type\": \"surface\"}], \"table\": [{\"cells\": {\"fill\": {\"color\": \"#EBF0F8\"}, \"line\": {\"color\": \"white\"}}, \"header\": {\"fill\": {\"color\": \"#C8D4E3\"}, \"line\": {\"color\": \"white\"}}, \"type\": \"table\"}]}, \"layout\": {\"annotationdefaults\": {\"arrowcolor\": \"#2a3f5f\", \"arrowhead\": 0, \"arrowwidth\": 1}, \"autotypenumbers\": \"strict\", \"coloraxis\": {\"colorbar\": {\"outlinewidth\": 0, \"ticks\": \"\"}}, \"colorscale\": {\"diverging\": [[0, \"#8e0152\"], [0.1, \"#c51b7d\"], [0.2, \"#de77ae\"], [0.3, \"#f1b6da\"], [0.4, \"#fde0ef\"], [0.5, \"#f7f7f7\"], [0.6, \"#e6f5d0\"], [0.7, \"#b8e186\"], [0.8, \"#7fbc41\"], [0.9, \"#4d9221\"], [1, \"#276419\"]], \"sequential\": [[0.0, \"#0d0887\"], [0.1111111111111111, \"#46039f\"], [0.2222222222222222, \"#7201a8\"], [0.3333333333333333, \"#9c179e\"], [0.4444444444444444, \"#bd3786\"], [0.5555555555555556, \"#d8576b\"], [0.6666666666666666, \"#ed7953\"], [0.7777777777777778, \"#fb9f3a\"], [0.8888888888888888, \"#fdca26\"], [1.0, \"#f0f921\"]], \"sequentialminus\": [[0.0, \"#0d0887\"], [0.1111111111111111, \"#46039f\"], [0.2222222222222222, \"#7201a8\"], [0.3333333333333333, \"#9c179e\"], [0.4444444444444444, \"#bd3786\"], [0.5555555555555556, \"#d8576b\"], [0.6666666666666666, \"#ed7953\"], [0.7777777777777778, \"#fb9f3a\"], [0.8888888888888888, \"#fdca26\"], [1.0, \"#f0f921\"]]}, \"colorway\": [\"#636efa\", \"#EF553B\", \"#00cc96\", \"#ab63fa\", \"#FFA15A\", \"#19d3f3\", \"#FF6692\", \"#B6E880\", \"#FF97FF\", \"#FECB52\"], \"font\": {\"color\": \"#2a3f5f\"}, \"geo\": {\"bgcolor\": \"white\", \"lakecolor\": \"white\", \"landcolor\": \"#E5ECF6\", \"showlakes\": true, \"showland\": true, \"subunitcolor\": \"white\"}, \"hoverlabel\": {\"align\": \"left\"}, \"hovermode\": \"closest\", \"mapbox\": {\"style\": \"light\"}, \"paper_bgcolor\": \"white\", \"plot_bgcolor\": \"#E5ECF6\", \"polar\": {\"angularaxis\": {\"gridcolor\": \"white\", \"linecolor\": \"white\", \"ticks\": \"\"}, \"bgcolor\": \"#E5ECF6\", \"radialaxis\": {\"gridcolor\": \"white\", \"linecolor\": \"white\", \"ticks\": \"\"}}, \"scene\": {\"xaxis\": {\"backgroundcolor\": \"#E5ECF6\", \"gridcolor\": \"white\", \"gridwidth\": 2, \"linecolor\": \"white\", \"showbackground\": true, \"ticks\": \"\", \"zerolinecolor\": \"white\"}, \"yaxis\": {\"backgroundcolor\": \"#E5ECF6\", \"gridcolor\": \"white\", \"gridwidth\": 2, \"linecolor\": \"white\", \"showbackground\": true, \"ticks\": \"\", \"zerolinecolor\": \"white\"}, \"zaxis\": {\"backgroundcolor\": \"#E5ECF6\", \"gridcolor\": \"white\", \"gridwidth\": 2, \"linecolor\": \"white\", \"showbackground\": true, \"ticks\": \"\", \"zerolinecolor\": \"white\"}}, \"shapedefaults\": {\"line\": {\"color\": \"#2a3f5f\"}}, \"ternary\": {\"aaxis\": {\"gridcolor\": \"white\", \"linecolor\": \"white\", \"ticks\": \"\"}, \"baxis\": {\"gridcolor\": \"white\", \"linecolor\": \"white\", \"ticks\": \"\"}, \"bgcolor\": \"#E5ECF6\", \"caxis\": {\"gridcolor\": \"white\", \"linecolor\": \"white\", \"ticks\": \"\"}}, \"title\": {\"x\": 0.05}, \"xaxis\": {\"automargin\": true, \"gridcolor\": \"white\", \"linecolor\": \"white\", \"ticks\": \"\", \"title\": {\"standoff\": 15}, \"zerolinecolor\": \"white\", \"zerolinewidth\": 2}, \"yaxis\": {\"automargin\": true, \"gridcolor\": \"white\", \"linecolor\": \"white\", \"ticks\": \"\", \"title\": {\"standoff\": 15}, \"zerolinecolor\": \"white\", \"zerolinewidth\": 2}}}, \"width\": 600, \"xaxis\": {\"nticks\": 12, \"tickfont\": {\"color\": \"black\", \"size\": 14}, \"title\": {\"text\": \"<span style=\\\"font-size: 16px;\\\">Window width</span>\"}}, \"yaxis\": {\"tickfont\": {\"color\": \"black\", \"size\": 14}}},                        {\"responsive\": true}                    ).then(function(){\n",
              "                            \n",
              "var gd = document.getElementById('b67f3ec5-6942-449b-b0a7-74dfc744b341');\n",
              "var x = new MutationObserver(function (mutations, observer) {{\n",
              "        var display = window.getComputedStyle(gd).display;\n",
              "        if (!display || display === 'none') {{\n",
              "            console.log([gd, 'removed!']);\n",
              "            Plotly.purge(gd);\n",
              "            observer.disconnect();\n",
              "        }}\n",
              "}});\n",
              "\n",
              "// Listen for the removal of the full notebook cells\n",
              "var notebookContainer = gd.closest('#notebook-container');\n",
              "if (notebookContainer) {{\n",
              "    x.observe(notebookContainer, {childList: true});\n",
              "}}\n",
              "\n",
              "// Listen for the clearing of the current output cell\n",
              "var outputEl = gd.closest('.output');\n",
              "if (outputEl) {{\n",
              "    x.observe(outputEl, {childList: true});\n",
              "}}\n",
              "\n",
              "                        })                };                            </script>        </div>\n",
              "</body>\n",
              "</html>"
            ]
          },
          "metadata": {
            "tags": []
          }
        },
        {
          "output_type": "display_data",
          "data": {
            "text/html": [
              "<html>\n",
              "<head><meta charset=\"utf-8\" /></head>\n",
              "<body>\n",
              "    <div>            <script src=\"https://cdnjs.cloudflare.com/ajax/libs/mathjax/2.7.5/MathJax.js?config=TeX-AMS-MML_SVG\"></script><script type=\"text/javascript\">if (window.MathJax) {MathJax.Hub.Config({SVG: {font: \"STIX-Web\"}});}</script>                <script type=\"text/javascript\">window.PlotlyConfig = {MathJaxConfig: 'local'};</script>\n",
              "        <script src=\"https://cdn.plot.ly/plotly-latest.min.js\"></script>                <div id=\"23b79e85-820d-4162-8dce-062859dac5f2\" class=\"plotly-graph-div\" style=\"height:525px; width:100%;\"></div>            <script type=\"text/javascript\">                                    window.PLOTLYENV=window.PLOTLYENV || {};                                    if (document.getElementById(\"23b79e85-820d-4162-8dce-062859dac5f2\")) {                    Plotly.newPlot(                        \"23b79e85-820d-4162-8dce-062859dac5f2\",                        [{\"legendgroup\": \"max\", \"marker\": {\"color\": \"#d54062\"}, \"name\": \"max\", \"showlegend\": true, \"type\": \"scatter\", \"x\": [1, 2, 3, 4, 5, 6, 7, 8, 9, 10, 11, 12], \"xaxis\": \"x\", \"y\": [0.1398584910247755, 0.144505822964223, 0.1374151065888892, 0.1376643501825738, 0.1376863062575764, 0.1377339530177419, 0.14267243566923, 0.1419542534036395, 0.1415486883559854, 0.1417102259602954, 0.1412833338170866, 0.1405023349802091], \"yaxis\": \"y\"}, {\"legendgroup\": \"mean\", \"marker\": {\"color\": \"#ffa36c\"}, \"name\": \"mean\", \"showlegend\": true, \"type\": \"scatter\", \"x\": [1, 2, 3, 4, 5, 6, 7, 8, 9, 10, 11, 12], \"xaxis\": \"x\", \"y\": [0.1416426064501443, 0.1432809129748185, 0.1434068715214926, 0.1376220085841648, 0.1376329071098132, 0.1394313117777427, 0.1382960751636961, 0.1378622940020336, 0.1404642985345914, 0.1401102086191381, 0.1399673605671941, 0.1394501601308069], \"yaxis\": \"y\"}, {\"legendgroup\": \"median\", \"marker\": {\"color\": \"#799351\"}, \"name\": \"median\", \"showlegend\": true, \"type\": \"scatter\", \"x\": [1, 2, 3, 4, 5, 6, 7, 8, 9, 10, 11, 12], \"xaxis\": \"x\", \"y\": [0.1416426064501444, 0.1441728958859867, 0.143850290862858, 0.1438975024054634, 0.1433973101941873, 0.1424932473987388, 0.1415051219216126, 0.1402274950642807, 0.1409769448756461, 0.140988440335794, 0.1381261943750573, 0.1384748768683016], \"yaxis\": \"y\"}, {\"legendgroup\": \"min\", \"marker\": {\"color\": \"#0f4c75\"}, \"name\": \"min\", \"showlegend\": true, \"type\": \"scatter\", \"x\": [1, 2, 3, 4, 5, 6, 7, 8, 9, 10, 11, 12], \"xaxis\": \"x\", \"y\": [0.1469877186806868, 0.1429571516859936, 0.1412071333972181, 0.1404415110291665, 0.1399428121358581, 0.141065889076658, 0.1402691752309843, 0.1404512783497571, 0.1379455581037977, 0.1411418891185977, 0.1403772548955211, 0.1397377613056623], \"yaxis\": \"y\"}, {\"legendgroup\": \"std\", \"marker\": {\"color\": \"#3c2946\"}, \"name\": \"std\", \"showlegend\": true, \"type\": \"scatter\", \"x\": [1, 2, 3, 4, 5, 6, 7, 8, 9, 10, 11, 12], \"xaxis\": \"x\", \"y\": [0.1376840818737367, 0.1372480231714944, 0.1373304441773771, 0.1377485527517255, 0.1436494299530003, 0.1435206213837596, 0.1403709699933571, 0.1396596208154432, 0.1436413095607179, 0.1385056939593021, 0.1381389112650267, 0.1384992043950189], \"yaxis\": \"y\"}, {\"legendgroup\": \"max\", \"marker\": {\"color\": \"#d54062\"}, \"name\": \"max\", \"showlegend\": false, \"type\": \"scatter\", \"x\": [1, 2, 3, 4, 5, 6, 7, 8, 9, 10, 11, 12], \"xaxis\": \"x4\", \"y\": [0.1427529606579627, 0.1600242043381766, 0.1725405837718158, 0.1766600651439457, 0.1738277065893716, 0.1693433945769672, 0.1752698065141285, 0.171806163272851, 0.19044839672802416, 0.1816974136539167, 0.19640227247002195, 0.2303344807168902], \"yaxis\": \"y4\"}, {\"legendgroup\": \"mean\", \"marker\": {\"color\": \"#ffa36c\"}, \"name\": \"mean\", \"showlegend\": false, \"type\": \"scatter\", \"x\": [1, 2, 3, 4, 5, 6, 7, 8, 9, 10, 11, 12], \"xaxis\": \"x4\", \"y\": [0.1875357875584616, 0.1785324815890621, 0.1904359458027707, 0.1891558054058573, 0.1815302905197218, 0.1887079532665788, 0.16768394214451654, 0.2214250708671399, 0.1536488636203646, 0.1651857779839396, 0.204409959738651, 0.1826289013829058], \"yaxis\": \"y4\"}, {\"legendgroup\": \"median\", \"marker\": {\"color\": \"#799351\"}, \"name\": \"median\", \"showlegend\": false, \"type\": \"scatter\", \"x\": [1, 2, 3, 4, 5, 6, 7, 8, 9, 10, 11, 12], \"xaxis\": \"x4\", \"y\": [0.1875357875584616, 0.1706885919812767, 0.1842032462566847, 0.2039706982213975, 0.17353381495564285, 0.158384771383487, 0.1582066615205011, 0.1651239957231556, 0.19102514981531, 0.1869939629804408, 0.1516317258886894, 0.1889099493055512], \"yaxis\": \"y4\"}, {\"legendgroup\": \"min\", \"marker\": {\"color\": \"#0f4c75\"}, \"name\": \"min\", \"showlegend\": false, \"type\": \"scatter\", \"x\": [1, 2, 3, 4, 5, 6, 7, 8, 9, 10, 11, 12], \"xaxis\": \"x4\", \"y\": [0.1728007632283047, 0.1773589820154149, 0.1816267083388763, 0.1709652681214514, 0.1581809693312143, 0.1831453704586724, 0.1802196796228705, 0.1592239283767781, 0.1925967469917037, 0.19257722058458793, 0.19633133223810464, 0.244412233469759], \"yaxis\": \"y4\"}, {\"legendgroup\": \"std\", \"marker\": {\"color\": \"#3c2946\"}, \"name\": \"std\", \"showlegend\": false, \"type\": \"scatter\", \"x\": [1, 2, 3, 4, 5, 6, 7, 8, 9, 10, 11, 12], \"xaxis\": \"x4\", \"y\": [0.1574202994973296, 0.1821120232517274, 0.1832075766510035, 0.1725054917225755, 0.17825104362566296, 0.1988125292703186, 0.1776880542077568, 0.1773675722320573, 0.1549664858490185, 0.2041539938956626, 0.1809673645786568, 0.1619045402987104], \"yaxis\": \"y4\"}, {\"legendgroup\": \"max\", \"marker\": {\"color\": \"#d54062\"}, \"name\": \"max\", \"showlegend\": false, \"type\": \"scatter\", \"x\": [1, 2, 3, 4, 5, 6, 7, 8, 9, 10, 11, 12], \"xaxis\": \"x5\", \"y\": [0.1614694037577403, 0.1515555893380757, 0.1593139357781749, 0.1372428524352967, 0.1451156715412468, 0.1442435059302711, 0.1527529650361217, 0.1497282476221851, 0.1408260817200987, 0.1415961325000375, 0.1423986643461196, 0.1389158905711406], \"yaxis\": \"y5\"}, {\"legendgroup\": \"mean\", \"marker\": {\"color\": \"#ffa36c\"}, \"name\": \"mean\", \"showlegend\": false, \"type\": \"scatter\", \"x\": [1, 2, 3, 4, 5, 6, 7, 8, 9, 10, 11, 12], \"xaxis\": \"x5\", \"y\": [0.161044396859437, 0.1386667242707043, 0.1518614649641519, 0.1441439494764315, 0.1447398354342813, 0.1425497518946099, 0.1412752916612737, 0.1514786127399071, 0.1472060522346072, 0.1512870124017477, 0.1484105947097086, 0.1536201649304879], \"yaxis\": \"y5\"}, {\"legendgroup\": \"median\", \"marker\": {\"color\": \"#799351\"}, \"name\": \"median\", \"showlegend\": false, \"type\": \"scatter\", \"x\": [1, 2, 3, 4, 5, 6, 7, 8, 9, 10, 11, 12], \"xaxis\": \"x5\", \"y\": [0.1610443968594368, 0.1564677969151279, 0.1590422249097751, 0.1397545261742413, 0.1362149365742661, 0.1400505011913959, 0.1460461003570533, 0.1378373234161202, 0.1395733163433, 0.1480373023158543, 0.1523368221061087, 0.1450340027770697], \"yaxis\": \"y5\"}, {\"legendgroup\": \"min\", \"marker\": {\"color\": \"#0f4c75\"}, \"name\": \"min\", \"showlegend\": false, \"type\": \"scatter\", \"x\": [1, 2, 3, 4, 5, 6, 7, 8, 9, 10, 11, 12], \"xaxis\": \"x5\", \"y\": [0.1557282931587928, 0.1357647458449387, 0.1471482081795475, 0.1473984105749674, 0.1530680363447076, 0.1531739101859894, 0.1506359760426511, 0.1466148201191525, 0.1558365224236775, 0.1517599803255693, 0.1539267696174625, 0.1581463716702348], \"yaxis\": \"y5\"}, {\"legendgroup\": \"std\", \"marker\": {\"color\": \"#3c2946\"}, \"name\": \"std\", \"showlegend\": false, \"type\": \"scatter\", \"x\": [1, 2, 3, 4, 5, 6, 7, 8, 9, 10, 11, 12], \"xaxis\": \"x5\", \"y\": [0.1624533956129251, 0.1539755199386579, 0.1564384276969571, 0.1487547144971006, 0.1558493638207981, 0.1449126379115002, 0.1520002778314372, 0.1496220742939415, 0.1439328206905422, 0.1463720002594356, 0.1481888943930192, 0.1475422594399977], \"yaxis\": \"y5\"}, {\"legendgroup\": \"max\", \"marker\": {\"color\": \"#d54062\"}, \"name\": \"max\", \"showlegend\": false, \"type\": \"scatter\", \"x\": [1, 2, 3, 4, 5, 6, 7, 8, 9, 10, 11, 12], \"xaxis\": \"x2\", \"y\": [0.1417851576725116, 0.1432994289986137, 0.1424692838381291, 0.142186294149484, 0.1416311887219457, 0.1421388543132413, 0.1448035267598624, 0.1440197596587005, 0.1426710682999727, 0.1432947716313221, 0.1418394307265554, 0.140657329362885], \"yaxis\": \"y2\"}, {\"legendgroup\": \"mean\", \"marker\": {\"color\": \"#ffa36c\"}, \"name\": \"mean\", \"showlegend\": false, \"type\": \"scatter\", \"x\": [1, 2, 3, 4, 5, 6, 7, 8, 9, 10, 11, 12], \"xaxis\": \"x2\", \"y\": [0.1427857720831377, 0.1440968320450411, 0.1446161095963029, 0.1430884399867935, 0.1424749700870742, 0.1427166551594938, 0.1415087423516664, 0.1410146236776956, 0.1404262420714544, 0.1399528585995781, 0.1395678238293043, 0.1389657901989436], \"yaxis\": \"y2\"}, {\"legendgroup\": \"median\", \"marker\": {\"color\": \"#799351\"}, \"name\": \"median\", \"showlegend\": false, \"type\": \"scatter\", \"x\": [1, 2, 3, 4, 5, 6, 7, 8, 9, 10, 11, 12], \"xaxis\": \"x2\", \"y\": [0.1427857720831377, 0.1439594178985518, 0.1445189713878428, 0.1439830256816248, 0.1433066100145683, 0.143119473253191, 0.1416664855070729, 0.1413940813000715, 0.1410966906598429, 0.1410630149838119, 0.1412958272881292, 0.1404513116935679], \"yaxis\": \"y2\"}, {\"legendgroup\": \"min\", \"marker\": {\"color\": \"#0f4c75\"}, \"name\": \"min\", \"showlegend\": false, \"type\": \"scatter\", \"x\": [1, 2, 3, 4, 5, 6, 7, 8, 9, 10, 11, 12], \"xaxis\": \"x2\", \"y\": [0.1437699458908473, 0.1427537608228934, 0.1405174106747095, 0.1403037877241971, 0.1410211113411814, 0.1405693308494482, 0.1398357892949104, 0.1400411988136663, 0.1403258522591437, 0.1407865444329941, 0.1400145821338731, 0.1380618338715599], \"yaxis\": \"y2\"}, {\"legendgroup\": \"std\", \"marker\": {\"color\": \"#3c2946\"}, \"name\": \"std\", \"showlegend\": false, \"type\": \"scatter\", \"x\": [1, 2, 3, 4, 5, 6, 7, 8, 9, 10, 11, 12], \"xaxis\": \"x2\", \"y\": [0.1401399564501142, 0.1377532749860017, 0.1369869420250309, 0.1378003969753188, 0.1382159215386888, 0.1383606534971183, 0.138287520678779, 0.1384142013808307, 0.1373935540868786, 0.137190278755469, 0.1372641042375844, 0.1379636948053015], \"yaxis\": \"y2\"}, {\"legendgroup\": \"max\", \"marker\": {\"color\": \"#d54062\"}, \"name\": \"max\", \"showlegend\": false, \"type\": \"scatter\", \"x\": [1, 2, 3, 4, 5, 6, 7, 8, 9, 10, 11, 12], \"xaxis\": \"x3\", \"y\": [0.1494219935210764, 0.1474251278530071, 0.1409912616858868, 0.1461766102509932, 0.1435243466770274, 0.1391605154007183, 0.1406137908118871, 0.1400890331750986, 0.1363970473487487, 0.1387476101000966, 0.1375974648887094, 0.1393383212962045], \"yaxis\": \"y3\"}, {\"legendgroup\": \"mean\", \"marker\": {\"color\": \"#ffa36c\"}, \"name\": \"mean\", \"showlegend\": false, \"type\": \"scatter\", \"x\": [1, 2, 3, 4, 5, 6, 7, 8, 9, 10, 11, 12], \"xaxis\": \"x3\", \"y\": [0.16438667606019, 0.1603271064793539, 0.1589344936554147, 0.1584415916003121, 0.160312899174828, 0.1603312992185341, 0.1626233303391195, 0.1645267347442081, 0.1655653018472026, 0.1671124525225858, 0.1652551951393654, 0.1658269796842224], \"yaxis\": \"y3\"}, {\"legendgroup\": \"median\", \"marker\": {\"color\": \"#799351\"}, \"name\": \"median\", \"showlegend\": false, \"type\": \"scatter\", \"x\": [1, 2, 3, 4, 5, 6, 7, 8, 9, 10, 11, 12], \"xaxis\": \"x3\", \"y\": [0.16438667606019, 0.161379303377525, 0.1616889321066957, 0.1623871475623987, 0.1640254244377828, 0.165449729086944, 0.1659178350263311, 0.1657294348640457, 0.1650204147592394, 0.1658900192605554, 0.1667593607709142, 0.1684421839457838], \"yaxis\": \"y3\"}, {\"legendgroup\": \"min\", \"marker\": {\"color\": \"#0f4c75\"}, \"name\": \"min\", \"showlegend\": false, \"type\": \"scatter\", \"x\": [1, 2, 3, 4, 5, 6, 7, 8, 9, 10, 11, 12], \"xaxis\": \"x3\", \"y\": [0.1857524440946413, 0.1884214879131934, 0.1967071746036581, 0.2017130891669842, 0.2011521092427486, 0.202592911569868, 0.2015987663712528, 0.2032931933566769, 0.2055728841899185, 0.2075505318762039, 0.2114266493892494, 0.2141473290542342], \"yaxis\": \"y3\"}, {\"legendgroup\": \"std\", \"marker\": {\"color\": \"#3c2946\"}, \"name\": \"std\", \"showlegend\": false, \"type\": \"scatter\", \"x\": [1, 2, 3, 4, 5, 6, 7, 8, 9, 10, 11, 12], \"xaxis\": \"x3\", \"y\": [0.3842576019031609, 0.3638539412519466, 0.3580251026628486, 0.3546289116667298, 0.3507430020984849, 0.3472192822481618, 0.3433614871414006, 0.3423483471516624, 0.3410630429785821, 0.3391930397321978, 0.3377116822439329, 0.3362991408266695], \"yaxis\": \"y3\"}, {\"legendgroup\": \"max\", \"marker\": {\"color\": \"#d54062\"}, \"name\": \"max\", \"showlegend\": false, \"type\": \"scatter\", \"x\": [1, 2, 3, 4, 5, 6, 7, 8, 9, 10, 11, 12], \"xaxis\": \"x6\", \"y\": [0.1402115485671087, 0.1369042674814831, 0.1405414691881439, 0.13869743055475, 0.1419137849495801, 0.1413136065110016, 0.14310290973479, 0.14299578282212, 0.1399910512962044, 0.1412534191142845, 0.1422540446205644, 0.1427229063502512], \"yaxis\": \"y6\"}, {\"legendgroup\": \"mean\", \"marker\": {\"color\": \"#ffa36c\"}, \"name\": \"mean\", \"showlegend\": false, \"type\": \"scatter\", \"x\": [1, 2, 3, 4, 5, 6, 7, 8, 9, 10, 11, 12], \"xaxis\": \"x6\", \"y\": [0.138964593549906, 0.1369588912965665, 0.1415474735343037, 0.1416510497440404, 0.1418884253667918, 0.1425109583328621, 0.1425756199682414, 0.142714296407565, 0.1416952556894289, 0.1412527068953851, 0.1405348228552763, 0.1403009869708591], \"yaxis\": \"y6\"}, {\"legendgroup\": \"median\", \"marker\": {\"color\": \"#799351\"}, \"name\": \"median\", \"showlegend\": false, \"type\": \"scatter\", \"x\": [1, 2, 3, 4, 5, 6, 7, 8, 9, 10, 11, 12], \"xaxis\": \"x6\", \"y\": [0.138964593549906, 0.1362561375814347, 0.1406774230763512, 0.1407416847434869, 0.1408367346080938, 0.1435985786527414, 0.1414716947651504, 0.142189986351385, 0.1409470423615997, 0.140520207025352, 0.1391981672306059, 0.1382455855355119], \"yaxis\": \"y6\"}, {\"legendgroup\": \"min\", \"marker\": {\"color\": \"#0f4c75\"}, \"name\": \"min\", \"showlegend\": false, \"type\": \"scatter\", \"x\": [1, 2, 3, 4, 5, 6, 7, 8, 9, 10, 11, 12], \"xaxis\": \"x6\", \"y\": [0.1378804904544444, 0.1381613910323514, 0.1379973646019061, 0.1404868774862931, 0.1382585495280879, 0.1399139382214646, 0.1422250485398247, 0.1412581088054142, 0.1392761366113891, 0.1385449910461403, 0.1379709429965053, 0.1372520179593145], \"yaxis\": \"y6\"}, {\"legendgroup\": \"std\", \"marker\": {\"color\": \"#3c2946\"}, \"name\": \"std\", \"showlegend\": false, \"type\": \"scatter\", \"x\": [1, 2, 3, 4, 5, 6, 7, 8, 9, 10, 11, 12], \"xaxis\": \"x6\", \"y\": [0.1385931401563288, 0.1405694961406536, 0.14060325195791, 0.1389613542047418, 0.1376399968642147, 0.1377615807233953, 0.140768184675296, 0.1419092358367916, 0.1405415456836847, 0.1417916156469364, 0.1410679910596856, 0.1421031929330329], \"yaxis\": \"y6\"}],                        {\"annotations\": [{\"font\": {\"size\": 16}, \"showarrow\": false, \"text\": \"BayesianRidge\", \"x\": 0.23249999999999998, \"xanchor\": \"center\", \"xref\": \"paper\", \"y\": 1.0, \"yanchor\": \"bottom\", \"yref\": \"paper\"}, {\"font\": {\"size\": 16}, \"showarrow\": false, \"text\": \"LinearRegression\", \"x\": 0.7674999999999998, \"xanchor\": \"center\", \"xref\": \"paper\", \"y\": 1.0, \"yanchor\": \"bottom\", \"yref\": \"paper\"}, {\"font\": {\"size\": 16}, \"showarrow\": false, \"text\": \"MLPRegressor\", \"x\": 0.23249999999999998, \"xanchor\": \"center\", \"xref\": \"paper\", \"y\": 0.6466666666666667, \"yanchor\": \"bottom\", \"yref\": \"paper\"}, {\"font\": {\"size\": 16}, \"showarrow\": false, \"text\": \"Ridge\", \"x\": 0.7674999999999998, \"xanchor\": \"center\", \"xref\": \"paper\", \"y\": 0.6466666666666667, \"yanchor\": \"bottom\", \"yref\": \"paper\"}, {\"font\": {\"size\": 16}, \"showarrow\": false, \"text\": \"SGDRegressor\", \"x\": 0.23249999999999998, \"xanchor\": \"center\", \"xref\": \"paper\", \"y\": 0.29333333333333333, \"yanchor\": \"bottom\", \"yref\": \"paper\"}, {\"font\": {\"size\": 16}, \"showarrow\": false, \"text\": \"SVR\", \"x\": 0.7674999999999998, \"xanchor\": \"center\", \"xref\": \"paper\", \"y\": 0.29333333333333333, \"yanchor\": \"bottom\", \"yref\": \"paper\"}], \"legend\": {\"orientation\": \"h\", \"x\": 0.75, \"xanchor\": \"right\", \"y\": 1.06, \"yanchor\": \"bottom\"}, \"margin\": {\"b\": 0, \"l\": 0, \"pad\": 5, \"r\": 0, \"t\": 5}, \"template\": {\"data\": {\"bar\": [{\"error_x\": {\"color\": \"#2a3f5f\"}, \"error_y\": {\"color\": \"#2a3f5f\"}, \"marker\": {\"line\": {\"color\": \"#E5ECF6\", \"width\": 0.5}}, \"type\": \"bar\"}], \"barpolar\": [{\"marker\": {\"line\": {\"color\": \"#E5ECF6\", \"width\": 0.5}}, \"type\": \"barpolar\"}], \"carpet\": [{\"aaxis\": {\"endlinecolor\": \"#2a3f5f\", \"gridcolor\": \"white\", \"linecolor\": \"white\", \"minorgridcolor\": \"white\", \"startlinecolor\": \"#2a3f5f\"}, \"baxis\": {\"endlinecolor\": \"#2a3f5f\", \"gridcolor\": \"white\", \"linecolor\": \"white\", \"minorgridcolor\": \"white\", \"startlinecolor\": \"#2a3f5f\"}, \"type\": \"carpet\"}], \"choropleth\": [{\"colorbar\": {\"outlinewidth\": 0, \"ticks\": \"\"}, \"type\": \"choropleth\"}], \"contour\": [{\"colorbar\": {\"outlinewidth\": 0, \"ticks\": \"\"}, \"colorscale\": [[0.0, \"#0d0887\"], [0.1111111111111111, \"#46039f\"], [0.2222222222222222, \"#7201a8\"], [0.3333333333333333, \"#9c179e\"], [0.4444444444444444, \"#bd3786\"], [0.5555555555555556, \"#d8576b\"], [0.6666666666666666, \"#ed7953\"], [0.7777777777777778, \"#fb9f3a\"], [0.8888888888888888, \"#fdca26\"], [1.0, \"#f0f921\"]], \"type\": \"contour\"}], \"contourcarpet\": [{\"colorbar\": {\"outlinewidth\": 0, \"ticks\": \"\"}, \"type\": \"contourcarpet\"}], \"heatmap\": [{\"colorbar\": {\"outlinewidth\": 0, \"ticks\": \"\"}, \"colorscale\": [[0.0, \"#0d0887\"], [0.1111111111111111, \"#46039f\"], [0.2222222222222222, \"#7201a8\"], [0.3333333333333333, \"#9c179e\"], [0.4444444444444444, \"#bd3786\"], [0.5555555555555556, \"#d8576b\"], [0.6666666666666666, \"#ed7953\"], [0.7777777777777778, \"#fb9f3a\"], [0.8888888888888888, \"#fdca26\"], [1.0, \"#f0f921\"]], \"type\": \"heatmap\"}], \"heatmapgl\": [{\"colorbar\": {\"outlinewidth\": 0, \"ticks\": \"\"}, \"colorscale\": [[0.0, \"#0d0887\"], [0.1111111111111111, \"#46039f\"], [0.2222222222222222, \"#7201a8\"], [0.3333333333333333, \"#9c179e\"], [0.4444444444444444, \"#bd3786\"], [0.5555555555555556, \"#d8576b\"], [0.6666666666666666, \"#ed7953\"], [0.7777777777777778, \"#fb9f3a\"], [0.8888888888888888, \"#fdca26\"], [1.0, \"#f0f921\"]], \"type\": \"heatmapgl\"}], \"histogram\": [{\"marker\": {\"colorbar\": {\"outlinewidth\": 0, \"ticks\": \"\"}}, \"type\": \"histogram\"}], \"histogram2d\": [{\"colorbar\": {\"outlinewidth\": 0, \"ticks\": \"\"}, \"colorscale\": [[0.0, \"#0d0887\"], [0.1111111111111111, \"#46039f\"], [0.2222222222222222, \"#7201a8\"], [0.3333333333333333, \"#9c179e\"], [0.4444444444444444, \"#bd3786\"], [0.5555555555555556, \"#d8576b\"], [0.6666666666666666, \"#ed7953\"], [0.7777777777777778, \"#fb9f3a\"], [0.8888888888888888, \"#fdca26\"], [1.0, \"#f0f921\"]], \"type\": \"histogram2d\"}], \"histogram2dcontour\": [{\"colorbar\": {\"outlinewidth\": 0, \"ticks\": \"\"}, \"colorscale\": [[0.0, \"#0d0887\"], [0.1111111111111111, \"#46039f\"], [0.2222222222222222, \"#7201a8\"], [0.3333333333333333, \"#9c179e\"], [0.4444444444444444, \"#bd3786\"], [0.5555555555555556, \"#d8576b\"], [0.6666666666666666, \"#ed7953\"], [0.7777777777777778, \"#fb9f3a\"], [0.8888888888888888, \"#fdca26\"], [1.0, \"#f0f921\"]], \"type\": \"histogram2dcontour\"}], \"mesh3d\": [{\"colorbar\": {\"outlinewidth\": 0, \"ticks\": \"\"}, \"type\": \"mesh3d\"}], \"parcoords\": [{\"line\": {\"colorbar\": {\"outlinewidth\": 0, \"ticks\": \"\"}}, \"type\": \"parcoords\"}], \"pie\": [{\"automargin\": true, \"type\": \"pie\"}], \"scatter\": [{\"marker\": {\"colorbar\": {\"outlinewidth\": 0, \"ticks\": \"\"}}, \"type\": \"scatter\"}], \"scatter3d\": [{\"line\": {\"colorbar\": {\"outlinewidth\": 0, \"ticks\": \"\"}}, \"marker\": {\"colorbar\": {\"outlinewidth\": 0, \"ticks\": \"\"}}, \"type\": \"scatter3d\"}], \"scattercarpet\": [{\"marker\": {\"colorbar\": {\"outlinewidth\": 0, \"ticks\": \"\"}}, \"type\": \"scattercarpet\"}], \"scattergeo\": [{\"marker\": {\"colorbar\": {\"outlinewidth\": 0, \"ticks\": \"\"}}, \"type\": \"scattergeo\"}], \"scattergl\": [{\"marker\": {\"colorbar\": {\"outlinewidth\": 0, \"ticks\": \"\"}}, \"type\": \"scattergl\"}], \"scattermapbox\": [{\"marker\": {\"colorbar\": {\"outlinewidth\": 0, \"ticks\": \"\"}}, \"type\": \"scattermapbox\"}], \"scatterpolar\": [{\"marker\": {\"colorbar\": {\"outlinewidth\": 0, \"ticks\": \"\"}}, \"type\": \"scatterpolar\"}], \"scatterpolargl\": [{\"marker\": {\"colorbar\": {\"outlinewidth\": 0, \"ticks\": \"\"}}, \"type\": \"scatterpolargl\"}], \"scatterternary\": [{\"marker\": {\"colorbar\": {\"outlinewidth\": 0, \"ticks\": \"\"}}, \"type\": \"scatterternary\"}], \"surface\": [{\"colorbar\": {\"outlinewidth\": 0, \"ticks\": \"\"}, \"colorscale\": [[0.0, \"#0d0887\"], [0.1111111111111111, \"#46039f\"], [0.2222222222222222, \"#7201a8\"], [0.3333333333333333, \"#9c179e\"], [0.4444444444444444, \"#bd3786\"], [0.5555555555555556, \"#d8576b\"], [0.6666666666666666, \"#ed7953\"], [0.7777777777777778, \"#fb9f3a\"], [0.8888888888888888, \"#fdca26\"], [1.0, \"#f0f921\"]], \"type\": \"surface\"}], \"table\": [{\"cells\": {\"fill\": {\"color\": \"#EBF0F8\"}, \"line\": {\"color\": \"white\"}}, \"header\": {\"fill\": {\"color\": \"#C8D4E3\"}, \"line\": {\"color\": \"white\"}}, \"type\": \"table\"}]}, \"layout\": {\"annotationdefaults\": {\"arrowcolor\": \"#2a3f5f\", \"arrowhead\": 0, \"arrowwidth\": 1}, \"autotypenumbers\": \"strict\", \"coloraxis\": {\"colorbar\": {\"outlinewidth\": 0, \"ticks\": \"\"}}, \"colorscale\": {\"diverging\": [[0, \"#8e0152\"], [0.1, \"#c51b7d\"], [0.2, \"#de77ae\"], [0.3, \"#f1b6da\"], [0.4, \"#fde0ef\"], [0.5, \"#f7f7f7\"], [0.6, \"#e6f5d0\"], [0.7, \"#b8e186\"], [0.8, \"#7fbc41\"], [0.9, \"#4d9221\"], [1, \"#276419\"]], \"sequential\": [[0.0, \"#0d0887\"], [0.1111111111111111, \"#46039f\"], [0.2222222222222222, \"#7201a8\"], [0.3333333333333333, \"#9c179e\"], [0.4444444444444444, \"#bd3786\"], [0.5555555555555556, \"#d8576b\"], [0.6666666666666666, \"#ed7953\"], [0.7777777777777778, \"#fb9f3a\"], [0.8888888888888888, \"#fdca26\"], [1.0, \"#f0f921\"]], \"sequentialminus\": [[0.0, \"#0d0887\"], [0.1111111111111111, \"#46039f\"], [0.2222222222222222, \"#7201a8\"], [0.3333333333333333, \"#9c179e\"], [0.4444444444444444, \"#bd3786\"], [0.5555555555555556, \"#d8576b\"], [0.6666666666666666, \"#ed7953\"], [0.7777777777777778, \"#fb9f3a\"], [0.8888888888888888, \"#fdca26\"], [1.0, \"#f0f921\"]]}, \"colorway\": [\"#636efa\", \"#EF553B\", \"#00cc96\", \"#ab63fa\", \"#FFA15A\", \"#19d3f3\", \"#FF6692\", \"#B6E880\", \"#FF97FF\", \"#FECB52\"], \"font\": {\"color\": \"#2a3f5f\"}, \"geo\": {\"bgcolor\": \"white\", \"lakecolor\": \"white\", \"landcolor\": \"#E5ECF6\", \"showlakes\": true, \"showland\": true, \"subunitcolor\": \"white\"}, \"hoverlabel\": {\"align\": \"left\"}, \"hovermode\": \"closest\", \"mapbox\": {\"style\": \"light\"}, \"paper_bgcolor\": \"white\", \"plot_bgcolor\": \"#E5ECF6\", \"polar\": {\"angularaxis\": {\"gridcolor\": \"white\", \"linecolor\": \"white\", \"ticks\": \"\"}, \"bgcolor\": \"#E5ECF6\", \"radialaxis\": {\"gridcolor\": \"white\", \"linecolor\": \"white\", \"ticks\": \"\"}}, \"scene\": {\"xaxis\": {\"backgroundcolor\": \"#E5ECF6\", \"gridcolor\": \"white\", \"gridwidth\": 2, \"linecolor\": \"white\", \"showbackground\": true, \"ticks\": \"\", \"zerolinecolor\": \"white\"}, \"yaxis\": {\"backgroundcolor\": \"#E5ECF6\", \"gridcolor\": \"white\", \"gridwidth\": 2, \"linecolor\": \"white\", \"showbackground\": true, \"ticks\": \"\", \"zerolinecolor\": \"white\"}, \"zaxis\": {\"backgroundcolor\": \"#E5ECF6\", \"gridcolor\": \"white\", \"gridwidth\": 2, \"linecolor\": \"white\", \"showbackground\": true, \"ticks\": \"\", \"zerolinecolor\": \"white\"}}, \"shapedefaults\": {\"line\": {\"color\": \"#2a3f5f\"}}, \"ternary\": {\"aaxis\": {\"gridcolor\": \"white\", \"linecolor\": \"white\", \"ticks\": \"\"}, \"baxis\": {\"gridcolor\": \"white\", \"linecolor\": \"white\", \"ticks\": \"\"}, \"bgcolor\": \"#E5ECF6\", \"caxis\": {\"gridcolor\": \"white\", \"linecolor\": \"white\", \"ticks\": \"\"}}, \"title\": {\"x\": 0.05}, \"xaxis\": {\"automargin\": true, \"gridcolor\": \"white\", \"linecolor\": \"white\", \"ticks\": \"\", \"title\": {\"standoff\": 15}, \"zerolinecolor\": \"white\", \"zerolinewidth\": 2}, \"yaxis\": {\"automargin\": true, \"gridcolor\": \"white\", \"linecolor\": \"white\", \"ticks\": \"\", \"title\": {\"standoff\": 15}, \"zerolinecolor\": \"white\", \"zerolinewidth\": 2}}}, \"xaxis\": {\"anchor\": \"y\", \"domain\": [0.0, 0.46499999999999997], \"matches\": \"x5\", \"nticks\": 12, \"showticklabels\": false}, \"xaxis2\": {\"anchor\": \"y2\", \"domain\": [0.5349999999999999, 0.9999999999999999], \"matches\": \"x6\", \"nticks\": 12, \"showticklabels\": false}, \"xaxis3\": {\"anchor\": \"y3\", \"domain\": [0.0, 0.46499999999999997], \"matches\": \"x5\", \"nticks\": 12, \"showticklabels\": false}, \"xaxis4\": {\"anchor\": \"y4\", \"domain\": [0.5349999999999999, 0.9999999999999999], \"matches\": \"x6\", \"nticks\": 12, \"showticklabels\": false}, \"xaxis5\": {\"anchor\": \"y5\", \"domain\": [0.0, 0.46499999999999997], \"nticks\": 12, \"title\": {\"text\": \"Window width\"}}, \"xaxis6\": {\"anchor\": \"y6\", \"domain\": [0.5349999999999999, 0.9999999999999999], \"nticks\": 12, \"title\": {\"text\": \"Window width\"}}, \"yaxis\": {\"anchor\": \"x\", \"domain\": [0.7066666666666667, 1.0]}, \"yaxis2\": {\"anchor\": \"x2\", \"domain\": [0.7066666666666667, 1.0]}, \"yaxis3\": {\"anchor\": \"x3\", \"domain\": [0.35333333333333333, 0.6466666666666667]}, \"yaxis4\": {\"anchor\": \"x4\", \"domain\": [0.35333333333333333, 0.6466666666666667]}, \"yaxis5\": {\"anchor\": \"x5\", \"domain\": [0.0, 0.29333333333333333]}, \"yaxis6\": {\"anchor\": \"x6\", \"domain\": [0.0, 0.29333333333333333]}},                        {\"responsive\": true}                    ).then(function(){\n",
              "                            \n",
              "var gd = document.getElementById('23b79e85-820d-4162-8dce-062859dac5f2');\n",
              "var x = new MutationObserver(function (mutations, observer) {{\n",
              "        var display = window.getComputedStyle(gd).display;\n",
              "        if (!display || display === 'none') {{\n",
              "            console.log([gd, 'removed!']);\n",
              "            Plotly.purge(gd);\n",
              "            observer.disconnect();\n",
              "        }}\n",
              "}});\n",
              "\n",
              "// Listen for the removal of the full notebook cells\n",
              "var notebookContainer = gd.closest('#notebook-container');\n",
              "if (notebookContainer) {{\n",
              "    x.observe(notebookContainer, {childList: true});\n",
              "}}\n",
              "\n",
              "// Listen for the clearing of the current output cell\n",
              "var outputEl = gd.closest('.output');\n",
              "if (outputEl) {{\n",
              "    x.observe(outputEl, {childList: true});\n",
              "}}\n",
              "\n",
              "                        })                };                            </script>        </div>\n",
              "</body>\n",
              "</html>"
            ]
          },
          "metadata": {
            "tags": []
          }
        }
      ]
    },
    {
      "cell_type": "markdown",
      "metadata": {
        "ExecuteTime": {
          "end_time": "2020-12-28T18:17:41.187777Z",
          "start_time": "2020-12-28T18:17:39.123929Z"
        },
        "code_folding": [],
        "pycharm": {
          "name": "#%% md\n"
        },
        "scrolled": true,
        "id": "8oSUjr7ZnWWD"
      },
      "source": [
        "### Withput replacemenet"
      ]
    },
    {
      "cell_type": "code",
      "metadata": {
        "pycharm": {
          "name": "#%%\n"
        },
        "id": "jDf1LyM2nWWE",
        "colab": {
          "base_uri": "https://localhost:8080/",
          "height": 1000
        },
        "outputId": "59508e61-6ec1-4f62-ccf5-3d8780a84822"
      },
      "source": [
        "# Test rolling window without replacment\n",
        "replacement = False\n",
        "metrics = (mean_absolute_error, mean_squared_error)\n",
        "models = (\n",
        "        neural_network.MLPRegressor(random_state=100, max_iter=10000), \n",
        "        svm.SVR(max_iter=80000),\n",
        "        linear_model.LinearRegression(),\n",
        "        linear_model.BayesianRidge(),\n",
        "        linear_model.Ridge(max_iter=10000),\n",
        "        linear_model.SGDRegressor(random_state=10000, max_iter=10000),\n",
        ")\n",
        "offsets = tuple(range(1, 13))\n",
        "legend = dict(\n",
        "        orientation=\"h\",\n",
        "        yanchor=\"bottom\",\n",
        "        y=1.06,\n",
        "        xanchor=\"right\",\n",
        "        x=0.75\n",
        ")\n",
        "\n",
        "# df_multi_1 = rolling_stats_window_test(data, models, functions, offsets, metrics, test_method,replacement)\n",
        "link = 'https://raw.githubusercontent.com/HBaena/forecasting-criminal-incidence/main/rw-wr.feather'\n",
        "df_multi_1 = pd.read_feather(link)\n",
        "df_multi_1.set_index(['model', 'function', 'offset', 'city'], inplace=True)\n",
        "# df_multi_1 = pd.read_csv('rw-wr.csv', index_col=['model', 'function', 'offset', 'city'])\n",
        "\n",
        "# Model vs window width\n",
        "# df_multi_1[df_multi_1 > 1] = nan\n",
        "tmp = df_multi_1.groupby(level=['model', 'offset']).agg(city_func)\n",
        "min_rw_wr = tmp.groupby(level='model').min()['mean_absolute_error']\n",
        "figure = boxplot_multiindex_df(tmp, 'mean_absolute_error', alias, layout=dict(**layout, **dict(showlegend=False)))\n",
        "figure.update_xaxes(title=subtitle_style.format('Window width'))\n",
        "figure.update_layout(\n",
        "                    width=400,\n",
        "                    legend=dict(title=subtitle_style.format('Model')),\n",
        ").show(render='svg')\n",
        "# figure.write_image(f'{images_path}boxplot-rw-model-wr.pdf')\n",
        "# Plot scatterplot\n",
        "figure = scatter_multiindex_df(tmp, 'mean_absolute_error', alias, layout=layout)\n",
        "figure.update_xaxes(title='Window width', nticks=12\n",
        "                   ).update_xaxes(title=subtitle_style.format('Window width')).update_layout(\n",
        "                    legend=dict(title=subtitle_style.format('Model')),width=600,height=fig_height).show(render='svg')\n",
        "# figure.write_image(f'{images_path}scatter-rw-model-wr.pdf')\n",
        "\n",
        "# Functions vs window width\n",
        "alias_f = dict(zip(functions.keys(), map(lambda s:s.capitalize(),functions.keys())))\n",
        "tmp = df_multi_1.groupby(level=['function', 'offset']).agg(city_func)\n",
        "figure = boxplot_multiindex_df(tmp, 'mean_absolute_error', alias_f, layout=dict(**layout, **dict(showlegend=False)))\n",
        "figure.update_xaxes(title=subtitle_style.format('Window width'))\n",
        "figure.update_layout(\n",
        "                    width=400,\n",
        "                    legend=dict(title=subtitle_style.format('Function')),\n",
        ").show(render='svg')\n",
        "# figure.write_image(f'{images_path}boxplot-rw-function-wr.pdf')\n",
        "# Plot scatterplot\n",
        "figure = scatter_multiindex_df(tmp, 'mean_absolute_error', alias_f, layout=layout)\n",
        "figure.update_xaxes(title='Window width', nticks=12\n",
        "                   ).update_xaxes(title=subtitle_style.format('Window width')).update_layout(\n",
        "                    legend=dict(title=subtitle_style.format('Function')),width=600,height=fig_height).show(render='svg')\n",
        "# figure.write_image(f'{images_path}scatter-rw-function-wr.pdf')\n",
        "\n",
        "tmp = df_multi_1.groupby(level=[0,1, 2]).agg(city_func)\n",
        "\n",
        "j=0\n",
        "figure = make_subplots(rows=3, cols=2, shared_xaxes=True, subplot_titles=df_multi_1.index.levels[0],\n",
        "                      horizontal_spacing=0.07,\n",
        "                      vertical_spacing=0.06,\n",
        "                      )\n",
        "for model, _df in tmp.groupby(level=0):\n",
        "    i = 0\n",
        "    for function, __df in _df.groupby(level=1):\n",
        "        figure.add_trace(\n",
        "                go.Scatter(\n",
        "                    x=list(map(lambda x:x[2], __df.index)),\n",
        "                    y=__df['mean_absolute_error'],\n",
        "                    marker=dict(color=colors[i]),\n",
        "                    name=function,\n",
        "                    legendgroup=function,\n",
        "                    showlegend=bool(j == 0)\n",
        "                ), row=j%3 + 1, col=j%2 + 1\n",
        "        )\n",
        "        i+=1\n",
        "    j+=1\n",
        "    figure.update_xaxes(nticks=12, row=j%3 + 1, col=j%2 + 1)\n",
        "    figure.update_xaxes(nticks=12, row=j%3 + 1, col=j%2 + 1)\n",
        "# figure.update_xaxes(visible=False, row=1, col=1)\n",
        "\n",
        "figure.update_xaxes(title='Window width', row=3, col=2)\n",
        "figure.update_xaxes(title='Window width', row=3, col=1)\n",
        "figure.update_layout(margin=margin, legend=legend).show(render='svg')\n",
        "# figure.update_layout(margin=margin, height=fig_height - 200).show(render='svg').update_layout(\n",
        "#                     legend=legend,\n",
        "#                     showlegend=bool(j == 2),\n",
        "#                     xaxis=dict(visible=bool(j == 6), title='Window width' , nticks=12, showticklabels=bool(j == 6)),\n",
        "#                     yaxis=dict(title='Absolute error'),\n",
        "# ).show(render='svg').update_xaxes(visible=bool(j == 6), title='Window width' ,nticks=12, showticklabels=bool(j == 6),row=1, col=2).show(render='svg')\n",
        "# figure.write_image(f'{images_path}scatter-rw-fig-wr.pdf')\n",
        "#         print(f'{images_path}scatter-rw-fig-{j}-wr.pdf')\n",
        "#     'MCPR-2021/images/sca'\n",
        "tmp = df_multi_1.groupby(level=['model', 'offset']).agg(city_func)\n"
      ],
      "execution_count": 13,
      "outputs": [
        {
          "output_type": "display_data",
          "data": {
            "text/html": [
              "<html>\n",
              "<head><meta charset=\"utf-8\" /></head>\n",
              "<body>\n",
              "    <div>            <script src=\"https://cdnjs.cloudflare.com/ajax/libs/mathjax/2.7.5/MathJax.js?config=TeX-AMS-MML_SVG\"></script><script type=\"text/javascript\">if (window.MathJax) {MathJax.Hub.Config({SVG: {font: \"STIX-Web\"}});}</script>                <script type=\"text/javascript\">window.PlotlyConfig = {MathJaxConfig: 'local'};</script>\n",
              "        <script src=\"https://cdn.plot.ly/plotly-latest.min.js\"></script>                <div id=\"416f07f1-3ba9-46db-931e-9ee9444adf5b\" class=\"plotly-graph-div\" style=\"height:350px; width:400px;\"></div>            <script type=\"text/javascript\">                                    window.PLOTLYENV=window.PLOTLYENV || {};                                    if (document.getElementById(\"416f07f1-3ba9-46db-931e-9ee9444adf5b\")) {                    Plotly.newPlot(                        \"416f07f1-3ba9-46db-931e-9ee9444adf5b\",                        [{\"marker\": {\"color\": \"#d54062\"}, \"name\": \"BR\", \"type\": \"box\", \"y\": [0.1416426064501443, 0.1414771807140416, 0.1421824275645731, 0.1412274368873791, 0.1422774652149585, 0.1425825035317989, 0.1376291435109142, 0.1379125321917849, 0.1379660514979032, 0.1421269565563881, 0.1404990142049201, 0.1386526599313447]}, {\"marker\": {\"color\": \"#ffa36c\"}, \"name\": \"LR\", \"type\": \"box\", \"y\": [0.1611058371848185, 0.1557808303984887, 0.1459101412647981, 0.1428314764765722, 0.1494875162342186, 0.1399197661315522, 0.1425653750378432, 0.1443506324945788, 0.1429808580725371, 0.1430858282340195, 0.1421003675009681, 0.142205152803499]}, {\"marker\": {\"color\": \"#799351\"}, \"name\": \"MLP\", \"type\": \"box\", \"y\": [0.161044396859437, 0.1921014009180348, 0.1901149947717733, 0.1598314657228848, 0.1654335858936264, 0.1675294373063244, 0.1572228494764247, 0.1587056558627164, 0.1729059563374559, 0.1587858311360245, 0.1617436384056642, 0.1803583058866978]}, {\"marker\": {\"color\": \"#0f4c75\"}, \"name\": \"R\", \"type\": \"box\", \"y\": [0.1427857720831377, 0.1432277508046613, 0.1427445650933357, 0.1417099376484744, 0.1401391421096709, 0.1390886455915096, 0.1400075579439419, 0.1401554987745062, 0.1397318116305937, 0.1405781790208709, 0.1402278242524627, 0.1393602983088408]}, {\"marker\": {\"color\": \"#3c2946\"}, \"name\": \"SGD\", \"type\": \"box\", \"y\": [0.1875181566103356, 0.1740911938485202, 0.1743696690023586, 0.1770158688677249, 0.1740304702060777, 0.170792445489062, 0.1666460754217017, 0.1638555076626931, 0.1554642004442399, 0.1607240008111329, 0.1537977429530679, 0.1582848320578889]}, {\"marker\": {\"color\": \"#89c9b8\"}, \"name\": \"SVR\", \"type\": \"box\", \"y\": [0.138964593549906, 0.138207307752554, 0.139342155987898, 0.139609103378969, 0.140260153274522, 0.1402860320345054, 0.1404093426900653, 0.1408084151694627, 0.1409603818212831, 0.1407815258892739, 0.1404434994332389, 0.1403302741628817]}],                        {\"autosize\": false, \"height\": 350, \"legend\": {\"title\": {\"text\": \"<span style=\\\"font-size: 16px;\\\">Model</span>\"}}, \"margin\": {\"b\": 0, \"l\": 0, \"pad\": 5, \"r\": 0, \"t\": 5}, \"showlegend\": false, \"template\": {\"data\": {\"bar\": [{\"error_x\": {\"color\": \"#2a3f5f\"}, \"error_y\": {\"color\": \"#2a3f5f\"}, \"marker\": {\"line\": {\"color\": \"#E5ECF6\", \"width\": 0.5}}, \"type\": \"bar\"}], \"barpolar\": [{\"marker\": {\"line\": {\"color\": \"#E5ECF6\", \"width\": 0.5}}, \"type\": \"barpolar\"}], \"carpet\": [{\"aaxis\": {\"endlinecolor\": \"#2a3f5f\", \"gridcolor\": \"white\", \"linecolor\": \"white\", \"minorgridcolor\": \"white\", \"startlinecolor\": \"#2a3f5f\"}, \"baxis\": {\"endlinecolor\": \"#2a3f5f\", \"gridcolor\": \"white\", \"linecolor\": \"white\", \"minorgridcolor\": \"white\", \"startlinecolor\": \"#2a3f5f\"}, \"type\": \"carpet\"}], \"choropleth\": [{\"colorbar\": {\"outlinewidth\": 0, \"ticks\": \"\"}, \"type\": \"choropleth\"}], \"contour\": [{\"colorbar\": {\"outlinewidth\": 0, \"ticks\": \"\"}, \"colorscale\": [[0.0, \"#0d0887\"], [0.1111111111111111, \"#46039f\"], [0.2222222222222222, \"#7201a8\"], [0.3333333333333333, \"#9c179e\"], [0.4444444444444444, \"#bd3786\"], [0.5555555555555556, \"#d8576b\"], [0.6666666666666666, \"#ed7953\"], [0.7777777777777778, \"#fb9f3a\"], [0.8888888888888888, \"#fdca26\"], [1.0, \"#f0f921\"]], \"type\": \"contour\"}], \"contourcarpet\": [{\"colorbar\": {\"outlinewidth\": 0, \"ticks\": \"\"}, \"type\": \"contourcarpet\"}], \"heatmap\": [{\"colorbar\": {\"outlinewidth\": 0, \"ticks\": \"\"}, \"colorscale\": [[0.0, \"#0d0887\"], [0.1111111111111111, \"#46039f\"], [0.2222222222222222, \"#7201a8\"], [0.3333333333333333, \"#9c179e\"], [0.4444444444444444, \"#bd3786\"], [0.5555555555555556, \"#d8576b\"], [0.6666666666666666, \"#ed7953\"], [0.7777777777777778, \"#fb9f3a\"], [0.8888888888888888, \"#fdca26\"], [1.0, \"#f0f921\"]], \"type\": \"heatmap\"}], \"heatmapgl\": [{\"colorbar\": {\"outlinewidth\": 0, \"ticks\": \"\"}, \"colorscale\": [[0.0, \"#0d0887\"], [0.1111111111111111, \"#46039f\"], [0.2222222222222222, \"#7201a8\"], [0.3333333333333333, \"#9c179e\"], [0.4444444444444444, \"#bd3786\"], [0.5555555555555556, \"#d8576b\"], [0.6666666666666666, \"#ed7953\"], [0.7777777777777778, \"#fb9f3a\"], [0.8888888888888888, \"#fdca26\"], [1.0, \"#f0f921\"]], \"type\": \"heatmapgl\"}], \"histogram\": [{\"marker\": {\"colorbar\": {\"outlinewidth\": 0, \"ticks\": \"\"}}, \"type\": \"histogram\"}], \"histogram2d\": [{\"colorbar\": {\"outlinewidth\": 0, \"ticks\": \"\"}, \"colorscale\": [[0.0, \"#0d0887\"], [0.1111111111111111, \"#46039f\"], [0.2222222222222222, \"#7201a8\"], [0.3333333333333333, \"#9c179e\"], [0.4444444444444444, \"#bd3786\"], [0.5555555555555556, \"#d8576b\"], [0.6666666666666666, \"#ed7953\"], [0.7777777777777778, \"#fb9f3a\"], [0.8888888888888888, \"#fdca26\"], [1.0, \"#f0f921\"]], \"type\": \"histogram2d\"}], \"histogram2dcontour\": [{\"colorbar\": {\"outlinewidth\": 0, \"ticks\": \"\"}, \"colorscale\": [[0.0, \"#0d0887\"], [0.1111111111111111, \"#46039f\"], [0.2222222222222222, \"#7201a8\"], [0.3333333333333333, \"#9c179e\"], [0.4444444444444444, \"#bd3786\"], [0.5555555555555556, \"#d8576b\"], [0.6666666666666666, \"#ed7953\"], [0.7777777777777778, \"#fb9f3a\"], [0.8888888888888888, \"#fdca26\"], [1.0, \"#f0f921\"]], \"type\": \"histogram2dcontour\"}], \"mesh3d\": [{\"colorbar\": {\"outlinewidth\": 0, \"ticks\": \"\"}, \"type\": \"mesh3d\"}], \"parcoords\": [{\"line\": {\"colorbar\": {\"outlinewidth\": 0, \"ticks\": \"\"}}, \"type\": \"parcoords\"}], \"pie\": [{\"automargin\": true, \"type\": \"pie\"}], \"scatter\": [{\"marker\": {\"colorbar\": {\"outlinewidth\": 0, \"ticks\": \"\"}}, \"type\": \"scatter\"}], \"scatter3d\": [{\"line\": {\"colorbar\": {\"outlinewidth\": 0, \"ticks\": \"\"}}, \"marker\": {\"colorbar\": {\"outlinewidth\": 0, \"ticks\": \"\"}}, \"type\": \"scatter3d\"}], \"scattercarpet\": [{\"marker\": {\"colorbar\": {\"outlinewidth\": 0, \"ticks\": \"\"}}, \"type\": \"scattercarpet\"}], \"scattergeo\": [{\"marker\": {\"colorbar\": {\"outlinewidth\": 0, \"ticks\": \"\"}}, \"type\": \"scattergeo\"}], \"scattergl\": [{\"marker\": {\"colorbar\": {\"outlinewidth\": 0, \"ticks\": \"\"}}, \"type\": \"scattergl\"}], \"scattermapbox\": [{\"marker\": {\"colorbar\": {\"outlinewidth\": 0, \"ticks\": \"\"}}, \"type\": \"scattermapbox\"}], \"scatterpolar\": [{\"marker\": {\"colorbar\": {\"outlinewidth\": 0, \"ticks\": \"\"}}, \"type\": \"scatterpolar\"}], \"scatterpolargl\": [{\"marker\": {\"colorbar\": {\"outlinewidth\": 0, \"ticks\": \"\"}}, \"type\": \"scatterpolargl\"}], \"scatterternary\": [{\"marker\": {\"colorbar\": {\"outlinewidth\": 0, \"ticks\": \"\"}}, \"type\": \"scatterternary\"}], \"surface\": [{\"colorbar\": {\"outlinewidth\": 0, \"ticks\": \"\"}, \"colorscale\": [[0.0, \"#0d0887\"], [0.1111111111111111, \"#46039f\"], [0.2222222222222222, \"#7201a8\"], [0.3333333333333333, \"#9c179e\"], [0.4444444444444444, \"#bd3786\"], [0.5555555555555556, \"#d8576b\"], [0.6666666666666666, \"#ed7953\"], [0.7777777777777778, \"#fb9f3a\"], [0.8888888888888888, \"#fdca26\"], [1.0, \"#f0f921\"]], \"type\": \"surface\"}], \"table\": [{\"cells\": {\"fill\": {\"color\": \"#EBF0F8\"}, \"line\": {\"color\": \"white\"}}, \"header\": {\"fill\": {\"color\": \"#C8D4E3\"}, \"line\": {\"color\": \"white\"}}, \"type\": \"table\"}]}, \"layout\": {\"annotationdefaults\": {\"arrowcolor\": \"#2a3f5f\", \"arrowhead\": 0, \"arrowwidth\": 1}, \"autotypenumbers\": \"strict\", \"coloraxis\": {\"colorbar\": {\"outlinewidth\": 0, \"ticks\": \"\"}}, \"colorscale\": {\"diverging\": [[0, \"#8e0152\"], [0.1, \"#c51b7d\"], [0.2, \"#de77ae\"], [0.3, \"#f1b6da\"], [0.4, \"#fde0ef\"], [0.5, \"#f7f7f7\"], [0.6, \"#e6f5d0\"], [0.7, \"#b8e186\"], [0.8, \"#7fbc41\"], [0.9, \"#4d9221\"], [1, \"#276419\"]], \"sequential\": [[0.0, \"#0d0887\"], [0.1111111111111111, \"#46039f\"], [0.2222222222222222, \"#7201a8\"], [0.3333333333333333, \"#9c179e\"], [0.4444444444444444, \"#bd3786\"], [0.5555555555555556, \"#d8576b\"], [0.6666666666666666, \"#ed7953\"], [0.7777777777777778, \"#fb9f3a\"], [0.8888888888888888, \"#fdca26\"], [1.0, \"#f0f921\"]], \"sequentialminus\": [[0.0, \"#0d0887\"], [0.1111111111111111, \"#46039f\"], [0.2222222222222222, \"#7201a8\"], [0.3333333333333333, \"#9c179e\"], [0.4444444444444444, \"#bd3786\"], [0.5555555555555556, \"#d8576b\"], [0.6666666666666666, \"#ed7953\"], [0.7777777777777778, \"#fb9f3a\"], [0.8888888888888888, \"#fdca26\"], [1.0, \"#f0f921\"]]}, \"colorway\": [\"#636efa\", \"#EF553B\", \"#00cc96\", \"#ab63fa\", \"#FFA15A\", \"#19d3f3\", \"#FF6692\", \"#B6E880\", \"#FF97FF\", \"#FECB52\"], \"font\": {\"color\": \"#2a3f5f\"}, \"geo\": {\"bgcolor\": \"white\", \"lakecolor\": \"white\", \"landcolor\": \"#E5ECF6\", \"showlakes\": true, \"showland\": true, \"subunitcolor\": \"white\"}, \"hoverlabel\": {\"align\": \"left\"}, \"hovermode\": \"closest\", \"mapbox\": {\"style\": \"light\"}, \"paper_bgcolor\": \"white\", \"plot_bgcolor\": \"#E5ECF6\", \"polar\": {\"angularaxis\": {\"gridcolor\": \"white\", \"linecolor\": \"white\", \"ticks\": \"\"}, \"bgcolor\": \"#E5ECF6\", \"radialaxis\": {\"gridcolor\": \"white\", \"linecolor\": \"white\", \"ticks\": \"\"}}, \"scene\": {\"xaxis\": {\"backgroundcolor\": \"#E5ECF6\", \"gridcolor\": \"white\", \"gridwidth\": 2, \"linecolor\": \"white\", \"showbackground\": true, \"ticks\": \"\", \"zerolinecolor\": \"white\"}, \"yaxis\": {\"backgroundcolor\": \"#E5ECF6\", \"gridcolor\": \"white\", \"gridwidth\": 2, \"linecolor\": \"white\", \"showbackground\": true, \"ticks\": \"\", \"zerolinecolor\": \"white\"}, \"zaxis\": {\"backgroundcolor\": \"#E5ECF6\", \"gridcolor\": \"white\", \"gridwidth\": 2, \"linecolor\": \"white\", \"showbackground\": true, \"ticks\": \"\", \"zerolinecolor\": \"white\"}}, \"shapedefaults\": {\"line\": {\"color\": \"#2a3f5f\"}}, \"ternary\": {\"aaxis\": {\"gridcolor\": \"white\", \"linecolor\": \"white\", \"ticks\": \"\"}, \"baxis\": {\"gridcolor\": \"white\", \"linecolor\": \"white\", \"ticks\": \"\"}, \"bgcolor\": \"#E5ECF6\", \"caxis\": {\"gridcolor\": \"white\", \"linecolor\": \"white\", \"ticks\": \"\"}}, \"title\": {\"x\": 0.05}, \"xaxis\": {\"automargin\": true, \"gridcolor\": \"white\", \"linecolor\": \"white\", \"ticks\": \"\", \"title\": {\"standoff\": 15}, \"zerolinecolor\": \"white\", \"zerolinewidth\": 2}, \"yaxis\": {\"automargin\": true, \"gridcolor\": \"white\", \"linecolor\": \"white\", \"ticks\": \"\", \"title\": {\"standoff\": 15}, \"zerolinecolor\": \"white\", \"zerolinewidth\": 2}}}, \"width\": 400, \"xaxis\": {\"tickfont\": {\"color\": \"black\", \"size\": 14}, \"title\": {\"text\": \"<span style=\\\"font-size: 16px;\\\">Window width</span>\"}}, \"yaxis\": {\"tickfont\": {\"color\": \"black\", \"size\": 14}}},                        {\"responsive\": true}                    ).then(function(){\n",
              "                            \n",
              "var gd = document.getElementById('416f07f1-3ba9-46db-931e-9ee9444adf5b');\n",
              "var x = new MutationObserver(function (mutations, observer) {{\n",
              "        var display = window.getComputedStyle(gd).display;\n",
              "        if (!display || display === 'none') {{\n",
              "            console.log([gd, 'removed!']);\n",
              "            Plotly.purge(gd);\n",
              "            observer.disconnect();\n",
              "        }}\n",
              "}});\n",
              "\n",
              "// Listen for the removal of the full notebook cells\n",
              "var notebookContainer = gd.closest('#notebook-container');\n",
              "if (notebookContainer) {{\n",
              "    x.observe(notebookContainer, {childList: true});\n",
              "}}\n",
              "\n",
              "// Listen for the clearing of the current output cell\n",
              "var outputEl = gd.closest('.output');\n",
              "if (outputEl) {{\n",
              "    x.observe(outputEl, {childList: true});\n",
              "}}\n",
              "\n",
              "                        })                };                            </script>        </div>\n",
              "</body>\n",
              "</html>"
            ]
          },
          "metadata": {
            "tags": []
          }
        },
        {
          "output_type": "display_data",
          "data": {
            "text/html": [
              "<html>\n",
              "<head><meta charset=\"utf-8\" /></head>\n",
              "<body>\n",
              "    <div>            <script src=\"https://cdnjs.cloudflare.com/ajax/libs/mathjax/2.7.5/MathJax.js?config=TeX-AMS-MML_SVG\"></script><script type=\"text/javascript\">if (window.MathJax) {MathJax.Hub.Config({SVG: {font: \"STIX-Web\"}});}</script>                <script type=\"text/javascript\">window.PlotlyConfig = {MathJaxConfig: 'local'};</script>\n",
              "        <script src=\"https://cdn.plot.ly/plotly-latest.min.js\"></script>                <div id=\"74a159a1-1956-4837-9415-a5eebec7e540\" class=\"plotly-graph-div\" style=\"height:350px; width:600px;\"></div>            <script type=\"text/javascript\">                                    window.PLOTLYENV=window.PLOTLYENV || {};                                    if (document.getElementById(\"74a159a1-1956-4837-9415-a5eebec7e540\")) {                    Plotly.newPlot(                        \"74a159a1-1956-4837-9415-a5eebec7e540\",                        [{\"legendgroup\": \"BayesianRidge\", \"marker\": {\"color\": \"#d54062\"}, \"name\": \"BR\", \"type\": \"scatter\", \"x\": [1, 2, 3, 4, 5, 6, 7, 8, 9, 10, 11, 12], \"y\": [0.1416426064501443, 0.1414771807140416, 0.1421824275645731, 0.1412274368873791, 0.1422774652149585, 0.1425825035317989, 0.1376291435109142, 0.1379125321917849, 0.1379660514979032, 0.1421269565563881, 0.1404990142049201, 0.1386526599313447]}, {\"legendgroup\": \"LinearRegression\", \"marker\": {\"color\": \"#ffa36c\"}, \"name\": \"LR\", \"type\": \"scatter\", \"x\": [1, 2, 3, 4, 5, 6, 7, 8, 9, 10, 11, 12], \"y\": [0.1611058371848185, 0.1557808303984887, 0.1459101412647981, 0.1428314764765722, 0.1494875162342186, 0.1399197661315522, 0.1425653750378432, 0.1443506324945788, 0.1429808580725371, 0.1430858282340195, 0.1421003675009681, 0.142205152803499]}, {\"legendgroup\": \"MLPRegressor\", \"marker\": {\"color\": \"#799351\"}, \"name\": \"MLP\", \"type\": \"scatter\", \"x\": [1, 2, 3, 4, 5, 6, 7, 8, 9, 10, 11, 12], \"y\": [0.161044396859437, 0.1921014009180348, 0.1901149947717733, 0.1598314657228848, 0.1654335858936264, 0.1675294373063244, 0.1572228494764247, 0.1587056558627164, 0.1729059563374559, 0.1587858311360245, 0.1617436384056642, 0.1803583058866978]}, {\"legendgroup\": \"Ridge\", \"marker\": {\"color\": \"#0f4c75\"}, \"name\": \"R\", \"type\": \"scatter\", \"x\": [1, 2, 3, 4, 5, 6, 7, 8, 9, 10, 11, 12], \"y\": [0.1427857720831377, 0.1432277508046613, 0.1427445650933357, 0.1417099376484744, 0.1401391421096709, 0.1390886455915096, 0.1400075579439419, 0.1401554987745062, 0.1397318116305937, 0.1405781790208709, 0.1402278242524627, 0.1393602983088408]}, {\"legendgroup\": \"SGDRegressor\", \"marker\": {\"color\": \"#3c2946\"}, \"name\": \"SGD\", \"type\": \"scatter\", \"x\": [1, 2, 3, 4, 5, 6, 7, 8, 9, 10, 11, 12], \"y\": [0.1875181566103356, 0.1740911938485202, 0.1743696690023586, 0.1770158688677249, 0.1740304702060777, 0.170792445489062, 0.1666460754217017, 0.1638555076626931, 0.1554642004442399, 0.1607240008111329, 0.1537977429530679, 0.1582848320578889]}, {\"legendgroup\": \"SVR\", \"marker\": {\"color\": \"#89c9b8\"}, \"name\": \"SVR\", \"type\": \"scatter\", \"x\": [1, 2, 3, 4, 5, 6, 7, 8, 9, 10, 11, 12], \"y\": [0.138964593549906, 0.138207307752554, 0.139342155987898, 0.139609103378969, 0.140260153274522, 0.1402860320345054, 0.1404093426900653, 0.1408084151694627, 0.1409603818212831, 0.1407815258892739, 0.1404434994332389, 0.1403302741628817]}],                        {\"autosize\": false, \"height\": 350, \"legend\": {\"title\": {\"text\": \"<span style=\\\"font-size: 16px;\\\">Model</span>\"}}, \"margin\": {\"b\": 0, \"l\": 0, \"pad\": 5, \"r\": 0, \"t\": 5}, \"showlegend\": true, \"template\": {\"data\": {\"bar\": [{\"error_x\": {\"color\": \"#2a3f5f\"}, \"error_y\": {\"color\": \"#2a3f5f\"}, \"marker\": {\"line\": {\"color\": \"#E5ECF6\", \"width\": 0.5}}, \"type\": \"bar\"}], \"barpolar\": [{\"marker\": {\"line\": {\"color\": \"#E5ECF6\", \"width\": 0.5}}, \"type\": \"barpolar\"}], \"carpet\": [{\"aaxis\": {\"endlinecolor\": \"#2a3f5f\", \"gridcolor\": \"white\", \"linecolor\": \"white\", \"minorgridcolor\": \"white\", \"startlinecolor\": \"#2a3f5f\"}, \"baxis\": {\"endlinecolor\": \"#2a3f5f\", \"gridcolor\": \"white\", \"linecolor\": \"white\", \"minorgridcolor\": \"white\", \"startlinecolor\": \"#2a3f5f\"}, \"type\": \"carpet\"}], \"choropleth\": [{\"colorbar\": {\"outlinewidth\": 0, \"ticks\": \"\"}, \"type\": \"choropleth\"}], \"contour\": [{\"colorbar\": {\"outlinewidth\": 0, \"ticks\": \"\"}, \"colorscale\": [[0.0, \"#0d0887\"], [0.1111111111111111, \"#46039f\"], [0.2222222222222222, \"#7201a8\"], [0.3333333333333333, \"#9c179e\"], [0.4444444444444444, \"#bd3786\"], [0.5555555555555556, \"#d8576b\"], [0.6666666666666666, \"#ed7953\"], [0.7777777777777778, \"#fb9f3a\"], [0.8888888888888888, \"#fdca26\"], [1.0, \"#f0f921\"]], \"type\": \"contour\"}], \"contourcarpet\": [{\"colorbar\": {\"outlinewidth\": 0, \"ticks\": \"\"}, \"type\": \"contourcarpet\"}], \"heatmap\": [{\"colorbar\": {\"outlinewidth\": 0, \"ticks\": \"\"}, \"colorscale\": [[0.0, \"#0d0887\"], [0.1111111111111111, \"#46039f\"], [0.2222222222222222, \"#7201a8\"], [0.3333333333333333, \"#9c179e\"], [0.4444444444444444, \"#bd3786\"], [0.5555555555555556, \"#d8576b\"], [0.6666666666666666, \"#ed7953\"], [0.7777777777777778, \"#fb9f3a\"], [0.8888888888888888, \"#fdca26\"], [1.0, \"#f0f921\"]], \"type\": \"heatmap\"}], \"heatmapgl\": [{\"colorbar\": {\"outlinewidth\": 0, \"ticks\": \"\"}, \"colorscale\": [[0.0, \"#0d0887\"], [0.1111111111111111, \"#46039f\"], [0.2222222222222222, \"#7201a8\"], [0.3333333333333333, \"#9c179e\"], [0.4444444444444444, \"#bd3786\"], [0.5555555555555556, \"#d8576b\"], [0.6666666666666666, \"#ed7953\"], [0.7777777777777778, \"#fb9f3a\"], [0.8888888888888888, \"#fdca26\"], [1.0, \"#f0f921\"]], \"type\": \"heatmapgl\"}], \"histogram\": [{\"marker\": {\"colorbar\": {\"outlinewidth\": 0, \"ticks\": \"\"}}, \"type\": \"histogram\"}], \"histogram2d\": [{\"colorbar\": {\"outlinewidth\": 0, \"ticks\": \"\"}, \"colorscale\": [[0.0, \"#0d0887\"], [0.1111111111111111, \"#46039f\"], [0.2222222222222222, \"#7201a8\"], [0.3333333333333333, \"#9c179e\"], [0.4444444444444444, \"#bd3786\"], [0.5555555555555556, \"#d8576b\"], [0.6666666666666666, \"#ed7953\"], [0.7777777777777778, \"#fb9f3a\"], [0.8888888888888888, \"#fdca26\"], [1.0, \"#f0f921\"]], \"type\": \"histogram2d\"}], \"histogram2dcontour\": [{\"colorbar\": {\"outlinewidth\": 0, \"ticks\": \"\"}, \"colorscale\": [[0.0, \"#0d0887\"], [0.1111111111111111, \"#46039f\"], [0.2222222222222222, \"#7201a8\"], [0.3333333333333333, \"#9c179e\"], [0.4444444444444444, \"#bd3786\"], [0.5555555555555556, \"#d8576b\"], [0.6666666666666666, \"#ed7953\"], [0.7777777777777778, \"#fb9f3a\"], [0.8888888888888888, \"#fdca26\"], [1.0, \"#f0f921\"]], \"type\": \"histogram2dcontour\"}], \"mesh3d\": [{\"colorbar\": {\"outlinewidth\": 0, \"ticks\": \"\"}, \"type\": \"mesh3d\"}], \"parcoords\": [{\"line\": {\"colorbar\": {\"outlinewidth\": 0, \"ticks\": \"\"}}, \"type\": \"parcoords\"}], \"pie\": [{\"automargin\": true, \"type\": \"pie\"}], \"scatter\": [{\"marker\": {\"colorbar\": {\"outlinewidth\": 0, \"ticks\": \"\"}}, \"type\": \"scatter\"}], \"scatter3d\": [{\"line\": {\"colorbar\": {\"outlinewidth\": 0, \"ticks\": \"\"}}, \"marker\": {\"colorbar\": {\"outlinewidth\": 0, \"ticks\": \"\"}}, \"type\": \"scatter3d\"}], \"scattercarpet\": [{\"marker\": {\"colorbar\": {\"outlinewidth\": 0, \"ticks\": \"\"}}, \"type\": \"scattercarpet\"}], \"scattergeo\": [{\"marker\": {\"colorbar\": {\"outlinewidth\": 0, \"ticks\": \"\"}}, \"type\": \"scattergeo\"}], \"scattergl\": [{\"marker\": {\"colorbar\": {\"outlinewidth\": 0, \"ticks\": \"\"}}, \"type\": \"scattergl\"}], \"scattermapbox\": [{\"marker\": {\"colorbar\": {\"outlinewidth\": 0, \"ticks\": \"\"}}, \"type\": \"scattermapbox\"}], \"scatterpolar\": [{\"marker\": {\"colorbar\": {\"outlinewidth\": 0, \"ticks\": \"\"}}, \"type\": \"scatterpolar\"}], \"scatterpolargl\": [{\"marker\": {\"colorbar\": {\"outlinewidth\": 0, \"ticks\": \"\"}}, \"type\": \"scatterpolargl\"}], \"scatterternary\": [{\"marker\": {\"colorbar\": {\"outlinewidth\": 0, \"ticks\": \"\"}}, \"type\": \"scatterternary\"}], \"surface\": [{\"colorbar\": {\"outlinewidth\": 0, \"ticks\": \"\"}, \"colorscale\": [[0.0, \"#0d0887\"], [0.1111111111111111, \"#46039f\"], [0.2222222222222222, \"#7201a8\"], [0.3333333333333333, \"#9c179e\"], [0.4444444444444444, \"#bd3786\"], [0.5555555555555556, \"#d8576b\"], [0.6666666666666666, \"#ed7953\"], [0.7777777777777778, \"#fb9f3a\"], [0.8888888888888888, \"#fdca26\"], [1.0, \"#f0f921\"]], \"type\": \"surface\"}], \"table\": [{\"cells\": {\"fill\": {\"color\": \"#EBF0F8\"}, \"line\": {\"color\": \"white\"}}, \"header\": {\"fill\": {\"color\": \"#C8D4E3\"}, \"line\": {\"color\": \"white\"}}, \"type\": \"table\"}]}, \"layout\": {\"annotationdefaults\": {\"arrowcolor\": \"#2a3f5f\", \"arrowhead\": 0, \"arrowwidth\": 1}, \"autotypenumbers\": \"strict\", \"coloraxis\": {\"colorbar\": {\"outlinewidth\": 0, \"ticks\": \"\"}}, \"colorscale\": {\"diverging\": [[0, \"#8e0152\"], [0.1, \"#c51b7d\"], [0.2, \"#de77ae\"], [0.3, \"#f1b6da\"], [0.4, \"#fde0ef\"], [0.5, \"#f7f7f7\"], [0.6, \"#e6f5d0\"], [0.7, \"#b8e186\"], [0.8, \"#7fbc41\"], [0.9, \"#4d9221\"], [1, \"#276419\"]], \"sequential\": [[0.0, \"#0d0887\"], [0.1111111111111111, \"#46039f\"], [0.2222222222222222, \"#7201a8\"], [0.3333333333333333, \"#9c179e\"], [0.4444444444444444, \"#bd3786\"], [0.5555555555555556, \"#d8576b\"], [0.6666666666666666, \"#ed7953\"], [0.7777777777777778, \"#fb9f3a\"], [0.8888888888888888, \"#fdca26\"], [1.0, \"#f0f921\"]], \"sequentialminus\": [[0.0, \"#0d0887\"], [0.1111111111111111, \"#46039f\"], [0.2222222222222222, \"#7201a8\"], [0.3333333333333333, \"#9c179e\"], [0.4444444444444444, \"#bd3786\"], [0.5555555555555556, \"#d8576b\"], [0.6666666666666666, \"#ed7953\"], [0.7777777777777778, \"#fb9f3a\"], [0.8888888888888888, \"#fdca26\"], [1.0, \"#f0f921\"]]}, \"colorway\": [\"#636efa\", \"#EF553B\", \"#00cc96\", \"#ab63fa\", \"#FFA15A\", \"#19d3f3\", \"#FF6692\", \"#B6E880\", \"#FF97FF\", \"#FECB52\"], \"font\": {\"color\": \"#2a3f5f\"}, \"geo\": {\"bgcolor\": \"white\", \"lakecolor\": \"white\", \"landcolor\": \"#E5ECF6\", \"showlakes\": true, \"showland\": true, \"subunitcolor\": \"white\"}, \"hoverlabel\": {\"align\": \"left\"}, \"hovermode\": \"closest\", \"mapbox\": {\"style\": \"light\"}, \"paper_bgcolor\": \"white\", \"plot_bgcolor\": \"#E5ECF6\", \"polar\": {\"angularaxis\": {\"gridcolor\": \"white\", \"linecolor\": \"white\", \"ticks\": \"\"}, \"bgcolor\": \"#E5ECF6\", \"radialaxis\": {\"gridcolor\": \"white\", \"linecolor\": \"white\", \"ticks\": \"\"}}, \"scene\": {\"xaxis\": {\"backgroundcolor\": \"#E5ECF6\", \"gridcolor\": \"white\", \"gridwidth\": 2, \"linecolor\": \"white\", \"showbackground\": true, \"ticks\": \"\", \"zerolinecolor\": \"white\"}, \"yaxis\": {\"backgroundcolor\": \"#E5ECF6\", \"gridcolor\": \"white\", \"gridwidth\": 2, \"linecolor\": \"white\", \"showbackground\": true, \"ticks\": \"\", \"zerolinecolor\": \"white\"}, \"zaxis\": {\"backgroundcolor\": \"#E5ECF6\", \"gridcolor\": \"white\", \"gridwidth\": 2, \"linecolor\": \"white\", \"showbackground\": true, \"ticks\": \"\", \"zerolinecolor\": \"white\"}}, \"shapedefaults\": {\"line\": {\"color\": \"#2a3f5f\"}}, \"ternary\": {\"aaxis\": {\"gridcolor\": \"white\", \"linecolor\": \"white\", \"ticks\": \"\"}, \"baxis\": {\"gridcolor\": \"white\", \"linecolor\": \"white\", \"ticks\": \"\"}, \"bgcolor\": \"#E5ECF6\", \"caxis\": {\"gridcolor\": \"white\", \"linecolor\": \"white\", \"ticks\": \"\"}}, \"title\": {\"x\": 0.05}, \"xaxis\": {\"automargin\": true, \"gridcolor\": \"white\", \"linecolor\": \"white\", \"ticks\": \"\", \"title\": {\"standoff\": 15}, \"zerolinecolor\": \"white\", \"zerolinewidth\": 2}, \"yaxis\": {\"automargin\": true, \"gridcolor\": \"white\", \"linecolor\": \"white\", \"ticks\": \"\", \"title\": {\"standoff\": 15}, \"zerolinecolor\": \"white\", \"zerolinewidth\": 2}}}, \"width\": 600, \"xaxis\": {\"nticks\": 12, \"tickfont\": {\"color\": \"black\", \"size\": 14}, \"title\": {\"text\": \"<span style=\\\"font-size: 16px;\\\">Window width</span>\"}}, \"yaxis\": {\"tickfont\": {\"color\": \"black\", \"size\": 14}}},                        {\"responsive\": true}                    ).then(function(){\n",
              "                            \n",
              "var gd = document.getElementById('74a159a1-1956-4837-9415-a5eebec7e540');\n",
              "var x = new MutationObserver(function (mutations, observer) {{\n",
              "        var display = window.getComputedStyle(gd).display;\n",
              "        if (!display || display === 'none') {{\n",
              "            console.log([gd, 'removed!']);\n",
              "            Plotly.purge(gd);\n",
              "            observer.disconnect();\n",
              "        }}\n",
              "}});\n",
              "\n",
              "// Listen for the removal of the full notebook cells\n",
              "var notebookContainer = gd.closest('#notebook-container');\n",
              "if (notebookContainer) {{\n",
              "    x.observe(notebookContainer, {childList: true});\n",
              "}}\n",
              "\n",
              "// Listen for the clearing of the current output cell\n",
              "var outputEl = gd.closest('.output');\n",
              "if (outputEl) {{\n",
              "    x.observe(outputEl, {childList: true});\n",
              "}}\n",
              "\n",
              "                        })                };                            </script>        </div>\n",
              "</body>\n",
              "</html>"
            ]
          },
          "metadata": {
            "tags": []
          }
        },
        {
          "output_type": "display_data",
          "data": {
            "text/html": [
              "<html>\n",
              "<head><meta charset=\"utf-8\" /></head>\n",
              "<body>\n",
              "    <div>            <script src=\"https://cdnjs.cloudflare.com/ajax/libs/mathjax/2.7.5/MathJax.js?config=TeX-AMS-MML_SVG\"></script><script type=\"text/javascript\">if (window.MathJax) {MathJax.Hub.Config({SVG: {font: \"STIX-Web\"}});}</script>                <script type=\"text/javascript\">window.PlotlyConfig = {MathJaxConfig: 'local'};</script>\n",
              "        <script src=\"https://cdn.plot.ly/plotly-latest.min.js\"></script>                <div id=\"dba23567-1318-412c-845b-c41ddbc58304\" class=\"plotly-graph-div\" style=\"height:350px; width:400px;\"></div>            <script type=\"text/javascript\">                                    window.PLOTLYENV=window.PLOTLYENV || {};                                    if (document.getElementById(\"dba23567-1318-412c-845b-c41ddbc58304\")) {                    Plotly.newPlot(                        \"dba23567-1318-412c-845b-c41ddbc58304\",                        [{\"marker\": {\"color\": \"#d54062\"}, \"name\": \"Max\", \"type\": \"box\", \"y\": [0.14576454995322313, 0.1511490122561524, 0.14917314998003567, 0.14495430750576835, 0.14385304941486884, 0.14167892095448925, 0.1420188782918968, 0.14560194161219214, 0.14523743493064115, 0.1502514673579613, 0.1493530820102719, 0.15817657566742024]}, {\"marker\": {\"color\": \"#ffa36c\"}, \"name\": \"Mean\", \"type\": \"box\", \"y\": [0.1547824841870291, 0.1518185138056805, 0.146095101586522, 0.14078583088155655, 0.14389381895387277, 0.1440747565683307, 0.14256500657359578, 0.1433559548467096, 0.14407025821096792, 0.14291822596012915, 0.14548096631254664, 0.14452945182425758]}, {\"marker\": {\"color\": \"#799351\"}, \"name\": \"Median\", \"type\": \"box\", \"y\": [0.1547824841870294, 0.1514604438940536, 0.14518502168937997, 0.14368123632717117, 0.14580105127533624, 0.1472188059155144, 0.14567671835719975, 0.1468592748919156, 0.14725631651041393, 0.14673083808782883, 0.1459647747218174, 0.1456353400963175]}, {\"marker\": {\"color\": \"#0f4c75\"}, \"name\": \"Min\", \"type\": \"box\", \"y\": [0.16019613668362254, 0.15807357325098148, 0.14830312364966544, 0.14423126528964392, 0.14488029137206695, 0.14553922012038106, 0.14377076678824496, 0.1418331815609132, 0.14533775715612113, 0.1432636960177806, 0.14209843822014828, 0.1442343232214581]}, {\"marker\": {\"color\": \"#3c2946\"}, \"name\": \"Std\", \"type\": \"box\", \"y\": [0.17869619339527146, 0.17889587941920776, 0.178118577051733, 0.1774638098366092, 0.1772102337748123, 0.16960331861300726, 0.15463114735097955, 0.16759747780507075, 0.16589638065480355, 0.14849973225782365, 0.14416995680542635, 0.14597535943326015]}],                        {\"autosize\": false, \"height\": 350, \"legend\": {\"title\": {\"text\": \"<span style=\\\"font-size: 16px;\\\">Function</span>\"}}, \"margin\": {\"b\": 0, \"l\": 0, \"pad\": 5, \"r\": 0, \"t\": 5}, \"showlegend\": false, \"template\": {\"data\": {\"bar\": [{\"error_x\": {\"color\": \"#2a3f5f\"}, \"error_y\": {\"color\": \"#2a3f5f\"}, \"marker\": {\"line\": {\"color\": \"#E5ECF6\", \"width\": 0.5}}, \"type\": \"bar\"}], \"barpolar\": [{\"marker\": {\"line\": {\"color\": \"#E5ECF6\", \"width\": 0.5}}, \"type\": \"barpolar\"}], \"carpet\": [{\"aaxis\": {\"endlinecolor\": \"#2a3f5f\", \"gridcolor\": \"white\", \"linecolor\": \"white\", \"minorgridcolor\": \"white\", \"startlinecolor\": \"#2a3f5f\"}, \"baxis\": {\"endlinecolor\": \"#2a3f5f\", \"gridcolor\": \"white\", \"linecolor\": \"white\", \"minorgridcolor\": \"white\", \"startlinecolor\": \"#2a3f5f\"}, \"type\": \"carpet\"}], \"choropleth\": [{\"colorbar\": {\"outlinewidth\": 0, \"ticks\": \"\"}, \"type\": \"choropleth\"}], \"contour\": [{\"colorbar\": {\"outlinewidth\": 0, \"ticks\": \"\"}, \"colorscale\": [[0.0, \"#0d0887\"], [0.1111111111111111, \"#46039f\"], [0.2222222222222222, \"#7201a8\"], [0.3333333333333333, \"#9c179e\"], [0.4444444444444444, \"#bd3786\"], [0.5555555555555556, \"#d8576b\"], [0.6666666666666666, \"#ed7953\"], [0.7777777777777778, \"#fb9f3a\"], [0.8888888888888888, \"#fdca26\"], [1.0, \"#f0f921\"]], \"type\": \"contour\"}], \"contourcarpet\": [{\"colorbar\": {\"outlinewidth\": 0, \"ticks\": \"\"}, \"type\": \"contourcarpet\"}], \"heatmap\": [{\"colorbar\": {\"outlinewidth\": 0, \"ticks\": \"\"}, \"colorscale\": [[0.0, \"#0d0887\"], [0.1111111111111111, \"#46039f\"], [0.2222222222222222, \"#7201a8\"], [0.3333333333333333, \"#9c179e\"], [0.4444444444444444, \"#bd3786\"], [0.5555555555555556, \"#d8576b\"], [0.6666666666666666, \"#ed7953\"], [0.7777777777777778, \"#fb9f3a\"], [0.8888888888888888, \"#fdca26\"], [1.0, \"#f0f921\"]], \"type\": \"heatmap\"}], \"heatmapgl\": [{\"colorbar\": {\"outlinewidth\": 0, \"ticks\": \"\"}, \"colorscale\": [[0.0, \"#0d0887\"], [0.1111111111111111, \"#46039f\"], [0.2222222222222222, \"#7201a8\"], [0.3333333333333333, \"#9c179e\"], [0.4444444444444444, \"#bd3786\"], [0.5555555555555556, \"#d8576b\"], [0.6666666666666666, \"#ed7953\"], [0.7777777777777778, \"#fb9f3a\"], [0.8888888888888888, \"#fdca26\"], [1.0, \"#f0f921\"]], \"type\": \"heatmapgl\"}], \"histogram\": [{\"marker\": {\"colorbar\": {\"outlinewidth\": 0, \"ticks\": \"\"}}, \"type\": \"histogram\"}], \"histogram2d\": [{\"colorbar\": {\"outlinewidth\": 0, \"ticks\": \"\"}, \"colorscale\": [[0.0, \"#0d0887\"], [0.1111111111111111, \"#46039f\"], [0.2222222222222222, \"#7201a8\"], [0.3333333333333333, \"#9c179e\"], [0.4444444444444444, \"#bd3786\"], [0.5555555555555556, \"#d8576b\"], [0.6666666666666666, \"#ed7953\"], [0.7777777777777778, \"#fb9f3a\"], [0.8888888888888888, \"#fdca26\"], [1.0, \"#f0f921\"]], \"type\": \"histogram2d\"}], \"histogram2dcontour\": [{\"colorbar\": {\"outlinewidth\": 0, \"ticks\": \"\"}, \"colorscale\": [[0.0, \"#0d0887\"], [0.1111111111111111, \"#46039f\"], [0.2222222222222222, \"#7201a8\"], [0.3333333333333333, \"#9c179e\"], [0.4444444444444444, \"#bd3786\"], [0.5555555555555556, \"#d8576b\"], [0.6666666666666666, \"#ed7953\"], [0.7777777777777778, \"#fb9f3a\"], [0.8888888888888888, \"#fdca26\"], [1.0, \"#f0f921\"]], \"type\": \"histogram2dcontour\"}], \"mesh3d\": [{\"colorbar\": {\"outlinewidth\": 0, \"ticks\": \"\"}, \"type\": \"mesh3d\"}], \"parcoords\": [{\"line\": {\"colorbar\": {\"outlinewidth\": 0, \"ticks\": \"\"}}, \"type\": \"parcoords\"}], \"pie\": [{\"automargin\": true, \"type\": \"pie\"}], \"scatter\": [{\"marker\": {\"colorbar\": {\"outlinewidth\": 0, \"ticks\": \"\"}}, \"type\": \"scatter\"}], \"scatter3d\": [{\"line\": {\"colorbar\": {\"outlinewidth\": 0, \"ticks\": \"\"}}, \"marker\": {\"colorbar\": {\"outlinewidth\": 0, \"ticks\": \"\"}}, \"type\": \"scatter3d\"}], \"scattercarpet\": [{\"marker\": {\"colorbar\": {\"outlinewidth\": 0, \"ticks\": \"\"}}, \"type\": \"scattercarpet\"}], \"scattergeo\": [{\"marker\": {\"colorbar\": {\"outlinewidth\": 0, \"ticks\": \"\"}}, \"type\": \"scattergeo\"}], \"scattergl\": [{\"marker\": {\"colorbar\": {\"outlinewidth\": 0, \"ticks\": \"\"}}, \"type\": \"scattergl\"}], \"scattermapbox\": [{\"marker\": {\"colorbar\": {\"outlinewidth\": 0, \"ticks\": \"\"}}, \"type\": \"scattermapbox\"}], \"scatterpolar\": [{\"marker\": {\"colorbar\": {\"outlinewidth\": 0, \"ticks\": \"\"}}, \"type\": \"scatterpolar\"}], \"scatterpolargl\": [{\"marker\": {\"colorbar\": {\"outlinewidth\": 0, \"ticks\": \"\"}}, \"type\": \"scatterpolargl\"}], \"scatterternary\": [{\"marker\": {\"colorbar\": {\"outlinewidth\": 0, \"ticks\": \"\"}}, \"type\": \"scatterternary\"}], \"surface\": [{\"colorbar\": {\"outlinewidth\": 0, \"ticks\": \"\"}, \"colorscale\": [[0.0, \"#0d0887\"], [0.1111111111111111, \"#46039f\"], [0.2222222222222222, \"#7201a8\"], [0.3333333333333333, \"#9c179e\"], [0.4444444444444444, \"#bd3786\"], [0.5555555555555556, \"#d8576b\"], [0.6666666666666666, \"#ed7953\"], [0.7777777777777778, \"#fb9f3a\"], [0.8888888888888888, \"#fdca26\"], [1.0, \"#f0f921\"]], \"type\": \"surface\"}], \"table\": [{\"cells\": {\"fill\": {\"color\": \"#EBF0F8\"}, \"line\": {\"color\": \"white\"}}, \"header\": {\"fill\": {\"color\": \"#C8D4E3\"}, \"line\": {\"color\": \"white\"}}, \"type\": \"table\"}]}, \"layout\": {\"annotationdefaults\": {\"arrowcolor\": \"#2a3f5f\", \"arrowhead\": 0, \"arrowwidth\": 1}, \"autotypenumbers\": \"strict\", \"coloraxis\": {\"colorbar\": {\"outlinewidth\": 0, \"ticks\": \"\"}}, \"colorscale\": {\"diverging\": [[0, \"#8e0152\"], [0.1, \"#c51b7d\"], [0.2, \"#de77ae\"], [0.3, \"#f1b6da\"], [0.4, \"#fde0ef\"], [0.5, \"#f7f7f7\"], [0.6, \"#e6f5d0\"], [0.7, \"#b8e186\"], [0.8, \"#7fbc41\"], [0.9, \"#4d9221\"], [1, \"#276419\"]], \"sequential\": [[0.0, \"#0d0887\"], [0.1111111111111111, \"#46039f\"], [0.2222222222222222, \"#7201a8\"], [0.3333333333333333, \"#9c179e\"], [0.4444444444444444, \"#bd3786\"], [0.5555555555555556, \"#d8576b\"], [0.6666666666666666, \"#ed7953\"], [0.7777777777777778, \"#fb9f3a\"], [0.8888888888888888, \"#fdca26\"], [1.0, \"#f0f921\"]], \"sequentialminus\": [[0.0, \"#0d0887\"], [0.1111111111111111, \"#46039f\"], [0.2222222222222222, \"#7201a8\"], [0.3333333333333333, \"#9c179e\"], [0.4444444444444444, \"#bd3786\"], [0.5555555555555556, \"#d8576b\"], [0.6666666666666666, \"#ed7953\"], [0.7777777777777778, \"#fb9f3a\"], [0.8888888888888888, \"#fdca26\"], [1.0, \"#f0f921\"]]}, \"colorway\": [\"#636efa\", \"#EF553B\", \"#00cc96\", \"#ab63fa\", \"#FFA15A\", \"#19d3f3\", \"#FF6692\", \"#B6E880\", \"#FF97FF\", \"#FECB52\"], \"font\": {\"color\": \"#2a3f5f\"}, \"geo\": {\"bgcolor\": \"white\", \"lakecolor\": \"white\", \"landcolor\": \"#E5ECF6\", \"showlakes\": true, \"showland\": true, \"subunitcolor\": \"white\"}, \"hoverlabel\": {\"align\": \"left\"}, \"hovermode\": \"closest\", \"mapbox\": {\"style\": \"light\"}, \"paper_bgcolor\": \"white\", \"plot_bgcolor\": \"#E5ECF6\", \"polar\": {\"angularaxis\": {\"gridcolor\": \"white\", \"linecolor\": \"white\", \"ticks\": \"\"}, \"bgcolor\": \"#E5ECF6\", \"radialaxis\": {\"gridcolor\": \"white\", \"linecolor\": \"white\", \"ticks\": \"\"}}, \"scene\": {\"xaxis\": {\"backgroundcolor\": \"#E5ECF6\", \"gridcolor\": \"white\", \"gridwidth\": 2, \"linecolor\": \"white\", \"showbackground\": true, \"ticks\": \"\", \"zerolinecolor\": \"white\"}, \"yaxis\": {\"backgroundcolor\": \"#E5ECF6\", \"gridcolor\": \"white\", \"gridwidth\": 2, \"linecolor\": \"white\", \"showbackground\": true, \"ticks\": \"\", \"zerolinecolor\": \"white\"}, \"zaxis\": {\"backgroundcolor\": \"#E5ECF6\", \"gridcolor\": \"white\", \"gridwidth\": 2, \"linecolor\": \"white\", \"showbackground\": true, \"ticks\": \"\", \"zerolinecolor\": \"white\"}}, \"shapedefaults\": {\"line\": {\"color\": \"#2a3f5f\"}}, \"ternary\": {\"aaxis\": {\"gridcolor\": \"white\", \"linecolor\": \"white\", \"ticks\": \"\"}, \"baxis\": {\"gridcolor\": \"white\", \"linecolor\": \"white\", \"ticks\": \"\"}, \"bgcolor\": \"#E5ECF6\", \"caxis\": {\"gridcolor\": \"white\", \"linecolor\": \"white\", \"ticks\": \"\"}}, \"title\": {\"x\": 0.05}, \"xaxis\": {\"automargin\": true, \"gridcolor\": \"white\", \"linecolor\": \"white\", \"ticks\": \"\", \"title\": {\"standoff\": 15}, \"zerolinecolor\": \"white\", \"zerolinewidth\": 2}, \"yaxis\": {\"automargin\": true, \"gridcolor\": \"white\", \"linecolor\": \"white\", \"ticks\": \"\", \"title\": {\"standoff\": 15}, \"zerolinecolor\": \"white\", \"zerolinewidth\": 2}}}, \"width\": 400, \"xaxis\": {\"tickfont\": {\"color\": \"black\", \"size\": 14}, \"title\": {\"text\": \"<span style=\\\"font-size: 16px;\\\">Window width</span>\"}}, \"yaxis\": {\"tickfont\": {\"color\": \"black\", \"size\": 14}}},                        {\"responsive\": true}                    ).then(function(){\n",
              "                            \n",
              "var gd = document.getElementById('dba23567-1318-412c-845b-c41ddbc58304');\n",
              "var x = new MutationObserver(function (mutations, observer) {{\n",
              "        var display = window.getComputedStyle(gd).display;\n",
              "        if (!display || display === 'none') {{\n",
              "            console.log([gd, 'removed!']);\n",
              "            Plotly.purge(gd);\n",
              "            observer.disconnect();\n",
              "        }}\n",
              "}});\n",
              "\n",
              "// Listen for the removal of the full notebook cells\n",
              "var notebookContainer = gd.closest('#notebook-container');\n",
              "if (notebookContainer) {{\n",
              "    x.observe(notebookContainer, {childList: true});\n",
              "}}\n",
              "\n",
              "// Listen for the clearing of the current output cell\n",
              "var outputEl = gd.closest('.output');\n",
              "if (outputEl) {{\n",
              "    x.observe(outputEl, {childList: true});\n",
              "}}\n",
              "\n",
              "                        })                };                            </script>        </div>\n",
              "</body>\n",
              "</html>"
            ]
          },
          "metadata": {
            "tags": []
          }
        },
        {
          "output_type": "display_data",
          "data": {
            "text/html": [
              "<html>\n",
              "<head><meta charset=\"utf-8\" /></head>\n",
              "<body>\n",
              "    <div>            <script src=\"https://cdnjs.cloudflare.com/ajax/libs/mathjax/2.7.5/MathJax.js?config=TeX-AMS-MML_SVG\"></script><script type=\"text/javascript\">if (window.MathJax) {MathJax.Hub.Config({SVG: {font: \"STIX-Web\"}});}</script>                <script type=\"text/javascript\">window.PlotlyConfig = {MathJaxConfig: 'local'};</script>\n",
              "        <script src=\"https://cdn.plot.ly/plotly-latest.min.js\"></script>                <div id=\"68c80a7d-3a76-4c17-8e98-c48f4b06481d\" class=\"plotly-graph-div\" style=\"height:350px; width:600px;\"></div>            <script type=\"text/javascript\">                                    window.PLOTLYENV=window.PLOTLYENV || {};                                    if (document.getElementById(\"68c80a7d-3a76-4c17-8e98-c48f4b06481d\")) {                    Plotly.newPlot(                        \"68c80a7d-3a76-4c17-8e98-c48f4b06481d\",                        [{\"legendgroup\": \"max\", \"marker\": {\"color\": \"#d54062\"}, \"name\": \"Max\", \"type\": \"scatter\", \"x\": [1, 2, 3, 4, 5, 6, 7, 8, 9, 10, 11, 12], \"y\": [0.14576454995322313, 0.1511490122561524, 0.14917314998003567, 0.14495430750576835, 0.14385304941486884, 0.14167892095448925, 0.1420188782918968, 0.14560194161219214, 0.14523743493064115, 0.1502514673579613, 0.1493530820102719, 0.15817657566742024]}, {\"legendgroup\": \"mean\", \"marker\": {\"color\": \"#ffa36c\"}, \"name\": \"Mean\", \"type\": \"scatter\", \"x\": [1, 2, 3, 4, 5, 6, 7, 8, 9, 10, 11, 12], \"y\": [0.1547824841870291, 0.1518185138056805, 0.146095101586522, 0.14078583088155655, 0.14389381895387277, 0.1440747565683307, 0.14256500657359578, 0.1433559548467096, 0.14407025821096792, 0.14291822596012915, 0.14548096631254664, 0.14452945182425758]}, {\"legendgroup\": \"median\", \"marker\": {\"color\": \"#799351\"}, \"name\": \"Median\", \"type\": \"scatter\", \"x\": [1, 2, 3, 4, 5, 6, 7, 8, 9, 10, 11, 12], \"y\": [0.1547824841870294, 0.1514604438940536, 0.14518502168937997, 0.14368123632717117, 0.14580105127533624, 0.1472188059155144, 0.14567671835719975, 0.1468592748919156, 0.14725631651041393, 0.14673083808782883, 0.1459647747218174, 0.1456353400963175]}, {\"legendgroup\": \"min\", \"marker\": {\"color\": \"#0f4c75\"}, \"name\": \"Min\", \"type\": \"scatter\", \"x\": [1, 2, 3, 4, 5, 6, 7, 8, 9, 10, 11, 12], \"y\": [0.16019613668362254, 0.15807357325098148, 0.14830312364966544, 0.14423126528964392, 0.14488029137206695, 0.14553922012038106, 0.14377076678824496, 0.1418331815609132, 0.14533775715612113, 0.1432636960177806, 0.14209843822014828, 0.1442343232214581]}, {\"legendgroup\": \"std\", \"marker\": {\"color\": \"#3c2946\"}, \"name\": \"Std\", \"type\": \"scatter\", \"x\": [1, 2, 3, 4, 5, 6, 7, 8, 9, 10, 11, 12], \"y\": [0.17869619339527146, 0.17889587941920776, 0.178118577051733, 0.1774638098366092, 0.1772102337748123, 0.16960331861300726, 0.15463114735097955, 0.16759747780507075, 0.16589638065480355, 0.14849973225782365, 0.14416995680542635, 0.14597535943326015]}],                        {\"autosize\": false, \"height\": 350, \"legend\": {\"title\": {\"text\": \"<span style=\\\"font-size: 16px;\\\">Function</span>\"}}, \"margin\": {\"b\": 0, \"l\": 0, \"pad\": 5, \"r\": 0, \"t\": 5}, \"showlegend\": true, \"template\": {\"data\": {\"bar\": [{\"error_x\": {\"color\": \"#2a3f5f\"}, \"error_y\": {\"color\": \"#2a3f5f\"}, \"marker\": {\"line\": {\"color\": \"#E5ECF6\", \"width\": 0.5}}, \"type\": \"bar\"}], \"barpolar\": [{\"marker\": {\"line\": {\"color\": \"#E5ECF6\", \"width\": 0.5}}, \"type\": \"barpolar\"}], \"carpet\": [{\"aaxis\": {\"endlinecolor\": \"#2a3f5f\", \"gridcolor\": \"white\", \"linecolor\": \"white\", \"minorgridcolor\": \"white\", \"startlinecolor\": \"#2a3f5f\"}, \"baxis\": {\"endlinecolor\": \"#2a3f5f\", \"gridcolor\": \"white\", \"linecolor\": \"white\", \"minorgridcolor\": \"white\", \"startlinecolor\": \"#2a3f5f\"}, \"type\": \"carpet\"}], \"choropleth\": [{\"colorbar\": {\"outlinewidth\": 0, \"ticks\": \"\"}, \"type\": \"choropleth\"}], \"contour\": [{\"colorbar\": {\"outlinewidth\": 0, \"ticks\": \"\"}, \"colorscale\": [[0.0, \"#0d0887\"], [0.1111111111111111, \"#46039f\"], [0.2222222222222222, \"#7201a8\"], [0.3333333333333333, \"#9c179e\"], [0.4444444444444444, \"#bd3786\"], [0.5555555555555556, \"#d8576b\"], [0.6666666666666666, \"#ed7953\"], [0.7777777777777778, \"#fb9f3a\"], [0.8888888888888888, \"#fdca26\"], [1.0, \"#f0f921\"]], \"type\": \"contour\"}], \"contourcarpet\": [{\"colorbar\": {\"outlinewidth\": 0, \"ticks\": \"\"}, \"type\": \"contourcarpet\"}], \"heatmap\": [{\"colorbar\": {\"outlinewidth\": 0, \"ticks\": \"\"}, \"colorscale\": [[0.0, \"#0d0887\"], [0.1111111111111111, \"#46039f\"], [0.2222222222222222, \"#7201a8\"], [0.3333333333333333, \"#9c179e\"], [0.4444444444444444, \"#bd3786\"], [0.5555555555555556, \"#d8576b\"], [0.6666666666666666, \"#ed7953\"], [0.7777777777777778, \"#fb9f3a\"], [0.8888888888888888, \"#fdca26\"], [1.0, \"#f0f921\"]], \"type\": \"heatmap\"}], \"heatmapgl\": [{\"colorbar\": {\"outlinewidth\": 0, \"ticks\": \"\"}, \"colorscale\": [[0.0, \"#0d0887\"], [0.1111111111111111, \"#46039f\"], [0.2222222222222222, \"#7201a8\"], [0.3333333333333333, \"#9c179e\"], [0.4444444444444444, \"#bd3786\"], [0.5555555555555556, \"#d8576b\"], [0.6666666666666666, \"#ed7953\"], [0.7777777777777778, \"#fb9f3a\"], [0.8888888888888888, \"#fdca26\"], [1.0, \"#f0f921\"]], \"type\": \"heatmapgl\"}], \"histogram\": [{\"marker\": {\"colorbar\": {\"outlinewidth\": 0, \"ticks\": \"\"}}, \"type\": \"histogram\"}], \"histogram2d\": [{\"colorbar\": {\"outlinewidth\": 0, \"ticks\": \"\"}, \"colorscale\": [[0.0, \"#0d0887\"], [0.1111111111111111, \"#46039f\"], [0.2222222222222222, \"#7201a8\"], [0.3333333333333333, \"#9c179e\"], [0.4444444444444444, \"#bd3786\"], [0.5555555555555556, \"#d8576b\"], [0.6666666666666666, \"#ed7953\"], [0.7777777777777778, \"#fb9f3a\"], [0.8888888888888888, \"#fdca26\"], [1.0, \"#f0f921\"]], \"type\": \"histogram2d\"}], \"histogram2dcontour\": [{\"colorbar\": {\"outlinewidth\": 0, \"ticks\": \"\"}, \"colorscale\": [[0.0, \"#0d0887\"], [0.1111111111111111, \"#46039f\"], [0.2222222222222222, \"#7201a8\"], [0.3333333333333333, \"#9c179e\"], [0.4444444444444444, \"#bd3786\"], [0.5555555555555556, \"#d8576b\"], [0.6666666666666666, \"#ed7953\"], [0.7777777777777778, \"#fb9f3a\"], [0.8888888888888888, \"#fdca26\"], [1.0, \"#f0f921\"]], \"type\": \"histogram2dcontour\"}], \"mesh3d\": [{\"colorbar\": {\"outlinewidth\": 0, \"ticks\": \"\"}, \"type\": \"mesh3d\"}], \"parcoords\": [{\"line\": {\"colorbar\": {\"outlinewidth\": 0, \"ticks\": \"\"}}, \"type\": \"parcoords\"}], \"pie\": [{\"automargin\": true, \"type\": \"pie\"}], \"scatter\": [{\"marker\": {\"colorbar\": {\"outlinewidth\": 0, \"ticks\": \"\"}}, \"type\": \"scatter\"}], \"scatter3d\": [{\"line\": {\"colorbar\": {\"outlinewidth\": 0, \"ticks\": \"\"}}, \"marker\": {\"colorbar\": {\"outlinewidth\": 0, \"ticks\": \"\"}}, \"type\": \"scatter3d\"}], \"scattercarpet\": [{\"marker\": {\"colorbar\": {\"outlinewidth\": 0, \"ticks\": \"\"}}, \"type\": \"scattercarpet\"}], \"scattergeo\": [{\"marker\": {\"colorbar\": {\"outlinewidth\": 0, \"ticks\": \"\"}}, \"type\": \"scattergeo\"}], \"scattergl\": [{\"marker\": {\"colorbar\": {\"outlinewidth\": 0, \"ticks\": \"\"}}, \"type\": \"scattergl\"}], \"scattermapbox\": [{\"marker\": {\"colorbar\": {\"outlinewidth\": 0, \"ticks\": \"\"}}, \"type\": \"scattermapbox\"}], \"scatterpolar\": [{\"marker\": {\"colorbar\": {\"outlinewidth\": 0, \"ticks\": \"\"}}, \"type\": \"scatterpolar\"}], \"scatterpolargl\": [{\"marker\": {\"colorbar\": {\"outlinewidth\": 0, \"ticks\": \"\"}}, \"type\": \"scatterpolargl\"}], \"scatterternary\": [{\"marker\": {\"colorbar\": {\"outlinewidth\": 0, \"ticks\": \"\"}}, \"type\": \"scatterternary\"}], \"surface\": [{\"colorbar\": {\"outlinewidth\": 0, \"ticks\": \"\"}, \"colorscale\": [[0.0, \"#0d0887\"], [0.1111111111111111, \"#46039f\"], [0.2222222222222222, \"#7201a8\"], [0.3333333333333333, \"#9c179e\"], [0.4444444444444444, \"#bd3786\"], [0.5555555555555556, \"#d8576b\"], [0.6666666666666666, \"#ed7953\"], [0.7777777777777778, \"#fb9f3a\"], [0.8888888888888888, \"#fdca26\"], [1.0, \"#f0f921\"]], \"type\": \"surface\"}], \"table\": [{\"cells\": {\"fill\": {\"color\": \"#EBF0F8\"}, \"line\": {\"color\": \"white\"}}, \"header\": {\"fill\": {\"color\": \"#C8D4E3\"}, \"line\": {\"color\": \"white\"}}, \"type\": \"table\"}]}, \"layout\": {\"annotationdefaults\": {\"arrowcolor\": \"#2a3f5f\", \"arrowhead\": 0, \"arrowwidth\": 1}, \"autotypenumbers\": \"strict\", \"coloraxis\": {\"colorbar\": {\"outlinewidth\": 0, \"ticks\": \"\"}}, \"colorscale\": {\"diverging\": [[0, \"#8e0152\"], [0.1, \"#c51b7d\"], [0.2, \"#de77ae\"], [0.3, \"#f1b6da\"], [0.4, \"#fde0ef\"], [0.5, \"#f7f7f7\"], [0.6, \"#e6f5d0\"], [0.7, \"#b8e186\"], [0.8, \"#7fbc41\"], [0.9, \"#4d9221\"], [1, \"#276419\"]], \"sequential\": [[0.0, \"#0d0887\"], [0.1111111111111111, \"#46039f\"], [0.2222222222222222, \"#7201a8\"], [0.3333333333333333, \"#9c179e\"], [0.4444444444444444, \"#bd3786\"], [0.5555555555555556, \"#d8576b\"], [0.6666666666666666, \"#ed7953\"], [0.7777777777777778, \"#fb9f3a\"], [0.8888888888888888, \"#fdca26\"], [1.0, \"#f0f921\"]], \"sequentialminus\": [[0.0, \"#0d0887\"], [0.1111111111111111, \"#46039f\"], [0.2222222222222222, \"#7201a8\"], [0.3333333333333333, \"#9c179e\"], [0.4444444444444444, \"#bd3786\"], [0.5555555555555556, \"#d8576b\"], [0.6666666666666666, \"#ed7953\"], [0.7777777777777778, \"#fb9f3a\"], [0.8888888888888888, \"#fdca26\"], [1.0, \"#f0f921\"]]}, \"colorway\": [\"#636efa\", \"#EF553B\", \"#00cc96\", \"#ab63fa\", \"#FFA15A\", \"#19d3f3\", \"#FF6692\", \"#B6E880\", \"#FF97FF\", \"#FECB52\"], \"font\": {\"color\": \"#2a3f5f\"}, \"geo\": {\"bgcolor\": \"white\", \"lakecolor\": \"white\", \"landcolor\": \"#E5ECF6\", \"showlakes\": true, \"showland\": true, \"subunitcolor\": \"white\"}, \"hoverlabel\": {\"align\": \"left\"}, \"hovermode\": \"closest\", \"mapbox\": {\"style\": \"light\"}, \"paper_bgcolor\": \"white\", \"plot_bgcolor\": \"#E5ECF6\", \"polar\": {\"angularaxis\": {\"gridcolor\": \"white\", \"linecolor\": \"white\", \"ticks\": \"\"}, \"bgcolor\": \"#E5ECF6\", \"radialaxis\": {\"gridcolor\": \"white\", \"linecolor\": \"white\", \"ticks\": \"\"}}, \"scene\": {\"xaxis\": {\"backgroundcolor\": \"#E5ECF6\", \"gridcolor\": \"white\", \"gridwidth\": 2, \"linecolor\": \"white\", \"showbackground\": true, \"ticks\": \"\", \"zerolinecolor\": \"white\"}, \"yaxis\": {\"backgroundcolor\": \"#E5ECF6\", \"gridcolor\": \"white\", \"gridwidth\": 2, \"linecolor\": \"white\", \"showbackground\": true, \"ticks\": \"\", \"zerolinecolor\": \"white\"}, \"zaxis\": {\"backgroundcolor\": \"#E5ECF6\", \"gridcolor\": \"white\", \"gridwidth\": 2, \"linecolor\": \"white\", \"showbackground\": true, \"ticks\": \"\", \"zerolinecolor\": \"white\"}}, \"shapedefaults\": {\"line\": {\"color\": \"#2a3f5f\"}}, \"ternary\": {\"aaxis\": {\"gridcolor\": \"white\", \"linecolor\": \"white\", \"ticks\": \"\"}, \"baxis\": {\"gridcolor\": \"white\", \"linecolor\": \"white\", \"ticks\": \"\"}, \"bgcolor\": \"#E5ECF6\", \"caxis\": {\"gridcolor\": \"white\", \"linecolor\": \"white\", \"ticks\": \"\"}}, \"title\": {\"x\": 0.05}, \"xaxis\": {\"automargin\": true, \"gridcolor\": \"white\", \"linecolor\": \"white\", \"ticks\": \"\", \"title\": {\"standoff\": 15}, \"zerolinecolor\": \"white\", \"zerolinewidth\": 2}, \"yaxis\": {\"automargin\": true, \"gridcolor\": \"white\", \"linecolor\": \"white\", \"ticks\": \"\", \"title\": {\"standoff\": 15}, \"zerolinecolor\": \"white\", \"zerolinewidth\": 2}}}, \"width\": 600, \"xaxis\": {\"nticks\": 12, \"tickfont\": {\"color\": \"black\", \"size\": 14}, \"title\": {\"text\": \"<span style=\\\"font-size: 16px;\\\">Window width</span>\"}}, \"yaxis\": {\"tickfont\": {\"color\": \"black\", \"size\": 14}}},                        {\"responsive\": true}                    ).then(function(){\n",
              "                            \n",
              "var gd = document.getElementById('68c80a7d-3a76-4c17-8e98-c48f4b06481d');\n",
              "var x = new MutationObserver(function (mutations, observer) {{\n",
              "        var display = window.getComputedStyle(gd).display;\n",
              "        if (!display || display === 'none') {{\n",
              "            console.log([gd, 'removed!']);\n",
              "            Plotly.purge(gd);\n",
              "            observer.disconnect();\n",
              "        }}\n",
              "}});\n",
              "\n",
              "// Listen for the removal of the full notebook cells\n",
              "var notebookContainer = gd.closest('#notebook-container');\n",
              "if (notebookContainer) {{\n",
              "    x.observe(notebookContainer, {childList: true});\n",
              "}}\n",
              "\n",
              "// Listen for the clearing of the current output cell\n",
              "var outputEl = gd.closest('.output');\n",
              "if (outputEl) {{\n",
              "    x.observe(outputEl, {childList: true});\n",
              "}}\n",
              "\n",
              "                        })                };                            </script>        </div>\n",
              "</body>\n",
              "</html>"
            ]
          },
          "metadata": {
            "tags": []
          }
        },
        {
          "output_type": "display_data",
          "data": {
            "text/html": [
              "<html>\n",
              "<head><meta charset=\"utf-8\" /></head>\n",
              "<body>\n",
              "    <div>            <script src=\"https://cdnjs.cloudflare.com/ajax/libs/mathjax/2.7.5/MathJax.js?config=TeX-AMS-MML_SVG\"></script><script type=\"text/javascript\">if (window.MathJax) {MathJax.Hub.Config({SVG: {font: \"STIX-Web\"}});}</script>                <script type=\"text/javascript\">window.PlotlyConfig = {MathJaxConfig: 'local'};</script>\n",
              "        <script src=\"https://cdn.plot.ly/plotly-latest.min.js\"></script>                <div id=\"5acf2975-4c58-4344-acbf-85eb50efa24d\" class=\"plotly-graph-div\" style=\"height:525px; width:100%;\"></div>            <script type=\"text/javascript\">                                    window.PLOTLYENV=window.PLOTLYENV || {};                                    if (document.getElementById(\"5acf2975-4c58-4344-acbf-85eb50efa24d\")) {                    Plotly.newPlot(                        \"5acf2975-4c58-4344-acbf-85eb50efa24d\",                        [{\"legendgroup\": \"max\", \"marker\": {\"color\": \"#d54062\"}, \"name\": \"max\", \"showlegend\": true, \"type\": \"scatter\", \"x\": [1, 2, 3, 4, 5, 6, 7, 8, 9, 10, 11, 12], \"xaxis\": \"x\", \"y\": [0.1398584910247755, 0.1395035868271495, 0.1383160422222004, 0.1376909855263319, 0.1377180185287787, 0.1377698797078181, 0.1376291435109142, 0.1379125321917849, 0.1379618988649463, 0.1380157368189701, 0.1381082226759356, 0.1383759971985616], \"yaxis\": \"y\"}, {\"legendgroup\": \"mean\", \"marker\": {\"color\": \"#ffa36c\"}, \"name\": \"mean\", \"showlegend\": true, \"type\": \"scatter\", \"x\": [1, 2, 3, 4, 5, 6, 7, 8, 9, 10, 11, 12], \"xaxis\": \"x\", \"y\": [0.1416426064501443, 0.1414771807140416, 0.1421824275645731, 0.1412274368873791, 0.1422774652149585, 0.1425825035317989, 0.1424298194796343, 0.1424930619836831, 0.1425103802370111, 0.1421269565563881, 0.1404990142049201, 0.1386526599313447], \"yaxis\": \"y\"}, {\"legendgroup\": \"median\", \"marker\": {\"color\": \"#799351\"}, \"name\": \"median\", \"showlegend\": true, \"type\": \"scatter\", \"x\": [1, 2, 3, 4, 5, 6, 7, 8, 9, 10, 11, 12], \"xaxis\": \"x\", \"y\": [0.1416426064501444, 0.1429284556051477, 0.1428376004294024, 0.1445309961777701, 0.1451874425586604, 0.1449215408214955, 0.1445564765193088, 0.1440905513750554, 0.1437815374300344, 0.1435505362223489, 0.1433290962234824, 0.1431032688939558], \"yaxis\": \"y\"}, {\"legendgroup\": \"min\", \"marker\": {\"color\": \"#0f4c75\"}, \"name\": \"min\", \"showlegend\": true, \"type\": \"scatter\", \"x\": [1, 2, 3, 4, 5, 6, 7, 8, 9, 10, 11, 12], \"xaxis\": \"x\", \"y\": [0.1469877186806868, 0.1459945857926395, 0.1473229572548383, 0.1453020951938101, 0.1451143401120477, 0.1443310654005486, 0.1431329584861915, 0.1423667824457572, 0.1420720261429657, 0.1421391931934606, 0.1416817280050605, 0.1416662726129939], \"yaxis\": \"y\"}, {\"legendgroup\": \"std\", \"marker\": {\"color\": \"#3c2946\"}, \"name\": \"std\", \"showlegend\": true, \"type\": \"scatter\", \"x\": [1, 2, 3, 4, 5, 6, 7, 8, 9, 10, 11, 12], \"xaxis\": \"x\", \"y\": [0.1376840818737367, 0.1373398826680388, 0.1420991224684481, 0.1376461829845508, 0.1376832157777495, 0.1377385799777229, 0.137426174270983, 0.1373612820614095, 0.1371742969244533, 0.138033759344065, 0.138149898131757, 0.1384999973270615], \"yaxis\": \"y\"}, {\"legendgroup\": \"max\", \"marker\": {\"color\": \"#d54062\"}, \"name\": \"max\", \"showlegend\": false, \"type\": \"scatter\", \"x\": [1, 2, 3, 4, 5, 6, 7, 8, 9, 10, 11, 12], \"xaxis\": \"x4\", \"y\": [0.1427529606579627, 0.173078553796945, 0.155617321940706, 0.147067350365036, 0.1502685348287067, 0.1380963718396888, 0.1425653750378432, 0.1443506324945788, 0.1429808580725371, 0.1430858282340195, 0.1421003675009681, 0.142205152803499], \"yaxis\": \"y4\"}, {\"legendgroup\": \"mean\", \"marker\": {\"color\": \"#ffa36c\"}, \"name\": \"mean\", \"showlegend\": false, \"type\": \"scatter\", \"x\": [1, 2, 3, 4, 5, 6, 7, 8, 9, 10, 11, 12], \"xaxis\": \"x4\", \"y\": [0.1875357875584616, 0.1441769019373336, 0.1466080542446183, 0.1477822190912862, 0.1494875162342186, 0.1440398897769658, 0.1485827995756869, 0.1465566589670347, 0.143535624027723, 0.1440400338779573, 0.1432773719812229, 0.1446024166529753], \"yaxis\": \"y4\"}, {\"legendgroup\": \"median\", \"marker\": {\"color\": \"#799351\"}, \"name\": \"median\", \"showlegend\": false, \"type\": \"scatter\", \"x\": [1, 2, 3, 4, 5, 6, 7, 8, 9, 10, 11, 12], \"xaxis\": \"x4\", \"y\": [0.1875357875584616, 0.1383436804455518, 0.1383148711504512, 0.1428314764765722, 0.1504757279184271, 0.152150286899892, 0.1519301677954984, 0.1512769865130241, 0.1515526742198162, 0.1509542320047278, 0.1491887350249607, 0.1447465923764668], \"yaxis\": \"y4\"}, {\"legendgroup\": \"min\", \"marker\": {\"color\": \"#0f4c75\"}, \"name\": \"min\", \"showlegend\": false, \"type\": \"scatter\", \"x\": [1, 2, 3, 4, 5, 6, 7, 8, 9, 10, 11, 12], \"xaxis\": \"x4\", \"y\": [0.1728007632283047, 0.1658058887130993, 0.154013937637771, 0.1470594398611349, 0.1510686400737815, 0.1485859242699297, 0.1475311559463496, 0.1448943193852514, 0.1467454364563125, 0.1491490826649427, 0.1484286032525258, 0.1479052560453715], \"yaxis\": \"y4\"}, {\"legendgroup\": \"std\", \"marker\": {\"color\": \"#3c2946\"}, \"name\": \"std\", \"showlegend\": false, \"type\": \"scatter\", \"x\": [1, 2, 3, 4, 5, 6, 7, 8, 9, 10, 11, 12], \"xaxis\": \"x4\", \"y\": [0.1574202994973296, 0.1417654315380016, 0.1457199824333511, 0.1392347592247967, 0.1371741021673377, 0.1362326777005943, 0.1318799427024798, 0.1353608011518824, 0.1335966748639331, 0.1331965329477133, 0.1338304574962188, 0.132447961572258], \"yaxis\": \"y4\"}, {\"legendgroup\": \"max\", \"marker\": {\"color\": \"#d54062\"}, \"name\": \"max\", \"showlegend\": false, \"type\": \"scatter\", \"x\": [1, 2, 3, 4, 5, 6, 7, 8, 9, 10, 11, 12], \"xaxis\": \"x5\", \"y\": [0.1614694037577403, 0.1868822824514634, 0.1902839833263536, 0.1598314657228848, 0.1914157458718891, 0.1870830837162624, 0.1604427296024043, 0.1702071268520851, 0.1929289386671641, 0.1703918939247838, 0.188917818377839, 0.2238706329229944], \"yaxis\": \"y5\"}, {\"legendgroup\": \"mean\", \"marker\": {\"color\": \"#ffa36c\"}, \"name\": \"mean\", \"showlegend\": false, \"type\": \"scatter\", \"x\": [1, 2, 3, 4, 5, 6, 7, 8, 9, 10, 11, 12], \"xaxis\": \"x5\", \"y\": [0.161044396859437, 0.1921014009180348, 0.1891347309121329, 0.1336397888742534, 0.1525620121418198, 0.1720103192051478, 0.1481811455815, 0.1503064544219188, 0.1591115270647544, 0.1507410179730989, 0.1617436384056642, 0.1947576506066201], \"yaxis\": \"y5\"}, {\"legendgroup\": \"median\", \"marker\": {\"color\": \"#799351\"}, \"name\": \"median\", \"showlegend\": false, \"type\": \"scatter\", \"x\": [1, 2, 3, 4, 5, 6, 7, 8, 9, 10, 11, 12], \"xaxis\": \"x5\", \"y\": [0.1610443968594368, 0.1931758052330816, 0.1749434890328262, 0.1529007481439319, 0.1511484373982446, 0.1534589998865319, 0.1711071344696404, 0.1633672530057186, 0.1729059563374559, 0.1632525363865596, 0.1597095393806434, 0.185162748175], \"yaxis\": \"y5\"}, {\"legendgroup\": \"min\", \"marker\": {\"color\": \"#0f4c75\"}, \"name\": \"min\", \"showlegend\": false, \"type\": \"scatter\", \"x\": [1, 2, 3, 4, 5, 6, 7, 8, 9, 10, 11, 12], \"xaxis\": \"x5\", \"y\": [0.1557282931587928, 0.2120194085834966, 0.1977754754122598, 0.1439638314836649, 0.1533575149515388, 0.16939402283413, 0.1666299636088349, 0.1322950585325098, 0.1627753837673859, 0.1472007526974763, 0.1425151484352361, 0.1803583058866978], \"yaxis\": \"y5\"}, {\"legendgroup\": \"std\", \"marker\": {\"color\": \"#3c2946\"}, \"name\": \"std\", \"showlegend\": false, \"type\": \"scatter\", \"x\": [1, 2, 3, 4, 5, 6, 7, 8, 9, 10, 11, 12], \"xaxis\": \"x5\", \"y\": [0.1624533956129251, 0.1815099445915096, 0.1817377395926212, 0.1735727101971376, 0.1764409031269019, 0.1656927878871772, 0.1382427943954981, 0.1713394479474484, 0.1675629426393292, 0.1396511535660923, 0.1444102388918665, 0.1632465734822048], \"yaxis\": \"y5\"}, {\"legendgroup\": \"max\", \"marker\": {\"color\": \"#d54062\"}, \"name\": \"max\", \"showlegend\": false, \"type\": \"scatter\", \"x\": [1, 2, 3, 4, 5, 6, 7, 8, 9, 10, 11, 12], \"xaxis\": \"x2\", \"y\": [0.1417851576725116, 0.1418427988805272, 0.1409820747146794, 0.1394598859172982, 0.1390511277249685, 0.1384206815355728, 0.1383977639279236, 0.1397337334399649, 0.1396792355552754, 0.1392429950179496, 0.1391190881867731, 0.1393602983088408], \"yaxis\": \"y2\"}, {\"legendgroup\": \"mean\", \"marker\": {\"color\": \"#ffa36c\"}, \"name\": \"mean\", \"showlegend\": false, \"type\": \"scatter\", \"x\": [1, 2, 3, 4, 5, 6, 7, 8, 9, 10, 11, 12], \"xaxis\": \"x2\", \"y\": [0.1427857720831377, 0.1432277508046613, 0.1438828482019362, 0.1433930591000345, 0.143510009326063, 0.1434539754882374, 0.1432622832136347, 0.1431038104941183, 0.142951411564021, 0.142174998956701, 0.1407837275541166, 0.1393027996291084], \"yaxis\": \"y2\"}, {\"legendgroup\": \"median\", \"marker\": {\"color\": \"#799351\"}, \"name\": \"median\", \"showlegend\": false, \"type\": \"scatter\", \"x\": [1, 2, 3, 4, 5, 6, 7, 8, 9, 10, 11, 12], \"xaxis\": \"x2\", \"y\": [0.1427857720831377, 0.1435262168139285, 0.1443858869134919, 0.1450223715682533, 0.1462416154564063, 0.1467353025264934, 0.1467969601950907, 0.1466157010116395, 0.1465127458986801, 0.1458178427727888, 0.1446696966586719, 0.1427659628735754], \"yaxis\": \"y2\"}, {\"legendgroup\": \"min\", \"marker\": {\"color\": \"#0f4c75\"}, \"name\": \"min\", \"showlegend\": false, \"type\": \"scatter\", \"x\": [1, 2, 3, 4, 5, 6, 7, 8, 9, 10, 11, 12], \"xaxis\": \"x2\", \"y\": [0.1437699458908473, 0.1446878489743429, 0.1469317994835955, 0.1463311484766718, 0.1465703504539432, 0.1462892768764333, 0.1449544575944319, 0.1438687976927956, 0.1440827576155851, 0.1443881988421006, 0.1440817903651389, 0.143954044307703], \"yaxis\": \"y2\"}, {\"legendgroup\": \"std\", \"marker\": {\"color\": \"#3c2946\"}, \"name\": \"std\", \"showlegend\": false, \"type\": \"scatter\", \"x\": [1, 2, 3, 4, 5, 6, 7, 8, 9, 10, 11, 12], \"xaxis\": \"x2\", \"y\": [0.1401399564501142, 0.1400771719100447, 0.1396016956501614, 0.1395559682097075, 0.139124977286938, 0.1389313496030496, 0.1376803698726314, 0.1381019979381396, 0.1375213797223559, 0.1368769685996559, 0.1363155190324999, 0.1365077446387682], \"yaxis\": \"y2\"}, {\"legendgroup\": \"max\", \"marker\": {\"color\": \"#d54062\"}, \"name\": \"max\", \"showlegend\": false, \"type\": \"scatter\", \"x\": [1, 2, 3, 4, 5, 6, 7, 8, 9, 10, 11, 12], \"xaxis\": \"x3\", \"y\": [0.1494219935210764, 0.1396964967299638, 0.1388594512168462, 0.1395564517772095, 0.1424480261381696, 0.1346525606270691, 0.1410054420699174, 0.1372985742023997, 0.1396179360134118, 0.1652920209460294, 0.169374285891899, 0.2030959840969007], \"yaxis\": \"y3\"}, {\"legendgroup\": \"mean\", \"marker\": {\"color\": \"#ffa36c\"}, \"name\": \"mean\", \"showlegend\": false, \"type\": \"scatter\", \"x\": [1, 2, 3, 4, 5, 6, 7, 8, 9, 10, 11, 12], \"xaxis\": \"x3\", \"y\": [0.16438667606019, 0.137349749660987, 0.1358145403420436, 0.1365889686081616, 0.1389094234503908, 0.1345012167617741, 0.1385186466284588, 0.1353735830587769, 0.1380362113026425, 0.1427154204650195, 0.1450825071443671, 0.140144343821798], \"yaxis\": \"y3\"}, {\"legendgroup\": \"median\", \"marker\": {\"color\": \"#799351\"}, \"name\": \"median\", \"showlegend\": false, \"type\": \"scatter\", \"x\": [1, 2, 3, 4, 5, 6, 7, 8, 9, 10, 11, 12], \"xaxis\": \"x3\", \"y\": [0.16438667606019, 0.1360495565957201, 0.135300428594834, 0.1357022907555975, 0.1379572687819729, 0.1362508723941046, 0.1408553059274563, 0.1380655841504841, 0.1406171310895259, 0.1433258847600954, 0.144581711832547, 0.1396076653063682], \"yaxis\": \"y3\"}, {\"legendgroup\": \"min\", \"marker\": {\"color\": \"#0f4c75\"}, \"name\": \"min\", \"showlegend\": false, \"type\": \"scatter\", \"x\": [1, 2, 3, 4, 5, 6, 7, 8, 9, 10, 11, 12], \"xaxis\": \"x3\", \"y\": [0.1857524440946413, 0.1501059944207948, 0.1390200600328713, 0.1338579873164959, 0.1338431781989622, 0.1312798243187702, 0.1340516988287426, 0.1297980665632098, 0.1341149230156842, 0.135059639360682, 0.1333227956597646, 0.1303335593920819], \"yaxis\": \"y3\"}, {\"legendgroup\": \"std\", \"marker\": {\"color\": \"#3c2946\"}, \"name\": \"std\", \"showlegend\": false, \"type\": \"scatter\", \"x\": [1, 2, 3, 4, 5, 6, 7, 8, 9, 10, 11, 12], \"xaxis\": \"x3\", \"y\": [0.3842576019031609, 0.3269569639912089, 0.2900299801985168, 0.266643166966284, 0.2469209642393968, 0.2287557441306646, 0.2117372801083855, 0.1990821606378199, 0.1928262500689615, 0.1903164320628708, 0.1825629549456734, 0.1722613015305049], \"yaxis\": \"y3\"}, {\"legendgroup\": \"max\", \"marker\": {\"color\": \"#d54062\"}, \"name\": \"max\", \"showlegend\": false, \"type\": \"scatter\", \"x\": [1, 2, 3, 4, 5, 6, 7, 8, 9, 10, 11, 12], \"xaxis\": \"x6\", \"y\": [0.1402115485671087, 0.1393950206758209, 0.1397158783243577, 0.139609103378969, 0.140260153274522, 0.1402860320345054, 0.1404093426900653, 0.1408084151694627, 0.1409603818212831, 0.1411052995707642, 0.1411948398244999, 0.1415035285100546], \"yaxis\": \"y6\"}, {\"legendgroup\": \"mean\", \"marker\": {\"color\": \"#ffa36c\"}, \"name\": \"mean\", \"showlegend\": false, \"type\": \"scatter\", \"x\": [1, 2, 3, 4, 5, 6, 7, 8, 9, 10, 11, 12], \"xaxis\": \"x6\", \"y\": [0.138964593549906, 0.1382728316245544, 0.1397662818377505, 0.140344224875734, 0.1404232196503661, 0.1404732316972253, 0.1406447537739697, 0.1409093875193834, 0.1409926140192827, 0.1410709096384427, 0.1411214695366694, 0.1412681899011248], \"yaxis\": \"y6\"}, {\"legendgroup\": \"median\", \"marker\": {\"color\": \"#799351\"}, \"name\": \"median\", \"showlegend\": false, \"type\": \"scatter\", \"x\": [1, 2, 3, 4, 5, 6, 7, 8, 9, 10, 11, 12], \"xaxis\": \"x6\", \"y\": [0.138964593549906, 0.1378300121524386, 0.139092058250735, 0.1395705938957423, 0.1395665940646753, 0.1399863126767464, 0.1400148605977428, 0.1403176008385286, 0.1403426638558058, 0.140363689091701, 0.1403113230843056, 0.1403302741628817], \"yaxis\": \"y6\"}, {\"legendgroup\": \"min\", \"marker\": {\"color\": \"#0f4c75\"}, \"name\": \"min\", \"showlegend\": false, \"type\": \"scatter\", \"x\": [1, 2, 3, 4, 5, 6, 7, 8, 9, 10, 11, 12], \"xaxis\": \"x6\", \"y\": [0.1378804904544444, 0.138207307752554, 0.139342155987898, 0.1406852951770541, 0.1411234433459054, 0.1408412114828862, 0.1409019305627589, 0.1412995806760692, 0.1410725383360013, 0.1407815258892739, 0.1404434994332389, 0.140124912301394], \"yaxis\": \"y6\"}, {\"legendgroup\": \"std\", \"marker\": {\"color\": \"#3c2946\"}, \"name\": \"std\", \"showlegend\": false, \"type\": \"scatter\", \"x\": [1, 2, 3, 4, 5, 6, 7, 8, 9, 10, 11, 12], \"xaxis\": \"x6\", \"y\": [0.1385931401563288, 0.1379758854079942, 0.1386135760872035, 0.1393917385109689, 0.139773192771756, 0.139794463096029, 0.1392743817301953, 0.1395283912610043, 0.1393471380124316, 0.1391566313887154, 0.138976343942404, 0.1391959295222331], \"yaxis\": \"y6\"}],                        {\"annotations\": [{\"font\": {\"size\": 16}, \"showarrow\": false, \"text\": \"BayesianRidge\", \"x\": 0.23249999999999998, \"xanchor\": \"center\", \"xref\": \"paper\", \"y\": 1.0, \"yanchor\": \"bottom\", \"yref\": \"paper\"}, {\"font\": {\"size\": 16}, \"showarrow\": false, \"text\": \"LinearRegression\", \"x\": 0.7674999999999998, \"xanchor\": \"center\", \"xref\": \"paper\", \"y\": 1.0, \"yanchor\": \"bottom\", \"yref\": \"paper\"}, {\"font\": {\"size\": 16}, \"showarrow\": false, \"text\": \"MLPRegressor\", \"x\": 0.23249999999999998, \"xanchor\": \"center\", \"xref\": \"paper\", \"y\": 0.6466666666666667, \"yanchor\": \"bottom\", \"yref\": \"paper\"}, {\"font\": {\"size\": 16}, \"showarrow\": false, \"text\": \"Ridge\", \"x\": 0.7674999999999998, \"xanchor\": \"center\", \"xref\": \"paper\", \"y\": 0.6466666666666667, \"yanchor\": \"bottom\", \"yref\": \"paper\"}, {\"font\": {\"size\": 16}, \"showarrow\": false, \"text\": \"SGDRegressor\", \"x\": 0.23249999999999998, \"xanchor\": \"center\", \"xref\": \"paper\", \"y\": 0.29333333333333333, \"yanchor\": \"bottom\", \"yref\": \"paper\"}, {\"font\": {\"size\": 16}, \"showarrow\": false, \"text\": \"SVR\", \"x\": 0.7674999999999998, \"xanchor\": \"center\", \"xref\": \"paper\", \"y\": 0.29333333333333333, \"yanchor\": \"bottom\", \"yref\": \"paper\"}], \"legend\": {\"orientation\": \"h\", \"x\": 0.75, \"xanchor\": \"right\", \"y\": 1.06, \"yanchor\": \"bottom\"}, \"margin\": {\"b\": 0, \"l\": 0, \"pad\": 5, \"r\": 0, \"t\": 5}, \"template\": {\"data\": {\"bar\": [{\"error_x\": {\"color\": \"#2a3f5f\"}, \"error_y\": {\"color\": \"#2a3f5f\"}, \"marker\": {\"line\": {\"color\": \"#E5ECF6\", \"width\": 0.5}}, \"type\": \"bar\"}], \"barpolar\": [{\"marker\": {\"line\": {\"color\": \"#E5ECF6\", \"width\": 0.5}}, \"type\": \"barpolar\"}], \"carpet\": [{\"aaxis\": {\"endlinecolor\": \"#2a3f5f\", \"gridcolor\": \"white\", \"linecolor\": \"white\", \"minorgridcolor\": \"white\", \"startlinecolor\": \"#2a3f5f\"}, \"baxis\": {\"endlinecolor\": \"#2a3f5f\", \"gridcolor\": \"white\", \"linecolor\": \"white\", \"minorgridcolor\": \"white\", \"startlinecolor\": \"#2a3f5f\"}, \"type\": \"carpet\"}], \"choropleth\": [{\"colorbar\": {\"outlinewidth\": 0, \"ticks\": \"\"}, \"type\": \"choropleth\"}], \"contour\": [{\"colorbar\": {\"outlinewidth\": 0, \"ticks\": \"\"}, \"colorscale\": [[0.0, \"#0d0887\"], [0.1111111111111111, \"#46039f\"], [0.2222222222222222, \"#7201a8\"], [0.3333333333333333, \"#9c179e\"], [0.4444444444444444, \"#bd3786\"], [0.5555555555555556, \"#d8576b\"], [0.6666666666666666, \"#ed7953\"], [0.7777777777777778, \"#fb9f3a\"], [0.8888888888888888, \"#fdca26\"], [1.0, \"#f0f921\"]], \"type\": \"contour\"}], \"contourcarpet\": [{\"colorbar\": {\"outlinewidth\": 0, \"ticks\": \"\"}, \"type\": \"contourcarpet\"}], \"heatmap\": [{\"colorbar\": {\"outlinewidth\": 0, \"ticks\": \"\"}, \"colorscale\": [[0.0, \"#0d0887\"], [0.1111111111111111, \"#46039f\"], [0.2222222222222222, \"#7201a8\"], [0.3333333333333333, \"#9c179e\"], [0.4444444444444444, \"#bd3786\"], [0.5555555555555556, \"#d8576b\"], [0.6666666666666666, \"#ed7953\"], [0.7777777777777778, \"#fb9f3a\"], [0.8888888888888888, \"#fdca26\"], [1.0, \"#f0f921\"]], \"type\": \"heatmap\"}], \"heatmapgl\": [{\"colorbar\": {\"outlinewidth\": 0, \"ticks\": \"\"}, \"colorscale\": [[0.0, \"#0d0887\"], [0.1111111111111111, \"#46039f\"], [0.2222222222222222, \"#7201a8\"], [0.3333333333333333, \"#9c179e\"], [0.4444444444444444, \"#bd3786\"], [0.5555555555555556, \"#d8576b\"], [0.6666666666666666, \"#ed7953\"], [0.7777777777777778, \"#fb9f3a\"], [0.8888888888888888, \"#fdca26\"], [1.0, \"#f0f921\"]], \"type\": \"heatmapgl\"}], \"histogram\": [{\"marker\": {\"colorbar\": {\"outlinewidth\": 0, \"ticks\": \"\"}}, \"type\": \"histogram\"}], \"histogram2d\": [{\"colorbar\": {\"outlinewidth\": 0, \"ticks\": \"\"}, \"colorscale\": [[0.0, \"#0d0887\"], [0.1111111111111111, \"#46039f\"], [0.2222222222222222, \"#7201a8\"], [0.3333333333333333, \"#9c179e\"], [0.4444444444444444, \"#bd3786\"], [0.5555555555555556, \"#d8576b\"], [0.6666666666666666, \"#ed7953\"], [0.7777777777777778, \"#fb9f3a\"], [0.8888888888888888, \"#fdca26\"], [1.0, \"#f0f921\"]], \"type\": \"histogram2d\"}], \"histogram2dcontour\": [{\"colorbar\": {\"outlinewidth\": 0, \"ticks\": \"\"}, \"colorscale\": [[0.0, \"#0d0887\"], [0.1111111111111111, \"#46039f\"], [0.2222222222222222, \"#7201a8\"], [0.3333333333333333, \"#9c179e\"], [0.4444444444444444, \"#bd3786\"], [0.5555555555555556, \"#d8576b\"], [0.6666666666666666, \"#ed7953\"], [0.7777777777777778, \"#fb9f3a\"], [0.8888888888888888, \"#fdca26\"], [1.0, \"#f0f921\"]], \"type\": \"histogram2dcontour\"}], \"mesh3d\": [{\"colorbar\": {\"outlinewidth\": 0, \"ticks\": \"\"}, \"type\": \"mesh3d\"}], \"parcoords\": [{\"line\": {\"colorbar\": {\"outlinewidth\": 0, \"ticks\": \"\"}}, \"type\": \"parcoords\"}], \"pie\": [{\"automargin\": true, \"type\": \"pie\"}], \"scatter\": [{\"marker\": {\"colorbar\": {\"outlinewidth\": 0, \"ticks\": \"\"}}, \"type\": \"scatter\"}], \"scatter3d\": [{\"line\": {\"colorbar\": {\"outlinewidth\": 0, \"ticks\": \"\"}}, \"marker\": {\"colorbar\": {\"outlinewidth\": 0, \"ticks\": \"\"}}, \"type\": \"scatter3d\"}], \"scattercarpet\": [{\"marker\": {\"colorbar\": {\"outlinewidth\": 0, \"ticks\": \"\"}}, \"type\": \"scattercarpet\"}], \"scattergeo\": [{\"marker\": {\"colorbar\": {\"outlinewidth\": 0, \"ticks\": \"\"}}, \"type\": \"scattergeo\"}], \"scattergl\": [{\"marker\": {\"colorbar\": {\"outlinewidth\": 0, \"ticks\": \"\"}}, \"type\": \"scattergl\"}], \"scattermapbox\": [{\"marker\": {\"colorbar\": {\"outlinewidth\": 0, \"ticks\": \"\"}}, \"type\": \"scattermapbox\"}], \"scatterpolar\": [{\"marker\": {\"colorbar\": {\"outlinewidth\": 0, \"ticks\": \"\"}}, \"type\": \"scatterpolar\"}], \"scatterpolargl\": [{\"marker\": {\"colorbar\": {\"outlinewidth\": 0, \"ticks\": \"\"}}, \"type\": \"scatterpolargl\"}], \"scatterternary\": [{\"marker\": {\"colorbar\": {\"outlinewidth\": 0, \"ticks\": \"\"}}, \"type\": \"scatterternary\"}], \"surface\": [{\"colorbar\": {\"outlinewidth\": 0, \"ticks\": \"\"}, \"colorscale\": [[0.0, \"#0d0887\"], [0.1111111111111111, \"#46039f\"], [0.2222222222222222, \"#7201a8\"], [0.3333333333333333, \"#9c179e\"], [0.4444444444444444, \"#bd3786\"], [0.5555555555555556, \"#d8576b\"], [0.6666666666666666, \"#ed7953\"], [0.7777777777777778, \"#fb9f3a\"], [0.8888888888888888, \"#fdca26\"], [1.0, \"#f0f921\"]], \"type\": \"surface\"}], \"table\": [{\"cells\": {\"fill\": {\"color\": \"#EBF0F8\"}, \"line\": {\"color\": \"white\"}}, \"header\": {\"fill\": {\"color\": \"#C8D4E3\"}, \"line\": {\"color\": \"white\"}}, \"type\": \"table\"}]}, \"layout\": {\"annotationdefaults\": {\"arrowcolor\": \"#2a3f5f\", \"arrowhead\": 0, \"arrowwidth\": 1}, \"autotypenumbers\": \"strict\", \"coloraxis\": {\"colorbar\": {\"outlinewidth\": 0, \"ticks\": \"\"}}, \"colorscale\": {\"diverging\": [[0, \"#8e0152\"], [0.1, \"#c51b7d\"], [0.2, \"#de77ae\"], [0.3, \"#f1b6da\"], [0.4, \"#fde0ef\"], [0.5, \"#f7f7f7\"], [0.6, \"#e6f5d0\"], [0.7, \"#b8e186\"], [0.8, \"#7fbc41\"], [0.9, \"#4d9221\"], [1, \"#276419\"]], \"sequential\": [[0.0, \"#0d0887\"], [0.1111111111111111, \"#46039f\"], [0.2222222222222222, \"#7201a8\"], [0.3333333333333333, \"#9c179e\"], [0.4444444444444444, \"#bd3786\"], [0.5555555555555556, \"#d8576b\"], [0.6666666666666666, \"#ed7953\"], [0.7777777777777778, \"#fb9f3a\"], [0.8888888888888888, \"#fdca26\"], [1.0, \"#f0f921\"]], \"sequentialminus\": [[0.0, \"#0d0887\"], [0.1111111111111111, \"#46039f\"], [0.2222222222222222, \"#7201a8\"], [0.3333333333333333, \"#9c179e\"], [0.4444444444444444, \"#bd3786\"], [0.5555555555555556, \"#d8576b\"], [0.6666666666666666, \"#ed7953\"], [0.7777777777777778, \"#fb9f3a\"], [0.8888888888888888, \"#fdca26\"], [1.0, \"#f0f921\"]]}, \"colorway\": [\"#636efa\", \"#EF553B\", \"#00cc96\", \"#ab63fa\", \"#FFA15A\", \"#19d3f3\", \"#FF6692\", \"#B6E880\", \"#FF97FF\", \"#FECB52\"], \"font\": {\"color\": \"#2a3f5f\"}, \"geo\": {\"bgcolor\": \"white\", \"lakecolor\": \"white\", \"landcolor\": \"#E5ECF6\", \"showlakes\": true, \"showland\": true, \"subunitcolor\": \"white\"}, \"hoverlabel\": {\"align\": \"left\"}, \"hovermode\": \"closest\", \"mapbox\": {\"style\": \"light\"}, \"paper_bgcolor\": \"white\", \"plot_bgcolor\": \"#E5ECF6\", \"polar\": {\"angularaxis\": {\"gridcolor\": \"white\", \"linecolor\": \"white\", \"ticks\": \"\"}, \"bgcolor\": \"#E5ECF6\", \"radialaxis\": {\"gridcolor\": \"white\", \"linecolor\": \"white\", \"ticks\": \"\"}}, \"scene\": {\"xaxis\": {\"backgroundcolor\": \"#E5ECF6\", \"gridcolor\": \"white\", \"gridwidth\": 2, \"linecolor\": \"white\", \"showbackground\": true, \"ticks\": \"\", \"zerolinecolor\": \"white\"}, \"yaxis\": {\"backgroundcolor\": \"#E5ECF6\", \"gridcolor\": \"white\", \"gridwidth\": 2, \"linecolor\": \"white\", \"showbackground\": true, \"ticks\": \"\", \"zerolinecolor\": \"white\"}, \"zaxis\": {\"backgroundcolor\": \"#E5ECF6\", \"gridcolor\": \"white\", \"gridwidth\": 2, \"linecolor\": \"white\", \"showbackground\": true, \"ticks\": \"\", \"zerolinecolor\": \"white\"}}, \"shapedefaults\": {\"line\": {\"color\": \"#2a3f5f\"}}, \"ternary\": {\"aaxis\": {\"gridcolor\": \"white\", \"linecolor\": \"white\", \"ticks\": \"\"}, \"baxis\": {\"gridcolor\": \"white\", \"linecolor\": \"white\", \"ticks\": \"\"}, \"bgcolor\": \"#E5ECF6\", \"caxis\": {\"gridcolor\": \"white\", \"linecolor\": \"white\", \"ticks\": \"\"}}, \"title\": {\"x\": 0.05}, \"xaxis\": {\"automargin\": true, \"gridcolor\": \"white\", \"linecolor\": \"white\", \"ticks\": \"\", \"title\": {\"standoff\": 15}, \"zerolinecolor\": \"white\", \"zerolinewidth\": 2}, \"yaxis\": {\"automargin\": true, \"gridcolor\": \"white\", \"linecolor\": \"white\", \"ticks\": \"\", \"title\": {\"standoff\": 15}, \"zerolinecolor\": \"white\", \"zerolinewidth\": 2}}}, \"xaxis\": {\"anchor\": \"y\", \"domain\": [0.0, 0.46499999999999997], \"matches\": \"x5\", \"nticks\": 12, \"showticklabels\": false}, \"xaxis2\": {\"anchor\": \"y2\", \"domain\": [0.5349999999999999, 0.9999999999999999], \"matches\": \"x6\", \"nticks\": 12, \"showticklabels\": false}, \"xaxis3\": {\"anchor\": \"y3\", \"domain\": [0.0, 0.46499999999999997], \"matches\": \"x5\", \"nticks\": 12, \"showticklabels\": false}, \"xaxis4\": {\"anchor\": \"y4\", \"domain\": [0.5349999999999999, 0.9999999999999999], \"matches\": \"x6\", \"nticks\": 12, \"showticklabels\": false}, \"xaxis5\": {\"anchor\": \"y5\", \"domain\": [0.0, 0.46499999999999997], \"nticks\": 12, \"title\": {\"text\": \"Window width\"}}, \"xaxis6\": {\"anchor\": \"y6\", \"domain\": [0.5349999999999999, 0.9999999999999999], \"nticks\": 12, \"title\": {\"text\": \"Window width\"}}, \"yaxis\": {\"anchor\": \"x\", \"domain\": [0.7066666666666667, 1.0]}, \"yaxis2\": {\"anchor\": \"x2\", \"domain\": [0.7066666666666667, 1.0]}, \"yaxis3\": {\"anchor\": \"x3\", \"domain\": [0.35333333333333333, 0.6466666666666667]}, \"yaxis4\": {\"anchor\": \"x4\", \"domain\": [0.35333333333333333, 0.6466666666666667]}, \"yaxis5\": {\"anchor\": \"x5\", \"domain\": [0.0, 0.29333333333333333]}, \"yaxis6\": {\"anchor\": \"x6\", \"domain\": [0.0, 0.29333333333333333]}},                        {\"responsive\": true}                    ).then(function(){\n",
              "                            \n",
              "var gd = document.getElementById('5acf2975-4c58-4344-acbf-85eb50efa24d');\n",
              "var x = new MutationObserver(function (mutations, observer) {{\n",
              "        var display = window.getComputedStyle(gd).display;\n",
              "        if (!display || display === 'none') {{\n",
              "            console.log([gd, 'removed!']);\n",
              "            Plotly.purge(gd);\n",
              "            observer.disconnect();\n",
              "        }}\n",
              "}});\n",
              "\n",
              "// Listen for the removal of the full notebook cells\n",
              "var notebookContainer = gd.closest('#notebook-container');\n",
              "if (notebookContainer) {{\n",
              "    x.observe(notebookContainer, {childList: true});\n",
              "}}\n",
              "\n",
              "// Listen for the clearing of the current output cell\n",
              "var outputEl = gd.closest('.output');\n",
              "if (outputEl) {{\n",
              "    x.observe(outputEl, {childList: true});\n",
              "}}\n",
              "\n",
              "                        })                };                            </script>        </div>\n",
              "</body>\n",
              "</html>"
            ]
          },
          "metadata": {
            "tags": []
          }
        }
      ]
    },
    {
      "cell_type": "markdown",
      "metadata": {
        "id": "frZd9zAU-Kkq"
      },
      "source": [
        "## Minimuns"
      ]
    },
    {
      "cell_type": "code",
      "metadata": {
        "ExecuteTime": {
          "end_time": "2021-01-26T03:31:19.963689Z",
          "start_time": "2021-01-26T03:31:19.853295Z"
        },
        "id": "T23valEenWWF",
        "colab": {
          "base_uri": "https://localhost:8080/",
          "height": 457
        },
        "outputId": "69cf0079-ea97-4423-91ab-2cecd5851f73"
      },
      "source": [
        "# link = 'https://raw.githubusercontent.com/HBaena/forecasting-criminal-incidence/main/rw-r.feather'\n",
        "# df_multi_1 = pd.read_feather(link)\n",
        "# df_multi_1.set_index(['model', 'function', 'offset', 'city'], inplace=True)\n",
        "paths = (\n",
        "    'https://raw.githubusercontent.com/HBaena/forecasting-criminal-incidence/main/sw-r.feather',\n",
        "    'https://raw.githubusercontent.com/HBaena/forecasting-criminal-incidence/main/sw-wr.feather',\n",
        "    'https://raw.githubusercontent.com/HBaena/forecasting-criminal-incidence/main/rw-r.feather',\n",
        "    'https://raw.githubusercontent.com/HBaena/forecasting-criminal-incidence/main/rw-wr.feather',\n",
        ")\n",
        "indexs = (\n",
        "    ['model', 'offset', 'city'],\n",
        "    ['model', 'offset', 'city'],\n",
        "    ['model', 'function', 'offset', 'city'],\n",
        "    ['model', 'function', 'offset', 'city'],    \n",
        ")\n",
        "mins = [pd.read_feather(path).set_index(index).groupby(level='offset').min()['mean_absolute_error'] \\\n",
        "         for index, path in zip(indexs, paths)]\n",
        "\n",
        "# df_multi = pd.read_csv('sw-r.csv', index_col=['model', 'offset', 'city'])\n",
        "# tmp = df_multi.groupby(level=[0, 1]).mean()\n",
        "# min_rw_wr = tmp.groupby(level='model').min()['mean_absolute_error']\n",
        "\n",
        "mins = pd.concat(mins, \n",
        "    axis=1, \n",
        "    keys=[\n",
        "        'SW with replacement',\n",
        "        'SW without replacement',\n",
        "        'RW with replacement',\n",
        "        'RW without replacement',\n",
        "    ]\n",
        ")\n",
        "# mins.to_latex(f'{images_path}mins.tex')\n",
        "mins"
      ],
      "execution_count": 16,
      "outputs": [
        {
          "output_type": "execute_result",
          "data": {
            "text/html": [
              "<div>\n",
              "<style scoped>\n",
              "    .dataframe tbody tr th:only-of-type {\n",
              "        vertical-align: middle;\n",
              "    }\n",
              "\n",
              "    .dataframe tbody tr th {\n",
              "        vertical-align: top;\n",
              "    }\n",
              "\n",
              "    .dataframe thead th {\n",
              "        text-align: right;\n",
              "    }\n",
              "</style>\n",
              "<table border=\"1\" class=\"dataframe\">\n",
              "  <thead>\n",
              "    <tr style=\"text-align: right;\">\n",
              "      <th></th>\n",
              "      <th>SW with replacement</th>\n",
              "      <th>SW without replacement</th>\n",
              "      <th>RW with replacement</th>\n",
              "      <th>RW without replacement</th>\n",
              "    </tr>\n",
              "    <tr>\n",
              "      <th>offset</th>\n",
              "      <th></th>\n",
              "      <th></th>\n",
              "      <th></th>\n",
              "      <th></th>\n",
              "    </tr>\n",
              "  </thead>\n",
              "  <tbody>\n",
              "    <tr>\n",
              "      <th>1</th>\n",
              "      <td>0.069250</td>\n",
              "      <td>0.069250</td>\n",
              "      <td>0.069707</td>\n",
              "      <td>0.069707</td>\n",
              "    </tr>\n",
              "    <tr>\n",
              "      <th>2</th>\n",
              "      <td>0.069129</td>\n",
              "      <td>0.072955</td>\n",
              "      <td>0.068266</td>\n",
              "      <td>0.070309</td>\n",
              "    </tr>\n",
              "    <tr>\n",
              "      <th>3</th>\n",
              "      <td>0.061372</td>\n",
              "      <td>0.069395</td>\n",
              "      <td>0.066531</td>\n",
              "      <td>0.070130</td>\n",
              "    </tr>\n",
              "    <tr>\n",
              "      <th>4</th>\n",
              "      <td>0.069410</td>\n",
              "      <td>0.066560</td>\n",
              "      <td>0.067791</td>\n",
              "      <td>0.069723</td>\n",
              "    </tr>\n",
              "    <tr>\n",
              "      <th>5</th>\n",
              "      <td>0.065000</td>\n",
              "      <td>0.064593</td>\n",
              "      <td>0.069177</td>\n",
              "      <td>0.069443</td>\n",
              "    </tr>\n",
              "    <tr>\n",
              "      <th>6</th>\n",
              "      <td>0.077796</td>\n",
              "      <td>0.069230</td>\n",
              "      <td>0.069092</td>\n",
              "      <td>0.069850</td>\n",
              "    </tr>\n",
              "    <tr>\n",
              "      <th>7</th>\n",
              "      <td>0.073257</td>\n",
              "      <td>0.070063</td>\n",
              "      <td>0.068091</td>\n",
              "      <td>0.069072</td>\n",
              "    </tr>\n",
              "    <tr>\n",
              "      <th>8</th>\n",
              "      <td>0.066102</td>\n",
              "      <td>0.069328</td>\n",
              "      <td>0.067846</td>\n",
              "      <td>0.068520</td>\n",
              "    </tr>\n",
              "    <tr>\n",
              "      <th>9</th>\n",
              "      <td>0.069156</td>\n",
              "      <td>0.068752</td>\n",
              "      <td>0.069556</td>\n",
              "      <td>0.069301</td>\n",
              "    </tr>\n",
              "    <tr>\n",
              "      <th>10</th>\n",
              "      <td>0.075865</td>\n",
              "      <td>0.069705</td>\n",
              "      <td>0.067570</td>\n",
              "      <td>0.069369</td>\n",
              "    </tr>\n",
              "    <tr>\n",
              "      <th>11</th>\n",
              "      <td>0.072609</td>\n",
              "      <td>0.069772</td>\n",
              "      <td>0.063467</td>\n",
              "      <td>0.069091</td>\n",
              "    </tr>\n",
              "    <tr>\n",
              "      <th>12</th>\n",
              "      <td>0.070375</td>\n",
              "      <td>0.070369</td>\n",
              "      <td>0.068185</td>\n",
              "      <td>0.066071</td>\n",
              "    </tr>\n",
              "  </tbody>\n",
              "</table>\n",
              "</div>"
            ],
            "text/plain": [
              "        SW with replacement  ...  RW without replacement\n",
              "offset                       ...                        \n",
              "1                  0.069250  ...                0.069707\n",
              "2                  0.069129  ...                0.070309\n",
              "3                  0.061372  ...                0.070130\n",
              "4                  0.069410  ...                0.069723\n",
              "5                  0.065000  ...                0.069443\n",
              "6                  0.077796  ...                0.069850\n",
              "7                  0.073257  ...                0.069072\n",
              "8                  0.066102  ...                0.068520\n",
              "9                  0.069156  ...                0.069301\n",
              "10                 0.075865  ...                0.069369\n",
              "11                 0.072609  ...                0.069091\n",
              "12                 0.070375  ...                0.066071\n",
              "\n",
              "[12 rows x 4 columns]"
            ]
          },
          "metadata": {
            "tags": []
          },
          "execution_count": 16
        }
      ]
    },
    {
      "cell_type": "code",
      "metadata": {
        "ExecuteTime": {
          "end_time": "2021-01-26T03:31:28.562410Z",
          "start_time": "2021-01-26T03:31:28.356038Z"
        },
        "id": "XSxnvzeynWWG",
        "colab": {
          "base_uri": "https://localhost:8080/",
          "height": 269
        },
        "outputId": "50e2aade-3e6c-4a0c-d85b-e8a4e0ba7f93"
      },
      "source": [
        "\n",
        "mins = [pd.read_feather(path).set_index(index).groupby(level='offset').min()['mean_absolute_error'] \\\n",
        "         for index, path in zip(indexs, paths)]\n",
        "\n",
        "mins = [pd.read_feather(path).set_index(index\n",
        "                  ).pivot_table(index='model',columns='offset',aggfunc=min\n",
        "                                )['mean_absolute_error'] \\\n",
        "         for index, path in zip(indexs, paths)]\n",
        "mins = pd.concat(mins, \n",
        "    axis=0, levels='model'\n",
        ").groupby(level=0).min()\n",
        "mins"
      ],
      "execution_count": 19,
      "outputs": [
        {
          "output_type": "execute_result",
          "data": {
            "text/html": [
              "<div>\n",
              "<style scoped>\n",
              "    .dataframe tbody tr th:only-of-type {\n",
              "        vertical-align: middle;\n",
              "    }\n",
              "\n",
              "    .dataframe tbody tr th {\n",
              "        vertical-align: top;\n",
              "    }\n",
              "\n",
              "    .dataframe thead th {\n",
              "        text-align: right;\n",
              "    }\n",
              "</style>\n",
              "<table border=\"1\" class=\"dataframe\">\n",
              "  <thead>\n",
              "    <tr style=\"text-align: right;\">\n",
              "      <th>offset</th>\n",
              "      <th>1</th>\n",
              "      <th>2</th>\n",
              "      <th>3</th>\n",
              "      <th>4</th>\n",
              "      <th>5</th>\n",
              "      <th>6</th>\n",
              "      <th>7</th>\n",
              "      <th>8</th>\n",
              "      <th>9</th>\n",
              "      <th>10</th>\n",
              "      <th>11</th>\n",
              "      <th>12</th>\n",
              "    </tr>\n",
              "    <tr>\n",
              "      <th>model</th>\n",
              "      <th></th>\n",
              "      <th></th>\n",
              "      <th></th>\n",
              "      <th></th>\n",
              "      <th></th>\n",
              "      <th></th>\n",
              "      <th></th>\n",
              "      <th></th>\n",
              "      <th></th>\n",
              "      <th></th>\n",
              "      <th></th>\n",
              "      <th></th>\n",
              "    </tr>\n",
              "  </thead>\n",
              "  <tbody>\n",
              "    <tr>\n",
              "      <th>BayesianRidge</th>\n",
              "      <td>0.072021</td>\n",
              "      <td>0.069117</td>\n",
              "      <td>0.069173</td>\n",
              "      <td>0.069939</td>\n",
              "      <td>0.070367</td>\n",
              "      <td>0.069177</td>\n",
              "      <td>0.069245</td>\n",
              "      <td>0.069361</td>\n",
              "      <td>0.069665</td>\n",
              "      <td>0.069369</td>\n",
              "      <td>0.069091</td>\n",
              "      <td>0.069064</td>\n",
              "    </tr>\n",
              "    <tr>\n",
              "      <th>LinearRegression</th>\n",
              "      <td>0.071594</td>\n",
              "      <td>0.072955</td>\n",
              "      <td>0.069395</td>\n",
              "      <td>0.069797</td>\n",
              "      <td>0.071549</td>\n",
              "      <td>0.070597</td>\n",
              "      <td>0.070212</td>\n",
              "      <td>0.070448</td>\n",
              "      <td>0.071758</td>\n",
              "      <td>0.073995</td>\n",
              "      <td>0.071838</td>\n",
              "      <td>0.070375</td>\n",
              "    </tr>\n",
              "    <tr>\n",
              "      <th>MLPRegressor</th>\n",
              "      <td>0.082380</td>\n",
              "      <td>0.068266</td>\n",
              "      <td>0.061372</td>\n",
              "      <td>0.066560</td>\n",
              "      <td>0.064593</td>\n",
              "      <td>0.070493</td>\n",
              "      <td>0.068091</td>\n",
              "      <td>0.066102</td>\n",
              "      <td>0.069633</td>\n",
              "      <td>0.067570</td>\n",
              "      <td>0.063467</td>\n",
              "      <td>0.066071</td>\n",
              "    </tr>\n",
              "    <tr>\n",
              "      <th>Ridge</th>\n",
              "      <td>0.069707</td>\n",
              "      <td>0.070929</td>\n",
              "      <td>0.071275</td>\n",
              "      <td>0.069410</td>\n",
              "      <td>0.069177</td>\n",
              "      <td>0.069092</td>\n",
              "      <td>0.069391</td>\n",
              "      <td>0.069598</td>\n",
              "      <td>0.069156</td>\n",
              "      <td>0.069586</td>\n",
              "      <td>0.069311</td>\n",
              "      <td>0.069507</td>\n",
              "    </tr>\n",
              "    <tr>\n",
              "      <th>SGDRegressor</th>\n",
              "      <td>0.107694</td>\n",
              "      <td>0.080501</td>\n",
              "      <td>0.074197</td>\n",
              "      <td>0.069723</td>\n",
              "      <td>0.069443</td>\n",
              "      <td>0.071867</td>\n",
              "      <td>0.073173</td>\n",
              "      <td>0.071317</td>\n",
              "      <td>0.068752</td>\n",
              "      <td>0.071822</td>\n",
              "      <td>0.069772</td>\n",
              "      <td>0.071327</td>\n",
              "    </tr>\n",
              "    <tr>\n",
              "      <th>SVR</th>\n",
              "      <td>0.069250</td>\n",
              "      <td>0.069122</td>\n",
              "      <td>0.069431</td>\n",
              "      <td>0.069566</td>\n",
              "      <td>0.069126</td>\n",
              "      <td>0.069846</td>\n",
              "      <td>0.069072</td>\n",
              "      <td>0.069328</td>\n",
              "      <td>0.069376</td>\n",
              "      <td>0.069500</td>\n",
              "      <td>0.070073</td>\n",
              "      <td>0.070338</td>\n",
              "    </tr>\n",
              "  </tbody>\n",
              "</table>\n",
              "</div>"
            ],
            "text/plain": [
              "offset                  1         2         3   ...        10        11        12\n",
              "model                                           ...                              \n",
              "BayesianRidge     0.072021  0.069117  0.069173  ...  0.069369  0.069091  0.069064\n",
              "LinearRegression  0.071594  0.072955  0.069395  ...  0.073995  0.071838  0.070375\n",
              "MLPRegressor      0.082380  0.068266  0.061372  ...  0.067570  0.063467  0.066071\n",
              "Ridge             0.069707  0.070929  0.071275  ...  0.069586  0.069311  0.069507\n",
              "SGDRegressor      0.107694  0.080501  0.074197  ...  0.071822  0.069772  0.071327\n",
              "SVR               0.069250  0.069122  0.069431  ...  0.069500  0.070073  0.070338\n",
              "\n",
              "[6 rows x 12 columns]"
            ]
          },
          "metadata": {
            "tags": []
          },
          "execution_count": 19
        }
      ]
    },
    {
      "cell_type": "markdown",
      "metadata": {
        "pycharm": {
          "name": "#%% md\n"
        },
        "id": "ZaXs2o4AnWWH"
      },
      "source": [
        "## Correlation"
      ]
    },
    {
      "cell_type": "code",
      "metadata": {
        "ExecuteTime": {
          "end_time": "2020-12-28T18:17:51.873145Z",
          "start_time": "2020-12-28T18:17:51.253349Z"
        },
        "id": "9F1OznwbnWWH"
      },
      "source": [
        "def corr_lag(df:pd.DataFrame, serie:pd.Series, lag:iter, \n",
        "             absval:bool=False, sort:bool=True, func=lambda df, lag: df.shift(lag)):\n",
        "    tmp = lambda df, serie, lag : func(df, lag).corrwith(serie)\n",
        "    result = pd.concat([tmp(data, serie, i) for i in lag],\n",
        "        axis=1)\n",
        "    if absval:\n",
        "        result = result.abs()\n",
        "    if sort:\n",
        "        return result.assign(m=result.sum(axis=1)).sort_values('m', ascending=False).drop('m', axis=1)\n",
        "    return result \n",
        "\n",
        "serie = data.groupby(level='date').mean()[target]\n",
        "tmp = corr_lag(\n",
        "            data.groupby(level='date').mean(), \n",
        "            serie, range(0, 16), \n",
        "            sort=True, absval=False, \n",
        "              )\n",
        "fig = heatmap(tmp.columns, tmp.index, tmp, \n",
        "              template=r'Crime: %{x}<br>Lagged months: %{y}<br>Corr: %{z}')\n",
        "fig.update_layout(\n",
        "#     legend=dict(title='Correlation<br>Absolute value'),\n",
        "margin=dict(b=200),\n",
        "xaxis=dict(title='<span style=\"font-weight: bold;\">Crime</span>', \n",
        "           tickvals=tuple(range(len(tmp.index))), \n",
        "           ticktext=tuple(map(lambda item: shorten(item, 25), tmp.index))),\n",
        "yaxis=dict(title='<span style=\"font-weight: bold;\">Lag month</span>'),\n",
        "title=title_style.format('Correlation between the amount of <b>murders</b> and other crimes by past months'),\n",
        ").show(render='svg')"
      ],
      "execution_count": null,
      "outputs": []
    },
    {
      "cell_type": "code",
      "metadata": {
        "ExecuteTime": {
          "end_time": "2020-10-15T01:58:27.214424Z",
          "start_time": "2020-10-15T01:58:27.079131Z"
        },
        "id": "AzYOcBbFnWWI"
      },
      "source": [
        "plot_multivariate_timeserie(data, normalize=True).update_layout(\n",
        "    title=title_style.format('Behavior of difference'),\n",
        "        xaxis=dict(title='Date'),\n",
        "        yaxis=dict(title='Diff')\n",
        "                                                              )"
      ],
      "execution_count": null,
      "outputs": []
    },
    {
      "cell_type": "markdown",
      "metadata": {
        "id": "A9-E1Co9nWWI"
      },
      "source": [
        "## Data exploration"
      ]
    },
    {
      "cell_type": "code",
      "metadata": {
        "ExecuteTime": {
          "end_time": "2021-03-09T04:31:41.500163Z",
          "start_time": "2021-03-09T04:31:41.348514Z"
        },
        "scrolled": true,
        "id": "SFtnKilYnWWJ"
      },
      "source": [
        "go.Figure(go.Bar(x=tmp.index, y=tmp['HOMICIDIO DOLOSO'])).update_layout(xaxis=dict(rangeslider=dict(visible=True)))"
      ],
      "execution_count": null,
      "outputs": []
    },
    {
      "cell_type": "code",
      "metadata": {
        "ExecuteTime": {
          "end_time": "2020-08-26T06:06:02.575426Z",
          "start_time": "2020-08-26T06:06:02.489908Z"
        },
        "id": "prqLS9uCnWWK"
      },
      "source": [
        "# Slinding window of size 1\n",
        "tmp_shift = tmp.shift(1)\n",
        "display(tmp_shift.head())\n",
        "# Add target value to the shifted data frame\n",
        "# add \n",
        "tmp_shift['Target'] = tmp['HOMICIDIO DOLOSO']\n",
        "# Reoving the first row\n",
        "tmp_shift = tmp_shift[1:]\n",
        "# Split train and test samples\n",
        "train = tmp_shift.loc[:'2018']\n",
        "test = tmp_shift.loc['2019':'2020-may']\n",
        "# Selecting features and target\n",
        "target = tmp_shift.columns[tmp_shift.columns == 'Target']\n",
        "features = tmp_shift.columns[~(tmp_shift.columns == 'Target')]"
      ],
      "execution_count": null,
      "outputs": []
    },
    {
      "cell_type": "code",
      "metadata": {
        "ExecuteTime": {
          "end_time": "2020-08-26T18:00:36.586757Z",
          "start_time": "2020-08-26T18:00:36.571843Z"
        },
        "id": "sLd8RohGnWWK"
      },
      "source": [
        "# Attributes to variate\n",
        "attr_activation = ['identity', 'logistic', 'tanh', 'relu',]\n",
        "attr_solver = ('lbfgs', 'sgd', 'adam')\n",
        "attr_learning_rate = ('constant', 'invscaling', 'adaptive')\n",
        "attr_max_iter = (100, 200, 300, 400, 500, 1000, 2000, 3000, 4000, 5000, 10000, 20000, 30000, 40000, 50000)\n",
        "attr_hidden_layers = (10, 20, 30, 40, 50, 100, 200, 300, 500, 1000, 5000, 10000)\n",
        "metrics = (mean_absolute_error, mean_squared_error)\n",
        "x_train = train[features].values\n",
        "y_train = train[target[0]].to_numpy()\n",
        "x_test = test[features].values\n",
        "y_test = test[target[0]].to_numpy()"
      ],
      "execution_count": null,
      "outputs": []
    },
    {
      "cell_type": "code",
      "metadata": {
        "ExecuteTime": {
          "end_time": "2020-08-26T18:10:14.136242Z",
          "start_time": "2020-08-26T18:10:14.125319Z"
        },
        "id": "eYGZN66-nWWL"
      },
      "source": [
        "def meassure_performance(\n",
        "                            model_func, metrics, attrs, attr_name,\n",
        "                            x_train, y_train, x_test, y_test,\n",
        "                            constant_attrs=dict()\n",
        "                        ):\n",
        "    results = pd.DataFrame(\n",
        "        index=attrs, # Set the range of attributes as index\n",
        "        columns=list(map(lambda a:a.__name__, metrics)) + ['time'] # metrics + time\n",
        "    )\n",
        "    for attr in attrs:\n",
        "        constant_attrs[attr_name] = attr # add such attribute to te attributes dict\n",
        "        print(constant_attrs) # Print the current attribute value\n",
        "        t1 = time.process_time_ns() # Meassure time before training\n",
        "        model = model_func(\n",
        "            **constant_attrs # Make model with such attrs\n",
        "        ).fit(x_train, y_train) # Train model inline\n",
        "        t2 = time.process_time_ns() # Meassure time after training\n",
        "        predictions = model.predict(x_test) # Predict with the test data \n",
        "        for metric in metrics:\n",
        "            results[metric.__name__][attr] = metric(y_test, predictions) # Verify performance\n",
        "                                                                         # with each metric\n",
        "        results['time'][attr] = (t2 - t1)*1e-9                           # Add time excecutinon\n",
        "        print(f'Time: {t2 - t1}')\n",
        "        del model\n",
        "    return results\n",
        "def dict_of_df_to_multiindex_df(dictionary, axis=1):\n",
        "    return pd.concat(dictionary.values(), keys=dictionary.keys(), axis=axis)\n"
      ],
      "execution_count": null,
      "outputs": []
    },
    {
      "cell_type": "code",
      "metadata": {
        "ExecuteTime": {
          "end_time": "2020-08-26T07:13:43.042727Z",
          "start_time": "2020-08-26T06:42:06.157782Z"
        },
        "id": "puk5B0atnWWN"
      },
      "source": [
        "results = dict()\n",
        "for activation in attr_activation: # iterate over a \n",
        "    print(\"ACTIVATION: \", activation)\n",
        "    results[activation] = meassure_performance(neural_network.MLPRegressor, \n",
        "                                    metrics, attr_hidden_layers, \n",
        "                                   'hidden_layer_sizes', x_train, y_train, x_test, y_test,\n",
        "                                    {'activation' : activation}\n",
        "                                    )"
      ],
      "execution_count": null,
      "outputs": []
    },
    {
      "cell_type": "code",
      "metadata": {
        "ExecuteTime": {
          "end_time": "2020-08-26T07:40:57.442951Z",
          "start_time": "2020-08-26T07:40:57.437953Z"
        },
        "id": "7QsJ_8MxnWWN"
      },
      "source": [
        "results = dict_of_df_to_multiindex_df(results)"
      ],
      "execution_count": null,
      "outputs": []
    },
    {
      "cell_type": "code",
      "metadata": {
        "ExecuteTime": {
          "end_time": "2020-08-26T08:47:02.571149Z",
          "start_time": "2020-08-26T08:47:02.240636Z"
        },
        "id": "qdQkUGwunWWO"
      },
      "source": [
        "# write\n",
        "results.to_csv('results-activation function-hidden layers.csv')"
      ],
      "execution_count": null,
      "outputs": []
    },
    {
      "cell_type": "code",
      "metadata": {
        "ExecuteTime": {
          "end_time": "2020-08-26T08:49:53.055935Z",
          "start_time": "2020-08-26T08:49:53.041488Z"
        },
        "id": "6DWjimmpnWWP"
      },
      "source": [
        "temp = pd.read_csv('results-activation function-hidden layers.csv', header=[0,1], index_col=[0])"
      ],
      "execution_count": null,
      "outputs": []
    },
    {
      "cell_type": "code",
      "metadata": {
        "ExecuteTime": {
          "end_time": "2020-08-26T17:37:35.051467Z",
          "start_time": "2020-08-26T17:37:34.897707Z"
        },
        "id": "M_vCHE40nWWP"
      },
      "source": [
        "cols = ('mean_absolute_error', 'mean_squared_error')\n",
        "for activation in attr_activation:\n",
        "    scatter = list()\n",
        "    box = list()\n",
        "    fig = make_subplots(rows=1, cols=2, column_widths=[0.7, 0.3], subplot_titles=['Lines plot', 'Boxplot'])\n",
        "    for i, col in enumerate(cols):\n",
        "        scatter.append(\n",
        "            go.Scatter(\n",
        "                x=results[activation].index,\n",
        "                y=results[activation][col],\n",
        "                name='<span style=\"font-size=8px;\">' + col.replace(\"_\", ' ').title() + ' - Line</span>',\n",
        "                marker=dict(color=colors[i]),\n",
        "                legendgroup=col))\n",
        "        box.append(\n",
        "            go.Box(y=results[activation][col],\n",
        "            name='<span style=\"font-size=8px;\">' + col.replace(\"_\", ' ').title() + ' - Box</span>', \n",
        "            marker=dict(color=colors[i]), legendgroup=col))\n",
        "    for plot in scatter:\n",
        "        fig.add_trace(plot, row=1, col=1)\n",
        "    fig.update_xaxes(rangeslider=dict(visible=True), type='log',\n",
        "                     title='Hidden layers',\n",
        "                    row=1, col=1)    \n",
        "    for plot in box:\n",
        "        fig.add_trace(plot, row=1, col=2)\n",
        "    fig.update_xaxes(showticklabels=True, title='Metric',\n",
        "                     tickvals=(0, 1), \n",
        "                     ticktext=list(map(lambda col: tick_style.format(col.replace(\"_\", ' ').title()) ,cols)),\n",
        "                    row=1, col=2)    \n",
        "    fig.update_layout(title=title_style.format(f'Model\\'s error for <b>{activation}</b> activation function'), \n",
        "                      font=dict(family='roboto, monospace'), legend=dict(title='Metric')).show()\n",
        "    del fig"
      ],
      "execution_count": null,
      "outputs": []
    },
    {
      "cell_type": "code",
      "metadata": {
        "ExecuteTime": {
          "end_time": "2020-08-26T10:11:15.543058Z",
          "start_time": "2020-08-26T10:11:15.508194Z"
        },
        "id": "1WtMbZZsnWWQ"
      },
      "source": [
        "fig = go.Figure()\n",
        "for i, activation in enumerate(attr_activation):\n",
        "    for j, col in enumerate(cols):\n",
        "        fig.add_trace(\n",
        "                go.Scatter(\n",
        "                    x=results[activation].index,\n",
        "                    y=results[activation][col],\n",
        "                    name='<span style=\"font-size=8px;\">' + activation + '</span>',\n",
        "                    marker=dict(color=colors[i]),\n",
        "                    hovertext=col.replace('_', ' ').title(),\n",
        "                    legendgroup=activation,\n",
        "                    showlegend=bool(j)\n",
        "                )\n",
        "    )\n",
        "fig.update_xaxes(type='log', title='Hidden layers', rangeslider=dict(visible=True)).update_yaxes(title='Error')\n",
        "fig.update_layout(title=title_style.format('Model\\'s error according the activation function'), \n",
        "                  legend=dict(title='Activation function')).show()"
      ],
      "execution_count": null,
      "outputs": []
    },
    {
      "cell_type": "code",
      "metadata": {
        "ExecuteTime": {
          "end_time": "2020-08-26T17:41:47.248364Z",
          "start_time": "2020-08-26T17:41:47.164356Z"
        },
        "id": "b6HGHBKxnWWQ"
      },
      "source": [
        "fig = make_subplots(rows=2, cols=1, shared_xaxes=True,\n",
        "                    subplot_titles=['Mean absolute error', 'Mean squared error'])\n",
        "absolute = list()\n",
        "squared = list()\n",
        "for i, activation in enumerate(attr_activation):\n",
        "    for j, col in enumerate(cols):\n",
        "        temp =  go.Scatter(\n",
        "                    x=results[activation].index,\n",
        "                    y=results[activation][col],\n",
        "                    name='<span style=\"font-size=8px;\">' + activation + ' - ' + col.replace('_', ' ').title() + '</span>',\n",
        "                    marker=dict(color=colors[i]),\n",
        "#                     hovertext=col.replace('_', ' ').title(),\n",
        "                    legendgroup=activation,\n",
        "                )\n",
        "\n",
        "        if j:\n",
        "            squared.append(temp)\n",
        "        else:\n",
        "            absolute.append(temp)\n",
        "for plot in absolute:\n",
        "    fig.add_trace(plot, col=1, row=1)\n",
        "for plot in squared:\n",
        "    fig.add_trace(plot, col=1, row=2)\n",
        "fig.update_xaxes(type='log', title='',col=1, row=1).update_xaxes(type='log', rangeslider=dict(visible=True), \n",
        "                                                                 title='Number of hidden layers',col=1, row=2)\n",
        "fig.update_layout(title=title_style.format('Model\\'s error according to the activation function and the number of hidden layers')).show()    "
      ],
      "execution_count": null,
      "outputs": []
    },
    {
      "cell_type": "code",
      "metadata": {
        "ExecuteTime": {
          "end_time": "2020-08-26T22:21:35.128459Z",
          "start_time": "2020-08-26T22:21:35.088305Z"
        },
        "id": "BOz6cukZnWWR"
      },
      "source": [
        "fig = make_subplots(rows=1, cols=2,\n",
        "                    subplot_titles=['Mean absolute error', 'Mean squared error'])\n",
        "absolute = list()\n",
        "squared = list()\n",
        "for i, activation in enumerate(attr_activation):\n",
        "    for j, col in enumerate(cols):\n",
        "        temp =  go.Box(\n",
        "                    y=results[activation][col],\n",
        "                    name='<span style=\"font-size=8px;\">' + activation + ' - ' + col.replace('_', ' ').title() + '</span>',\n",
        "                    marker=dict(color=colors[i]),\n",
        "#                     hovertext=col.replace('_', ' ').title(),\n",
        "                    legendgroup=activation,\n",
        "                )\n",
        "\n",
        "        if j:\n",
        "            squared.append(temp)\n",
        "        else:\n",
        "            absolute.append(temp)\n",
        "for plot in absolute:\n",
        "    fig.add_trace(plot, col=1, row=1)\n",
        "for plot in squared:\n",
        "    fig.add_trace(plot, col=2, row=1)\n",
        "fig.update_xaxes(type='log', title='',col=1, row=1).update_xaxes(type='log',title='',col=2, row=1)\n",
        "fig.update_layout(title=title_style.format('Model\\'s error according to the activation function and the number of hidden layers')).show()    "
      ],
      "execution_count": null,
      "outputs": []
    },
    {
      "cell_type": "code",
      "metadata": {
        "ExecuteTime": {
          "end_time": "2020-08-26T09:28:14.799693Z",
          "start_time": "2020-08-26T09:28:14.741248Z"
        },
        "id": "kIL9vslGnWWS"
      },
      "source": [
        "fig = make_subplots(rows=1, cols=2, column_widths=[0.7, 0.3], shared_yaxes=True, subplot_titles=['Lines plot', 'Boxplot'])\n",
        "scatter = list()\n",
        "box = list()\n",
        "for i, activation in enumerate(attr_activation):\n",
        "        scatter.append(go.Scatter(\n",
        "            x=results[activation].index,\n",
        "            y=results[activation]['time'],\n",
        "            name=f'<span style=\"font-size=8px;\"> {activation} - Line</span>',\n",
        "            marker=dict(color=colors[i]),\n",
        "            legendgroup=activation\n",
        "        ))\n",
        "        box.append(go.Box(\n",
        "            y=results[activation]['time'],\n",
        "            name=f'<span style=\"font-size=8px;\"> {activation} - Line</span>',\n",
        "            marker=dict(color=colors[i]),\n",
        "            legendgroup=activation\n",
        "        ))\n",
        "\n",
        "for plot in scatter:\n",
        "    fig.add_trace(plot, row=1, col=1)\n",
        "fig.update_xaxes(\n",
        "            rangeslider=dict(visible=True), type='log', \n",
        "            title='Hidden layers',\n",
        "            row=1, col=1).update_yaxes(\n",
        "            title='Seconds',\n",
        "            row=1, col=1)    \n",
        "for plot in box:\n",
        "    fig.add_trace(plot, row=1, col=2)\n",
        "fig.update_xaxes(\n",
        "            title='Activation function',\n",
        "            row=1, col=2).update_yaxes(\n",
        "            visible=False,\n",
        "            row=1, col=2).update_xaxes(tickvals=list(range(len(attr_activation))), \n",
        "                                       ticktext=attr_activation, row=1, col=2)\n",
        "\n",
        "fig.update_layout(\n",
        "#                 xaxis=dict(type='log', title='hidden layers'), \n",
        "#                 yaxis=dict(title='Execution Seconds'),\n",
        "                legend=dict(title=subtitle_style.format('Activation function')),\n",
        "                title=title_style.format('Execution time for model\\'s training according the activation function and hidden layers')\n",
        ")"
      ],
      "execution_count": null,
      "outputs": []
    },
    {
      "cell_type": "code",
      "metadata": {
        "ExecuteTime": {
          "end_time": "2020-08-26T18:10:14.077645Z",
          "start_time": "2020-08-26T18:07:44.320806Z"
        },
        "scrolled": true,
        "id": "cT1MnFPPnWWT"
      },
      "source": [
        "results_2 = dict()\n",
        "attrs = {'activation' :'relu'}\n",
        " \n",
        "for attr in attr_max_iter: # iterate over a \n",
        "    print(attr)\n",
        "    attrs['max_iter'] = attr\n",
        "    results_2[attr] = meassure_performance(\n",
        "        neural_network.MLPRegressor, \n",
        "        metrics, attr_hidden_layers, \n",
        "        'hidden_layer_sizes', x_train, y_train, x_test, y_test,\n",
        "        constant_attrs=attrs\n",
        "    )"
      ],
      "execution_count": null,
      "outputs": []
    },
    {
      "cell_type": "code",
      "metadata": {
        "ExecuteTime": {
          "end_time": "2020-08-26T22:19:57.479026Z",
          "start_time": "2020-08-26T22:19:57.366378Z"
        },
        "id": "LD4I0ISenWWU"
      },
      "source": [
        "fig = make_subplots(rows=2, cols=1, shared_xaxes=True,\n",
        "                    subplot_titles=['Mean absolute error', 'Mean squared error'])\n",
        "absolute = list()\n",
        "squared = list()\n",
        "for i, max_iter in enumerate(attr_max_iter):\n",
        "    for j, col in enumerate(cols):\n",
        "        temp =  go.Scatter(\n",
        "                    x=results_2[max_iter].index,\n",
        "                    y=results_2[max_iter][col],\n",
        "                    name='<span style=\"font-size=8px;\">' + str(max_iter) + ' - ' + col.replace('_', ' ').title() + '</span>',\n",
        "                    marker=dict(color=colors[i]),\n",
        "#                     hovertext=col.replace('_', ' ').title(),\n",
        "                    legendgroup=str(max_iter),\n",
        "                )\n",
        "\n",
        "        if j:\n",
        "            squared.append(temp)\n",
        "        else:\n",
        "            absolute.append(temp)\n",
        "for plot in absolute:\n",
        "    fig.add_trace(plot, col=1, row=1)\n",
        "for plot in squared:\n",
        "    fig.add_trace(plot, col=1, row=2)\n",
        "fig.update_xaxes(type='log', title='',col=1, row=1).update_xaxes(type='log', rangeslider=dict(visible=True), \n",
        "                                                                 title='Number of hidden layers',col=1, row=2)\n",
        "fig.update_layout(title=title_style.format('Model\\'s error according to the max_iter function and the number of hidden layers')).show()    "
      ],
      "execution_count": null,
      "outputs": []
    },
    {
      "cell_type": "code",
      "metadata": {
        "ExecuteTime": {
          "end_time": "2020-08-26T23:24:16.638543Z",
          "start_time": "2020-08-26T23:24:16.585503Z"
        },
        "id": "9XcjQey8nWWU"
      },
      "source": [
        "fig = make_subplots(rows=2, cols=1, shared_xaxes=True,\n",
        "                    subplot_titles=['Mean absolute error', 'Mean squared error'])\n",
        "absolute = list()\n",
        "squared = list()\n",
        "for i, max_iter in enumerate(attr_max_iter):\n",
        "    for j, col in enumerate(cols):\n",
        "        temp =  go.Box(\n",
        "                    y=results_2[max_iter][col],\n",
        "                    name='<span style=\"font-size=8px;\">' + str(max_iter) + ' max iter </span>',\n",
        "                    marker=dict(color=colors[i]),\n",
        "#                     hovertext=col.replace('_', ' ').title(),\n",
        "                    legendgroup=str(max_iter),\n",
        "                    showlegend=bool(j)\n",
        "                )\n",
        "\n",
        "        if j:\n",
        "            squared.append(temp)\n",
        "        else:\n",
        "            absolute.append(temp)\n",
        "for plot in absolute:\n",
        "    fig.add_trace(plot, col=1, row=1)\n",
        "for plot in squared:\n",
        "    fig.add_trace(plot, col=1, row=2)\n",
        "fig.update_xaxes(title='Number of iteration',col=1, row=2, \n",
        "                tickvals=list(range(len(attr_max_iter))), \n",
        "                ticktext=list(map(str, attr_max_iter)), rangeslider=dict(visible=True))\n",
        "fig.update_xaxes(title='',col=1, row=1, \n",
        "                tickvals=list(range(len(attr_max_iter))), \n",
        "                ticktext=list(map(str, attr_max_iter)))\n",
        "fig.update_layout(title=title_style.format('Model\\'s error according to the max_iter and the number of hidden layers')).show()    "
      ],
      "execution_count": null,
      "outputs": []
    },
    {
      "cell_type": "code",
      "metadata": {
        "ExecuteTime": {
          "end_time": "2020-08-26T23:26:20.478964Z",
          "start_time": "2020-08-26T23:26:20.413572Z"
        },
        "id": "-_BvgPlAnWWV"
      },
      "source": [
        "fig = make_subplots(rows=1, cols=2, column_widths=[0.7, 0.3], shared_yaxes=True, subplot_titles=['Lines plot', 'Boxplot'])\n",
        "scatter = list()\n",
        "box = list()\n",
        "for i, max_iter in enumerate(attr_max_iter):\n",
        "        scatter.append(go.Scatter(\n",
        "            x=results_2[max_iter].index,\n",
        "            y=results_2[max_iter]['time'],\n",
        "            name=f'<span style=\"font-size=8px;\"> {max_iter} - Line</span>',\n",
        "            marker=dict(color=colors[i]),\n",
        "            legendgroup=max_iter\n",
        "        ))\n",
        "        box.append(go.Box(\n",
        "            y=results_2[max_iter]['time'],\n",
        "            name=f'<span style=\"font-size=8px;\"> {max_iter} - Line</span>',\n",
        "            marker=dict(color=colors[i]),\n",
        "            legendgroup=max_iter\n",
        "        ))\n",
        "\n",
        "for plot in scatter:\n",
        "    fig.add_trace(plot, row=1, col=1)\n",
        "fig.update_xaxes(\n",
        "            rangeslider=dict(visible=True), type='log', \n",
        "            title='Hidden layers',\n",
        "            row=1, col=1).update_yaxes(\n",
        "            title='Seconds',\n",
        "            row=1, col=1)    \n",
        "for plot in box:\n",
        "    fig.add_trace(plot, row=1, col=2)\n",
        "fig.update_xaxes(\n",
        "            title='Activation function',\n",
        "            row=1, col=2).update_yaxes(\n",
        "            visible=False,\n",
        "            row=1, col=2).update_xaxes(tickvals=list(range(len(attr_max_iter))), \n",
        "                                       ticktext=attr_max_iter, row=1, col=2)\n",
        "\n",
        "fig.update_layout(\n",
        "#                 xaxis=dict(type='log', title='hidden layers'), \n",
        "#                 yaxis=dict(title='Execution Seconds'),\n",
        "                legend=dict(title=subtitle_style.format('Activation function')),\n",
        "                title=title_style.format('Execution time for model\\'s training according the max_iter function and hidden layers')\n",
        ")"
      ],
      "execution_count": null,
      "outputs": []
    },
    {
      "cell_type": "code",
      "metadata": {
        "ExecuteTime": {
          "end_time": "2020-08-18T23:47:42.047473Z",
          "start_time": "2020-08-18T23:47:41.968758Z"
        },
        "id": "L8FHLykGnWWX"
      },
      "source": [
        "figure = go.Figure()\n",
        "figure.add_trace(\n",
        "    go.Scatter(x=results.index, y=results.Target, name='True values')\n",
        ")\n",
        "figure.add_trace(\n",
        "    go.Scatter(x=results.index, y=results.Prediction, name='Predicted values')\n",
        ")\n",
        "figure.update_layout(xaxis=dict(rangeslider=dict(visible=True)))"
      ],
      "execution_count": null,
      "outputs": []
    },
    {
      "cell_type": "code",
      "metadata": {
        "ExecuteTime": {
          "end_time": "2020-08-17T16:54:10.792013Z",
          "start_time": "2020-08-17T16:54:10.789177Z"
        },
        "id": "zBJRdselnWWX"
      },
      "source": [
        "tmp_shift_2 = tmp.shift(2)"
      ],
      "execution_count": null,
      "outputs": []
    },
    {
      "cell_type": "code",
      "metadata": {
        "ExecuteTime": {
          "end_time": "2020-08-17T16:56:27.902354Z",
          "start_time": "2020-08-17T16:56:27.878762Z"
        },
        "id": "ZV3GQzgsnWWY"
      },
      "source": [
        "pd.concat([tmp_shift, tmp_shift_2], axis=\"columns\")"
      ],
      "execution_count": null,
      "outputs": []
    },
    {
      "cell_type": "code",
      "metadata": {
        "id": "4qf6220ynWWZ"
      },
      "source": [
        ""
      ],
      "execution_count": null,
      "outputs": []
    }
  ]
}